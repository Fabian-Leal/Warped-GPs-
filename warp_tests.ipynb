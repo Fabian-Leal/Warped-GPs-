{
 "cells": [
  {
   "cell_type": "code",
   "execution_count": 656,
   "metadata": {},
   "outputs": [],
   "source": [
    "import numpy as np # Numpy is a popular numeric computation package\n",
    "import pandas as pd # Pandas is a friendly data wrangling package/library\n",
    "from scipy import linalg\n",
    "import matplotlib.pyplot as pl\n",
    "\n",
    "# Setting a specific random seed, to get reproducibility across students.\n",
    "# @Students, you can remove or change to your own seed to try with your own training subsets.\n",
    "np.random.seed(100) "
   ]
  },
  {
   "cell_type": "code",
   "execution_count": 657,
   "metadata": {},
   "outputs": [],
   "source": [
    "import pandas as pd\n",
    "import numpy as np\n",
    "\n",
    "# Transformation (BoxCox)\n",
    "from scipy import stats\n",
    "from scipy.special import boxcox, inv_boxcox\n",
    "\n",
    "# Plotting\n",
    "import plotly.express as px\n",
    "import plotly.graph_objects as go\n",
    "\n",
    "import torch\n",
    "import gpytorch\n",
    "from gpytorch.mlls.exact_marginal_log_likelihood import ExactMarginalLogLikelihood\n",
    "\n",
    "# Reproducibility\n",
    "import watermark"
   ]
  },
  {
   "cell_type": "code",
   "execution_count": 658,
   "metadata": {},
   "outputs": [],
   "source": [
    "adt = pd.read_csv(\"../Warping-tests/engineered_data/assay_desurveyed_transformed_Mlith_domain.csv\")\n",
    "domained = pd.read_csv('../Warping-tests/engineered_data/blockmodel_domained_NN.csv')"
   ]
  },
  {
   "cell_type": "code",
   "execution_count": 659,
   "metadata": {},
   "outputs": [
    {
     "data": {
      "text/plain": [
       "array(['CLAY', 'AND_BAD_BIGD_RHY', 'IGN', 'QMD', 'FLT_HBX_HWS', 'VA',\n",
       "       'INTR'], dtype=object)"
      ]
     },
     "execution_count": 659,
     "metadata": {},
     "output_type": "execute_result"
    }
   ],
   "source": [
    "adt.MLITHGROUPINGS2.unique()"
   ]
  },
  {
   "cell_type": "code",
   "execution_count": 660,
   "metadata": {},
   "outputs": [
    {
     "name": "stdout",
     "output_type": "stream",
     "text": [
      "0\n"
     ]
    },
    {
     "data": {
      "text/html": [
       "<div>\n",
       "<style scoped>\n",
       "    .dataframe tbody tr th:only-of-type {\n",
       "        vertical-align: middle;\n",
       "    }\n",
       "\n",
       "    .dataframe tbody tr th {\n",
       "        vertical-align: top;\n",
       "    }\n",
       "\n",
       "    .dataframe thead th {\n",
       "        text-align: right;\n",
       "    }\n",
       "</style>\n",
       "<table border=\"1\" class=\"dataframe\">\n",
       "  <thead>\n",
       "    <tr style=\"text-align: right;\">\n",
       "      <th></th>\n",
       "      <th>HOLEID</th>\n",
       "      <th>EAST_mid_tf</th>\n",
       "      <th>NORTH_mid_tf</th>\n",
       "      <th>RL_mid_tf</th>\n",
       "      <th>Cu_pct</th>\n",
       "    </tr>\n",
       "  </thead>\n",
       "  <tbody>\n",
       "    <tr>\n",
       "      <th>1717</th>\n",
       "      <td>OTD1425</td>\n",
       "      <td>-489.699937</td>\n",
       "      <td>93.725340</td>\n",
       "      <td>1747.734096</td>\n",
       "      <td>0.00000</td>\n",
       "    </tr>\n",
       "    <tr>\n",
       "      <th>3310</th>\n",
       "      <td>OTD1769</td>\n",
       "      <td>445.987252</td>\n",
       "      <td>1190.506493</td>\n",
       "      <td>277.690835</td>\n",
       "      <td>0.01285</td>\n",
       "    </tr>\n",
       "    <tr>\n",
       "      <th>3311</th>\n",
       "      <td>OTD1769</td>\n",
       "      <td>446.779556</td>\n",
       "      <td>1190.589769</td>\n",
       "      <td>275.856367</td>\n",
       "      <td>0.22400</td>\n",
       "    </tr>\n",
       "    <tr>\n",
       "      <th>4587</th>\n",
       "      <td>OTD1772</td>\n",
       "      <td>-367.617547</td>\n",
       "      <td>98.543817</td>\n",
       "      <td>1717.673993</td>\n",
       "      <td>0.06670</td>\n",
       "    </tr>\n",
       "    <tr>\n",
       "      <th>4588</th>\n",
       "      <td>OTD1772</td>\n",
       "      <td>-367.981943</td>\n",
       "      <td>98.529202</td>\n",
       "      <td>1715.707525</td>\n",
       "      <td>0.01400</td>\n",
       "    </tr>\n",
       "    <tr>\n",
       "      <th>...</th>\n",
       "      <td>...</td>\n",
       "      <td>...</td>\n",
       "      <td>...</td>\n",
       "      <td>...</td>\n",
       "      <td>...</td>\n",
       "    </tr>\n",
       "    <tr>\n",
       "      <th>42351</th>\n",
       "      <td>OTRC2402</td>\n",
       "      <td>171.934690</td>\n",
       "      <td>110.366182</td>\n",
       "      <td>1612.646600</td>\n",
       "      <td>0.00000</td>\n",
       "    </tr>\n",
       "    <tr>\n",
       "      <th>42352</th>\n",
       "      <td>OTRC2402</td>\n",
       "      <td>171.287201</td>\n",
       "      <td>110.909489</td>\n",
       "      <td>1610.833984</td>\n",
       "      <td>0.00000</td>\n",
       "    </tr>\n",
       "    <tr>\n",
       "      <th>42356</th>\n",
       "      <td>OTRC2402</td>\n",
       "      <td>168.697246</td>\n",
       "      <td>113.082719</td>\n",
       "      <td>1603.583522</td>\n",
       "      <td>0.00000</td>\n",
       "    </tr>\n",
       "    <tr>\n",
       "      <th>42358</th>\n",
       "      <td>OTRC2402</td>\n",
       "      <td>167.402269</td>\n",
       "      <td>114.169335</td>\n",
       "      <td>1599.958291</td>\n",
       "      <td>0.00000</td>\n",
       "    </tr>\n",
       "    <tr>\n",
       "      <th>42359</th>\n",
       "      <td>OTRC2402</td>\n",
       "      <td>166.754780</td>\n",
       "      <td>114.712642</td>\n",
       "      <td>1598.145675</td>\n",
       "      <td>0.00000</td>\n",
       "    </tr>\n",
       "  </tbody>\n",
       "</table>\n",
       "<p>230 rows × 5 columns</p>\n",
       "</div>"
      ],
      "text/plain": [
       "         HOLEID  EAST_mid_tf  NORTH_mid_tf    RL_mid_tf   Cu_pct\n",
       "1717    OTD1425  -489.699937     93.725340  1747.734096  0.00000\n",
       "3310    OTD1769   445.987252   1190.506493   277.690835  0.01285\n",
       "3311    OTD1769   446.779556   1190.589769   275.856367  0.22400\n",
       "4587    OTD1772  -367.617547     98.543817  1717.673993  0.06670\n",
       "4588    OTD1772  -367.981943     98.529202  1715.707525  0.01400\n",
       "...         ...          ...           ...          ...      ...\n",
       "42351  OTRC2402   171.934690    110.366182  1612.646600  0.00000\n",
       "42352  OTRC2402   171.287201    110.909489  1610.833984  0.00000\n",
       "42356  OTRC2402   168.697246    113.082719  1603.583522  0.00000\n",
       "42358  OTRC2402   167.402269    114.169335  1599.958291  0.00000\n",
       "42359  OTRC2402   166.754780    114.712642  1598.145675  0.00000\n",
       "\n",
       "[230 rows x 5 columns]"
      ]
     },
     "execution_count": 660,
     "metadata": {},
     "output_type": "execute_result"
    }
   ],
   "source": [
    "# subset assay data by domains\n",
    "adt_FLT_HBX_HWS = adt[adt[\"MLITHGROUPINGS2\"] == \"INTR\"]\n",
    "adt_FLT_HBX_HWS_Cu = adt_FLT_HBX_HWS.loc[:,[\"HOLEID\", 'EAST_mid_tf', 'NORTH_mid_tf', 'RL_mid_tf', 'Cu_pct']]\n",
    "\n",
    "# NaN values causing trouble\n",
    "#adt_FLT_HBX_HWS_Cu[\"Cu_pct\"] = adt_FLT_HBX_HWS_Cu[\"Cu_pct\"].fillna(0)\n",
    "print(adt_FLT_HBX_HWS_Cu[\"Cu_pct\"].isna().sum())\n",
    "adt_FLT_HBX_HWS_Cu"
   ]
  },
  {
   "cell_type": "code",
   "execution_count": 661,
   "metadata": {},
   "outputs": [],
   "source": [
    "adt_FLT_HBX_HWS_Cu = adt_FLT_HBX_HWS_Cu.dropna(subset=['Cu_pct'])"
   ]
  },
  {
   "cell_type": "code",
   "execution_count": 662,
   "metadata": {},
   "outputs": [
    {
     "name": "stdout",
     "output_type": "stream",
     "text": [
      "x has shape (230,3) and has range [-489.700,1747.734]\n",
      "y has shape (230,1) and has range [0.000,1.055]\n"
     ]
    }
   ],
   "source": [
    "x = adt_FLT_HBX_HWS_Cu[['EAST_mid_tf','NORTH_mid_tf', 'RL_mid_tf']].values[:,np.newaxis] #[:,np.newaxis] makes the second dimension explicit\n",
    "y = adt_FLT_HBX_HWS_Cu['Cu_pct'].values[:,np.newaxis] #[:,np.newaxis] makes the second dimension explicit\n",
    "x = x.reshape(len(adt_FLT_HBX_HWS_Cu),3)\n",
    "\n",
    "print(f\"x has shape ({x.shape[0]},{x.shape[1]}) and has range [{np.min(x):.3f},{np.max(x):.3f}]\")\n",
    "print(f\"y has shape ({y.shape[0]},{y.shape[1]}) and has range [{np.min(y):.3f},{np.max(y):.3f}]\")"
   ]
  },
  {
   "cell_type": "code",
   "execution_count": 112,
   "metadata": {},
   "outputs": [],
   "source": [
    "def calc_moving_avg(dataframe, variable_name_str, window_size = 5, ):\n",
    "    index_var = int(np.where(adt_FLT_HBX_HWS_Cu.columns == \"Cu_pct\")[0])\n",
    "    i = 0\n",
    "    # List fo all holeids\n",
    "    holeid_list = np.unique(dataframe[\"HOLEID\"]).reshape(-1)\n",
    "    # empty container\n",
    "    moving_avg_list = []\n",
    "    # Iterate over all holes\n",
    "    for i in range(holeid_list.shape[0]):\n",
    "        # Retrieve name of holeid\n",
    "        holeid = holeid_list[i]\n",
    "        # Create subset\n",
    "        dataframe_holeid_subset = dataframe[dataframe[\"HOLEID\"] == holeid]\n",
    "        # Iterate over all rows in subset\n",
    "        subset_length = dataframe_holeid_subset.shape[0]\n",
    "        j = 0\n",
    "        # end not included\n",
    "        for j in range(subset_length):\n",
    "            if (j < ((window_size - 1)/2)):\n",
    "                ma = np.mean(dataframe_holeid_subset.iloc[0:int(j + ((window_size - 1)/2) + 1), index_var])\n",
    "                moving_avg_list.append(ma)\n",
    "                j = j + 1\n",
    "            elif (j > (subset_length - ((window_size - 1)/2) - 2)):\n",
    "                ma = np.mean(dataframe_holeid_subset.iloc[j:subset_length, index_var])\n",
    "                moving_avg_list.append(ma)\n",
    "                j = j + 1\n",
    "            else:\n",
    "                ma = np.mean(dataframe_holeid_subset.iloc[(j-2):(j+3), index_var])\n",
    "                moving_avg_list.append(ma)\n",
    "                j = j + 1\n",
    "        i = i + 1\n",
    "    return(moving_avg_list)"
   ]
  },
  {
   "cell_type": "code",
   "execution_count": 134,
   "metadata": {},
   "outputs": [],
   "source": [
    "moving_average_list = calc_moving_avg(window_size = 5, dataframe = adt_FLT_HBX_HWS_Cu, variable_name_str = \"Cu_pct\")\n",
    "\n",
    "adt_FLT_HBX_HWS_Cu[\"moving_average_Cu_pct\"] = moving_average_list"
   ]
  },
  {
   "cell_type": "code",
   "execution_count": 135,
   "metadata": {},
   "outputs": [
    {
     "name": "stdout",
     "output_type": "stream",
     "text": [
      "The maxlog lamda parameter used for the BoxCox transformation was 0.1672159022176572\n"
     ]
    },
    {
     "data": {
      "application/vnd.plotly.v1+json": {
       "config": {
        "plotlyServerURL": "https://plot.ly"
       },
       "data": [
        {
         "alignmentgroup": "True",
         "bingroup": "x",
         "hovertemplate": "bc_ma_Cu_pct=%{x}<br>count=%{y}<extra></extra>",
         "legendgroup": "",
         "marker": {
          "color": "#636efa",
          "pattern": {
           "shape": ""
          }
         },
         "name": "",
         "offsetgroup": "",
         "orientation": "v",
         "showlegend": false,
         "type": "histogram",
         "x": [
          -5.108038579608872,
          -1.7943470901391596,
          -1.7943470901391596,
          -2.663103381462571,
          -2.7880257020749464,
          -3.4228310371175277,
          -3.4756659504665217,
          -3.4606350506279195,
          -5.108038579608872,
          -3.570348041773219,
          -3.564833943939723,
          -3.5217154515810756,
          -3.5416368046125206,
          -3.534715275727156,
          -3.664174751930449,
          -3.6294088731537903,
          -3.6103202465244277,
          -3.5605579408735286,
          -3.506987338280521,
          -3.5230001074345996,
          -3.518823274087929,
          -3.5016554745606148,
          -3.511065079311089,
          -3.4978133289426276,
          -3.4655459177886327,
          -3.41926822538076,
          -3.329555532589056,
          -3.314582573504591,
          -3.3434246256115228,
          -3.3658582105530392,
          -3.4264187407597797,
          -3.5787388714606694,
          -3.5891967189132092,
          -3.569978475558557,
          -3.616691443175648,
          -3.626775483551509,
          -3.5851768478156383,
          -3.612434503723397,
          -3.633690038547846,
          -3.6370794128225437,
          -3.6261518801446764,
          -3.6484845774707364,
          -3.5825154839333275,
          -3.5261983147038154,
          -3.0411917176926795,
          -2.9947378173014405,
          -1.325180602863192,
          -1.1518452433478048,
          -1.1215859522758842,
          -1.081268269071238,
          -1.0404377159247393,
          -1.7831048017433382,
          -2.0809926004707617,
          -2.066817216705144,
          -2.0646716094684203,
          -2.224455539120738,
          -2.3405289994620677,
          -2.492274531013553,
          -2.6937031298696255,
          -3.047137041532917,
          -3.002904373687835,
          -2.8393180035285077,
          -2.767007735889891,
          -2.6978163130285076,
          -2.7208281872056745,
          -2.711850594654339,
          -2.8058777061258655,
          -2.8652928537659816,
          -2.9062630877300575,
          -2.9504437142756195,
          -3.025914347556838,
          -3.052301264302309,
          -3.0025820081293295,
          -3.048458672908378,
          -3.050901052484197,
          -3.069802835982506,
          -3.1537462145645994,
          -3.3370861433120584,
          -3.542159881363478,
          -3.6901586994278692,
          -3.6595049530664467,
          -3.6345350977521624,
          -3.5922822261679306,
          -3.0918062491270883,
          -3.0766311383909684,
          -3.0814000340921957,
          -3.1018070950433336,
          -3.134798648347782,
          -3.760889011889156,
          -3.92821103269113,
          -4.101649196766499,
          -4.071150084529688,
          -4.062288733116245,
          -4.1269573800785135,
          -4.06039156420159,
          -4.0496461877373,
          -4.079376588178761,
          -4.122945422333619,
          -4.140747006671998,
          -4.035032091744758,
          -4.0412593966540715,
          -4.0214118585864425,
          -3.984624415687588,
          -3.9541659320198894,
          -4.0574209018665846,
          -4.050092657281799,
          -2.6112108228985114,
          -1.4920560775290554,
          -1.1788620829853544,
          -0.8911064937206844,
          -2.833171866463942,
          -2.8445897254298482,
          -2.9087433139513936,
          -2.947789214652815,
          -3.0531429948060316,
          -3.1846537607014644,
          -3.355608540759539,
          -3.3779486672983476,
          -3.4359224848446575,
          -3.379211139759113,
          -3.3593679470136615,
          -3.323720619395439,
          -3.3462662600172166,
          -3.4492134395277083,
          -3.5230001074345996,
          -3.5547056405036317,
          -3.5673993813779745,
          -3.560286278691984,
          -3.5295874261054108,
          -3.55220616986303,
          -3.638783298093261,
          -3.445558459962577,
          -3.216147891224648,
          -2.9316703018624017,
          -2.823460672781644,
          -3.215525736428389,
          -2.4828175923447895,
          -2.1335296803716615,
          -1.4167670630676603,
          -1.2970487331325475,
          -1.181851269589969,
          -3.009932020689692,
          -2.8484003475370065,
          -2.764410225823102,
          -2.711688498113199,
          -2.5515768596851447,
          -2.4948887059798825,
          -2.5191414939549857,
          -2.5677311128743643,
          -2.6081338150812616,
          -2.729514133058534,
          -2.580601159063596,
          -2.5576708120455702,
          -2.525262192458961,
          -2.2330023041699056,
          -2.2075875040122948,
          -2.0615462163983813,
          -1.8012606687318475,
          -1.6884005666359474,
          -1.5641247489698369,
          -1.5674809104121217,
          -1.678336022124357,
          -1.3302360596546186,
          -1.035630807555537,
          -0.4926662134632268,
          -1.6097347743009378,
          -1.7831922807148703,
          -1.9101639758496467,
          -2.486697051010271,
          -2.8720233844709404,
          -2.9439752501719196,
          -2.8422895533152217,
          -2.6954401931296204,
          -2.6163353698428464,
          -2.542535864319995,
          -2.5650556180662756,
          -2.6827160713984424,
          -2.872804672556869,
          -2.949852824070007,
          -3.042913837878865,
          -3.008541557729333,
          -2.9611791813288106,
          -2.9369961408785255,
          -3.02752527903155,
          -2.8380346680814283,
          -2.8098270745668668,
          -2.6173544095504893,
          -2.5300122016913136,
          -2.441359757977051,
          -2.0548439365721807,
          -1.7292231401216371,
          -1.7854991682854517,
          -1.8255279197552343,
          -1.7605147593241344,
          -1.7271132949182713,
          -2.0350244184599755,
          -2.025007667594611,
          -1.951927007607174,
          -1.9870217467323423,
          -2.4515245254991638,
          -2.5025820622877886,
          -2.5225011992414696,
          -2.6664373249805062,
          -2.9482602804222076,
          -3.1637769123822146,
          -3.1663339657460563,
          -1.954607269443832,
          -0.9343746619534837,
          -0.5913501475955721,
          -0.41992191208836455,
          -5.108038579608872,
          -5.108038579608872,
          -5.108038579608872,
          -5.108038579608872,
          -5.108038579608872,
          -5.108038579608872,
          -5.108038579608872,
          -5.108038579608872,
          -5.108038579608872,
          -5.108038579608872,
          -5.108038579608872,
          -5.108038579608872,
          -5.108038579608872,
          -5.108038579608872,
          -5.108038579608872,
          -5.108038579608872,
          -5.108038579608872,
          -5.108038579608872,
          -5.108038579608872,
          -5.108038579608872
         ],
         "xaxis": "x",
         "yaxis": "y"
        }
       ],
       "layout": {
        "barmode": "relative",
        "legend": {
         "tracegroupgap": 0
        },
        "template": {
         "data": {
          "bar": [
           {
            "error_x": {
             "color": "#2a3f5f"
            },
            "error_y": {
             "color": "#2a3f5f"
            },
            "marker": {
             "line": {
              "color": "#E5ECF6",
              "width": 0.5
             },
             "pattern": {
              "fillmode": "overlay",
              "size": 10,
              "solidity": 0.2
             }
            },
            "type": "bar"
           }
          ],
          "barpolar": [
           {
            "marker": {
             "line": {
              "color": "#E5ECF6",
              "width": 0.5
             },
             "pattern": {
              "fillmode": "overlay",
              "size": 10,
              "solidity": 0.2
             }
            },
            "type": "barpolar"
           }
          ],
          "carpet": [
           {
            "aaxis": {
             "endlinecolor": "#2a3f5f",
             "gridcolor": "white",
             "linecolor": "white",
             "minorgridcolor": "white",
             "startlinecolor": "#2a3f5f"
            },
            "baxis": {
             "endlinecolor": "#2a3f5f",
             "gridcolor": "white",
             "linecolor": "white",
             "minorgridcolor": "white",
             "startlinecolor": "#2a3f5f"
            },
            "type": "carpet"
           }
          ],
          "choropleth": [
           {
            "colorbar": {
             "outlinewidth": 0,
             "ticks": ""
            },
            "type": "choropleth"
           }
          ],
          "contour": [
           {
            "colorbar": {
             "outlinewidth": 0,
             "ticks": ""
            },
            "colorscale": [
             [
              0,
              "#0d0887"
             ],
             [
              0.1111111111111111,
              "#46039f"
             ],
             [
              0.2222222222222222,
              "#7201a8"
             ],
             [
              0.3333333333333333,
              "#9c179e"
             ],
             [
              0.4444444444444444,
              "#bd3786"
             ],
             [
              0.5555555555555556,
              "#d8576b"
             ],
             [
              0.6666666666666666,
              "#ed7953"
             ],
             [
              0.7777777777777778,
              "#fb9f3a"
             ],
             [
              0.8888888888888888,
              "#fdca26"
             ],
             [
              1,
              "#f0f921"
             ]
            ],
            "type": "contour"
           }
          ],
          "contourcarpet": [
           {
            "colorbar": {
             "outlinewidth": 0,
             "ticks": ""
            },
            "type": "contourcarpet"
           }
          ],
          "heatmap": [
           {
            "colorbar": {
             "outlinewidth": 0,
             "ticks": ""
            },
            "colorscale": [
             [
              0,
              "#0d0887"
             ],
             [
              0.1111111111111111,
              "#46039f"
             ],
             [
              0.2222222222222222,
              "#7201a8"
             ],
             [
              0.3333333333333333,
              "#9c179e"
             ],
             [
              0.4444444444444444,
              "#bd3786"
             ],
             [
              0.5555555555555556,
              "#d8576b"
             ],
             [
              0.6666666666666666,
              "#ed7953"
             ],
             [
              0.7777777777777778,
              "#fb9f3a"
             ],
             [
              0.8888888888888888,
              "#fdca26"
             ],
             [
              1,
              "#f0f921"
             ]
            ],
            "type": "heatmap"
           }
          ],
          "heatmapgl": [
           {
            "colorbar": {
             "outlinewidth": 0,
             "ticks": ""
            },
            "colorscale": [
             [
              0,
              "#0d0887"
             ],
             [
              0.1111111111111111,
              "#46039f"
             ],
             [
              0.2222222222222222,
              "#7201a8"
             ],
             [
              0.3333333333333333,
              "#9c179e"
             ],
             [
              0.4444444444444444,
              "#bd3786"
             ],
             [
              0.5555555555555556,
              "#d8576b"
             ],
             [
              0.6666666666666666,
              "#ed7953"
             ],
             [
              0.7777777777777778,
              "#fb9f3a"
             ],
             [
              0.8888888888888888,
              "#fdca26"
             ],
             [
              1,
              "#f0f921"
             ]
            ],
            "type": "heatmapgl"
           }
          ],
          "histogram": [
           {
            "marker": {
             "pattern": {
              "fillmode": "overlay",
              "size": 10,
              "solidity": 0.2
             }
            },
            "type": "histogram"
           }
          ],
          "histogram2d": [
           {
            "colorbar": {
             "outlinewidth": 0,
             "ticks": ""
            },
            "colorscale": [
             [
              0,
              "#0d0887"
             ],
             [
              0.1111111111111111,
              "#46039f"
             ],
             [
              0.2222222222222222,
              "#7201a8"
             ],
             [
              0.3333333333333333,
              "#9c179e"
             ],
             [
              0.4444444444444444,
              "#bd3786"
             ],
             [
              0.5555555555555556,
              "#d8576b"
             ],
             [
              0.6666666666666666,
              "#ed7953"
             ],
             [
              0.7777777777777778,
              "#fb9f3a"
             ],
             [
              0.8888888888888888,
              "#fdca26"
             ],
             [
              1,
              "#f0f921"
             ]
            ],
            "type": "histogram2d"
           }
          ],
          "histogram2dcontour": [
           {
            "colorbar": {
             "outlinewidth": 0,
             "ticks": ""
            },
            "colorscale": [
             [
              0,
              "#0d0887"
             ],
             [
              0.1111111111111111,
              "#46039f"
             ],
             [
              0.2222222222222222,
              "#7201a8"
             ],
             [
              0.3333333333333333,
              "#9c179e"
             ],
             [
              0.4444444444444444,
              "#bd3786"
             ],
             [
              0.5555555555555556,
              "#d8576b"
             ],
             [
              0.6666666666666666,
              "#ed7953"
             ],
             [
              0.7777777777777778,
              "#fb9f3a"
             ],
             [
              0.8888888888888888,
              "#fdca26"
             ],
             [
              1,
              "#f0f921"
             ]
            ],
            "type": "histogram2dcontour"
           }
          ],
          "mesh3d": [
           {
            "colorbar": {
             "outlinewidth": 0,
             "ticks": ""
            },
            "type": "mesh3d"
           }
          ],
          "parcoords": [
           {
            "line": {
             "colorbar": {
              "outlinewidth": 0,
              "ticks": ""
             }
            },
            "type": "parcoords"
           }
          ],
          "pie": [
           {
            "automargin": true,
            "type": "pie"
           }
          ],
          "scatter": [
           {
            "fillpattern": {
             "fillmode": "overlay",
             "size": 10,
             "solidity": 0.2
            },
            "type": "scatter"
           }
          ],
          "scatter3d": [
           {
            "line": {
             "colorbar": {
              "outlinewidth": 0,
              "ticks": ""
             }
            },
            "marker": {
             "colorbar": {
              "outlinewidth": 0,
              "ticks": ""
             }
            },
            "type": "scatter3d"
           }
          ],
          "scattercarpet": [
           {
            "marker": {
             "colorbar": {
              "outlinewidth": 0,
              "ticks": ""
             }
            },
            "type": "scattercarpet"
           }
          ],
          "scattergeo": [
           {
            "marker": {
             "colorbar": {
              "outlinewidth": 0,
              "ticks": ""
             }
            },
            "type": "scattergeo"
           }
          ],
          "scattergl": [
           {
            "marker": {
             "colorbar": {
              "outlinewidth": 0,
              "ticks": ""
             }
            },
            "type": "scattergl"
           }
          ],
          "scattermapbox": [
           {
            "marker": {
             "colorbar": {
              "outlinewidth": 0,
              "ticks": ""
             }
            },
            "type": "scattermapbox"
           }
          ],
          "scatterpolar": [
           {
            "marker": {
             "colorbar": {
              "outlinewidth": 0,
              "ticks": ""
             }
            },
            "type": "scatterpolar"
           }
          ],
          "scatterpolargl": [
           {
            "marker": {
             "colorbar": {
              "outlinewidth": 0,
              "ticks": ""
             }
            },
            "type": "scatterpolargl"
           }
          ],
          "scatterternary": [
           {
            "marker": {
             "colorbar": {
              "outlinewidth": 0,
              "ticks": ""
             }
            },
            "type": "scatterternary"
           }
          ],
          "surface": [
           {
            "colorbar": {
             "outlinewidth": 0,
             "ticks": ""
            },
            "colorscale": [
             [
              0,
              "#0d0887"
             ],
             [
              0.1111111111111111,
              "#46039f"
             ],
             [
              0.2222222222222222,
              "#7201a8"
             ],
             [
              0.3333333333333333,
              "#9c179e"
             ],
             [
              0.4444444444444444,
              "#bd3786"
             ],
             [
              0.5555555555555556,
              "#d8576b"
             ],
             [
              0.6666666666666666,
              "#ed7953"
             ],
             [
              0.7777777777777778,
              "#fb9f3a"
             ],
             [
              0.8888888888888888,
              "#fdca26"
             ],
             [
              1,
              "#f0f921"
             ]
            ],
            "type": "surface"
           }
          ],
          "table": [
           {
            "cells": {
             "fill": {
              "color": "#EBF0F8"
             },
             "line": {
              "color": "white"
             }
            },
            "header": {
             "fill": {
              "color": "#C8D4E3"
             },
             "line": {
              "color": "white"
             }
            },
            "type": "table"
           }
          ]
         },
         "layout": {
          "annotationdefaults": {
           "arrowcolor": "#2a3f5f",
           "arrowhead": 0,
           "arrowwidth": 1
          },
          "autotypenumbers": "strict",
          "coloraxis": {
           "colorbar": {
            "outlinewidth": 0,
            "ticks": ""
           }
          },
          "colorscale": {
           "diverging": [
            [
             0,
             "#8e0152"
            ],
            [
             0.1,
             "#c51b7d"
            ],
            [
             0.2,
             "#de77ae"
            ],
            [
             0.3,
             "#f1b6da"
            ],
            [
             0.4,
             "#fde0ef"
            ],
            [
             0.5,
             "#f7f7f7"
            ],
            [
             0.6,
             "#e6f5d0"
            ],
            [
             0.7,
             "#b8e186"
            ],
            [
             0.8,
             "#7fbc41"
            ],
            [
             0.9,
             "#4d9221"
            ],
            [
             1,
             "#276419"
            ]
           ],
           "sequential": [
            [
             0,
             "#0d0887"
            ],
            [
             0.1111111111111111,
             "#46039f"
            ],
            [
             0.2222222222222222,
             "#7201a8"
            ],
            [
             0.3333333333333333,
             "#9c179e"
            ],
            [
             0.4444444444444444,
             "#bd3786"
            ],
            [
             0.5555555555555556,
             "#d8576b"
            ],
            [
             0.6666666666666666,
             "#ed7953"
            ],
            [
             0.7777777777777778,
             "#fb9f3a"
            ],
            [
             0.8888888888888888,
             "#fdca26"
            ],
            [
             1,
             "#f0f921"
            ]
           ],
           "sequentialminus": [
            [
             0,
             "#0d0887"
            ],
            [
             0.1111111111111111,
             "#46039f"
            ],
            [
             0.2222222222222222,
             "#7201a8"
            ],
            [
             0.3333333333333333,
             "#9c179e"
            ],
            [
             0.4444444444444444,
             "#bd3786"
            ],
            [
             0.5555555555555556,
             "#d8576b"
            ],
            [
             0.6666666666666666,
             "#ed7953"
            ],
            [
             0.7777777777777778,
             "#fb9f3a"
            ],
            [
             0.8888888888888888,
             "#fdca26"
            ],
            [
             1,
             "#f0f921"
            ]
           ]
          },
          "colorway": [
           "#636efa",
           "#EF553B",
           "#00cc96",
           "#ab63fa",
           "#FFA15A",
           "#19d3f3",
           "#FF6692",
           "#B6E880",
           "#FF97FF",
           "#FECB52"
          ],
          "font": {
           "color": "#2a3f5f"
          },
          "geo": {
           "bgcolor": "white",
           "lakecolor": "white",
           "landcolor": "#E5ECF6",
           "showlakes": true,
           "showland": true,
           "subunitcolor": "white"
          },
          "hoverlabel": {
           "align": "left"
          },
          "hovermode": "closest",
          "mapbox": {
           "style": "light"
          },
          "paper_bgcolor": "white",
          "plot_bgcolor": "#E5ECF6",
          "polar": {
           "angularaxis": {
            "gridcolor": "white",
            "linecolor": "white",
            "ticks": ""
           },
           "bgcolor": "#E5ECF6",
           "radialaxis": {
            "gridcolor": "white",
            "linecolor": "white",
            "ticks": ""
           }
          },
          "scene": {
           "xaxis": {
            "backgroundcolor": "#E5ECF6",
            "gridcolor": "white",
            "gridwidth": 2,
            "linecolor": "white",
            "showbackground": true,
            "ticks": "",
            "zerolinecolor": "white"
           },
           "yaxis": {
            "backgroundcolor": "#E5ECF6",
            "gridcolor": "white",
            "gridwidth": 2,
            "linecolor": "white",
            "showbackground": true,
            "ticks": "",
            "zerolinecolor": "white"
           },
           "zaxis": {
            "backgroundcolor": "#E5ECF6",
            "gridcolor": "white",
            "gridwidth": 2,
            "linecolor": "white",
            "showbackground": true,
            "ticks": "",
            "zerolinecolor": "white"
           }
          },
          "shapedefaults": {
           "line": {
            "color": "#2a3f5f"
           }
          },
          "ternary": {
           "aaxis": {
            "gridcolor": "white",
            "linecolor": "white",
            "ticks": ""
           },
           "baxis": {
            "gridcolor": "white",
            "linecolor": "white",
            "ticks": ""
           },
           "bgcolor": "#E5ECF6",
           "caxis": {
            "gridcolor": "white",
            "linecolor": "white",
            "ticks": ""
           }
          },
          "title": {
           "x": 0.05
          },
          "xaxis": {
           "automargin": true,
           "gridcolor": "white",
           "linecolor": "white",
           "ticks": "",
           "title": {
            "standoff": 15
           },
           "zerolinecolor": "white",
           "zerolinewidth": 2
          },
          "yaxis": {
           "automargin": true,
           "gridcolor": "white",
           "linecolor": "white",
           "ticks": "",
           "title": {
            "standoff": 15
           },
           "zerolinecolor": "white",
           "zerolinewidth": 2
          }
         }
        },
        "title": {
         "text": "Distribution of BoxCox transformed moving average Cu_pct values"
        },
        "xaxis": {
         "anchor": "y",
         "domain": [
          0,
          1
         ],
         "title": {
          "text": "bc_ma_Cu_pct"
         }
        },
        "yaxis": {
         "anchor": "x",
         "domain": [
          0,
          1
         ],
         "title": {
          "text": "count"
         }
        }
       }
      }
     },
     "metadata": {},
     "output_type": "display_data"
    }
   ],
   "source": [
    "epsilon_boxcox_shift = 0.00001\n",
    "xt, maxlog_lamda = stats.boxcox(adt_FLT_HBX_HWS_Cu[\"moving_average_Cu_pct\"] + epsilon_boxcox_shift)\n",
    "print(f\"The maxlog lamda parameter used for the BoxCox transformation was {maxlog_lamda}\")\n",
    "\n",
    "xt_df = pd.DataFrame(data = {\"bc_ma_Cu_pct\" : xt})\n",
    "fig = px.histogram(xt_df, x = \"bc_ma_Cu_pct\",\n",
    "                  title = \"Distribution of BoxCox transformed moving average Cu_pct values\")\n",
    "fig.show()"
   ]
  },
  {
   "cell_type": "code",
   "execution_count": 136,
   "metadata": {},
   "outputs": [
    {
     "name": "stdout",
     "output_type": "stream",
     "text": [
      "1717     0.000020\n",
      "3310     0.118445\n",
      "3311     0.118445\n",
      "4587     0.029477\n",
      "4588     0.023432\n",
      "           ...   \n",
      "42351    0.000020\n",
      "42352    0.000020\n",
      "42356    0.000020\n",
      "42358    0.000020\n",
      "42359    0.000020\n",
      "Name: bc_ma_Cu_pct, Length: 230, dtype: float64\n",
      "1717     0.000000\n",
      "3310     0.118425\n",
      "3311     0.118425\n",
      "4587     0.029457\n",
      "4588     0.023412\n",
      "           ...   \n",
      "42351    0.000000\n",
      "42352    0.000000\n",
      "42356    0.000000\n",
      "42358    0.000000\n",
      "42359    0.000000\n",
      "Name: moving_average_Cu_pct, Length: 230, dtype: float64\n"
     ]
    },
    {
     "data": {
      "text/plain": [
       "1.0275565573145868"
      ]
     },
     "execution_count": 136,
     "metadata": {},
     "output_type": "execute_result"
    }
   ],
   "source": [
    "adt_FLT_HBX_HWS_Cu[\"bc_ma_Cu_pct\"] = xt\n",
    "\n",
    "# print(stats.boxcox(x = (adt_FLT_HBX_HWS_Cu[\"moving_average_Cu_pct\"] + epsilon_boxcox_shift), lmbda = maxlog_lamda))\n",
    "# print(boxcox((adt_FLT_HBX_HWS_Cu[\"moving_average_Cu_pct\"] + epsilon_boxcox_shift), maxlog_lamda))\n",
    "\n",
    "# Slightly off (overflow)\n",
    "print(inv_boxcox(adt_FLT_HBX_HWS_Cu[\"bc_ma_Cu_pct\"], maxlog_lamda) + epsilon_boxcox_shift)\n",
    "print(adt_FLT_HBX_HWS_Cu[\"moving_average_Cu_pct\"])\n",
    "\n",
    "# Not standard normal, not zero-mean\n",
    "np.mean(adt_FLT_HBX_HWS_Cu[\"bc_ma_Cu_pct\"])\n",
    "np.std(adt_FLT_HBX_HWS_Cu[\"bc_ma_Cu_pct\"])\n"
   ]
  },
  {
   "cell_type": "code",
   "execution_count": 663,
   "metadata": {},
   "outputs": [],
   "source": [
    "holeid_list = np.unique(adt_FLT_HBX_HWS_Cu[\"HOLEID\"]).reshape(-1)\n",
    "# 150 holdeids for training\n",
    "# 65 holeids for val\n",
    "int(holeid_list.shape[0] * 0.7)\n",
    "\n",
    "np.random.seed(42)\n",
    "\n",
    "train_index_list = np.random.choice(holeid_list.shape[0], size = int(holeid_list.shape[0] * 0.7), replace = False)\n",
    "val_index_list = list(set(range(holeid_list.shape[0])).difference(train_index_list))\n",
    "\n",
    "holeid_list[train_index_list]\n",
    "holeid_list[val_index_list]\n",
    "\n",
    "train_subset = adt_FLT_HBX_HWS_Cu[adt_FLT_HBX_HWS_Cu[\"HOLEID\"].isin(holeid_list[train_index_list])]\n",
    "val_subset = adt_FLT_HBX_HWS_Cu[adt_FLT_HBX_HWS_Cu[\"HOLEID\"].isin(holeid_list[val_index_list])]"
   ]
  },
  {
   "cell_type": "code",
   "execution_count": 664,
   "metadata": {},
   "outputs": [
    {
     "data": {
      "text/html": [
       "<div>\n",
       "<style scoped>\n",
       "    .dataframe tbody tr th:only-of-type {\n",
       "        vertical-align: middle;\n",
       "    }\n",
       "\n",
       "    .dataframe tbody tr th {\n",
       "        vertical-align: top;\n",
       "    }\n",
       "\n",
       "    .dataframe thead th {\n",
       "        text-align: right;\n",
       "    }\n",
       "</style>\n",
       "<table border=\"1\" class=\"dataframe\">\n",
       "  <thead>\n",
       "    <tr style=\"text-align: right;\">\n",
       "      <th></th>\n",
       "      <th>HOLEID</th>\n",
       "      <th>EAST_mid_tf</th>\n",
       "      <th>NORTH_mid_tf</th>\n",
       "      <th>RL_mid_tf</th>\n",
       "      <th>Cu_pct</th>\n",
       "    </tr>\n",
       "  </thead>\n",
       "  <tbody>\n",
       "    <tr>\n",
       "      <th>1717</th>\n",
       "      <td>OTD1425</td>\n",
       "      <td>-489.699937</td>\n",
       "      <td>93.725340</td>\n",
       "      <td>1747.734096</td>\n",
       "      <td>0.00000</td>\n",
       "    </tr>\n",
       "    <tr>\n",
       "      <th>3310</th>\n",
       "      <td>OTD1769</td>\n",
       "      <td>445.987252</td>\n",
       "      <td>1190.506493</td>\n",
       "      <td>277.690835</td>\n",
       "      <td>0.01285</td>\n",
       "    </tr>\n",
       "    <tr>\n",
       "      <th>3311</th>\n",
       "      <td>OTD1769</td>\n",
       "      <td>446.779556</td>\n",
       "      <td>1190.589769</td>\n",
       "      <td>275.856367</td>\n",
       "      <td>0.22400</td>\n",
       "    </tr>\n",
       "    <tr>\n",
       "      <th>4587</th>\n",
       "      <td>OTD1772</td>\n",
       "      <td>-367.617547</td>\n",
       "      <td>98.543817</td>\n",
       "      <td>1717.673993</td>\n",
       "      <td>0.06670</td>\n",
       "    </tr>\n",
       "    <tr>\n",
       "      <th>4588</th>\n",
       "      <td>OTD1772</td>\n",
       "      <td>-367.981943</td>\n",
       "      <td>98.529202</td>\n",
       "      <td>1715.707525</td>\n",
       "      <td>0.01400</td>\n",
       "    </tr>\n",
       "    <tr>\n",
       "      <th>...</th>\n",
       "      <td>...</td>\n",
       "      <td>...</td>\n",
       "      <td>...</td>\n",
       "      <td>...</td>\n",
       "      <td>...</td>\n",
       "    </tr>\n",
       "    <tr>\n",
       "      <th>42351</th>\n",
       "      <td>OTRC2402</td>\n",
       "      <td>171.934690</td>\n",
       "      <td>110.366182</td>\n",
       "      <td>1612.646600</td>\n",
       "      <td>0.00000</td>\n",
       "    </tr>\n",
       "    <tr>\n",
       "      <th>42352</th>\n",
       "      <td>OTRC2402</td>\n",
       "      <td>171.287201</td>\n",
       "      <td>110.909489</td>\n",
       "      <td>1610.833984</td>\n",
       "      <td>0.00000</td>\n",
       "    </tr>\n",
       "    <tr>\n",
       "      <th>42356</th>\n",
       "      <td>OTRC2402</td>\n",
       "      <td>168.697246</td>\n",
       "      <td>113.082719</td>\n",
       "      <td>1603.583522</td>\n",
       "      <td>0.00000</td>\n",
       "    </tr>\n",
       "    <tr>\n",
       "      <th>42358</th>\n",
       "      <td>OTRC2402</td>\n",
       "      <td>167.402269</td>\n",
       "      <td>114.169335</td>\n",
       "      <td>1599.958291</td>\n",
       "      <td>0.00000</td>\n",
       "    </tr>\n",
       "    <tr>\n",
       "      <th>42359</th>\n",
       "      <td>OTRC2402</td>\n",
       "      <td>166.754780</td>\n",
       "      <td>114.712642</td>\n",
       "      <td>1598.145675</td>\n",
       "      <td>0.00000</td>\n",
       "    </tr>\n",
       "  </tbody>\n",
       "</table>\n",
       "<p>118 rows × 5 columns</p>\n",
       "</div>"
      ],
      "text/plain": [
       "         HOLEID  EAST_mid_tf  NORTH_mid_tf    RL_mid_tf   Cu_pct\n",
       "1717    OTD1425  -489.699937     93.725340  1747.734096  0.00000\n",
       "3310    OTD1769   445.987252   1190.506493   277.690835  0.01285\n",
       "3311    OTD1769   446.779556   1190.589769   275.856367  0.22400\n",
       "4587    OTD1772  -367.617547     98.543817  1717.673993  0.06670\n",
       "4588    OTD1772  -367.981943     98.529202  1715.707525  0.01400\n",
       "...         ...          ...           ...          ...      ...\n",
       "42351  OTRC2402   171.934690    110.366182  1612.646600  0.00000\n",
       "42352  OTRC2402   171.287201    110.909489  1610.833984  0.00000\n",
       "42356  OTRC2402   168.697246    113.082719  1603.583522  0.00000\n",
       "42358  OTRC2402   167.402269    114.169335  1599.958291  0.00000\n",
       "42359  OTRC2402   166.754780    114.712642  1598.145675  0.00000\n",
       "\n",
       "[118 rows x 5 columns]"
      ]
     },
     "execution_count": 664,
     "metadata": {},
     "output_type": "execute_result"
    }
   ],
   "source": [
    "train_subset"
   ]
  },
  {
   "cell_type": "code",
   "execution_count": 693,
   "metadata": {},
   "outputs": [
    {
     "name": "stdout",
     "output_type": "stream",
     "text": [
      "(118, 3)\n",
      "(118, 1)\n"
     ]
    }
   ],
   "source": [
    "# training data: torch.tensor format. Division my 1000 to have input and output dimensions similar\n",
    "train_x = np.array(train_subset.loc[:,['EAST_mid_tf', 'NORTH_mid_tf', 'RL_mid_tf']])\n",
    "# y expected to be scalar\n",
    "#train_y = np.array(train_subset.loc[:,['bc_ma_Cu_pct']])\n",
    "train_y = np.array(train_subset.loc[:,['Cu_pct']])*100\n",
    "\n",
    "# Validation data: torch.tensor format \n",
    "val_x = np.array(val_subset.loc[:,['EAST_mid_tf', 'NORTH_mid_tf', 'RL_mid_tf']])\n",
    "# y expected to be scalar\n",
    "#val_y = np.array(val_subset.loc[:,['bc_ma_Cu_pct']])\n",
    "val_y = np.array(val_subset.loc[:,['Cu_pct']])*100\n",
    "\n",
    "# MA: moving average (not transformed)\n",
    "\n",
    "print(train_x.shape)\n",
    "print(train_y.shape)"
   ]
  },
  {
   "cell_type": "code",
   "execution_count": 167,
   "metadata": {},
   "outputs": [],
   "source": [
    "def transform_to_tanh(y, a, b, c):\n",
    "    \"\"\"\n",
    "    Transforms a given variable to its hyperbolic tangent as a weighted sum.\n",
    "\n",
    "    Args:\n",
    "        t: A scalar or tensor to be transformed.\n",
    "        a: A 1D numpy array of length I containing the weights for each element in the sum.\n",
    "        b: A 1D numpy array of length I containing the scaling factors for each element in the sum.\n",
    "        c: A 1D numpy array of length I containing the offsets for each element in the sum.\n",
    "\n",
    "    Returns:\n",
    "        The hyperbolic tangent of y.\n",
    "    \"\"\"\n",
    "    # Compute the weighted sum of hyperbolic tangents\n",
    "    f = np.sum(a * np.tanh(b * (y + c)))\n",
    "    \n",
    "    return f"
   ]
  },
  {
   "cell_type": "code",
   "execution_count": 166,
   "metadata": {},
   "outputs": [],
   "source": [
    "def derivative_tanh(y, a, b, c):\n",
    "    \"\"\"\n",
    "    Computes the derivative of a given function with respect to t.\n",
    "\n",
    "    Args:\n",
    "        t: A scalar or tensor with respect to which to take the derivative.\n",
    "        a: A 1D numpy array of length I containing the weights for each element in f.\n",
    "        b: A 1D numpy array of length I containing the scaling factors for each element in f.\n",
    "        c: A 1D numpy array of length I containing the offsets for each element in f.\n",
    "\n",
    "    Returns:\n",
    "        The derivative of f with respect to t.\n",
    "    \"\"\"\n",
    "    # Compute the derivative of f with respect to t using the chain rule\n",
    "    df_dy = np.sum(a * b * (1 - np.tanh(b * (y + c)) ** 2))\n",
    "    \n",
    "    return df_dy"
   ]
  },
  {
   "cell_type": "code",
   "execution_count": 696,
   "metadata": {},
   "outputs": [],
   "source": [
    "class GP:\n",
    "    def __init__(self,cov_function_name, x_train, y_train, hyper_params, sigma_n):\n",
    "        self.cov_function_name = cov_function_name\n",
    "        self.x_train = x_train\n",
    "        self.y_train = y_train\n",
    "        self.hyper_params = hyper_params #params[0] is signal variance, params[1] is lengthscale\n",
    "        self.K = self.cov_func(self.x_train,self.x_train)\n",
    "        self.sigma_n = sigma_n\n",
    "        self.K_inv = np.linalg.pinv(self.K+np.eye(self.K.shape[0])*(self.sigma_n**2))\n",
    "        \n",
    "    def predict(self,x_star):\n",
    "        k_star = self.cov_func(self.x_train,x_star)\n",
    "        f_mean = np.dot(np.dot(np.transpose(k_star),self.K_inv),self.y_train)\n",
    "        f_std = self.cov_func(x_star, x_star) - np.dot(np.dot(np.transpose(k_star),self.K_inv),k_star)+np.eye(x_star.shape[0])*(self.sigma_n**2)\n",
    "        f_std = np.sqrt(np.diag(f_std))[:,np.newaxis]\n",
    "        return [f_mean,f_std]\n",
    "\n",
    "    def cov_func(self,x_1,x_2):\n",
    "        if self.cov_function_name == \"Squared Exponential\":\n",
    "            x_1_sq = np.sum(np.square(x_1),1)\n",
    "            x_2_sq = np.sum(np.square(x_2),1)\n",
    "            d = -2.*np.dot(x_1, x_2.T) + (x_1_sq[:,None] + x_2_sq[None,:])\n",
    "            d = np.sqrt(np.clip(d, 0, np.inf)/self.hyper_params[1])\n",
    "            K = self.hyper_params[0] * np.exp(-0.5 * d**2)\n",
    "        return K\n",
    "    \n",
    "    def set_hyper_params(self, hyper_params, sigma_n):\n",
    "        self.hyper_params = hyper_params\n",
    "        self.K = self.cov_func(self.x_train,self.x_train)\n",
    "        self.sigma_n = sigma_n\n",
    "        self.K_inv = np.linalg.pinv(self.K+np.eye(self.K.shape[0])*(self.sigma_n**2))\n",
    "        \n",
    "    def log_marginal_likelihood(self):\n",
    "        lml1 = -.5*np.dot(np.dot(np.transpose(self.y_train),self.K_inv),self.y_train)\n",
    "        lml2 = -.5*np.log(np.linalg.det(self.K+np.eye(self.K.shape[0])*(self.sigma_n**2)))\n",
    "        lml3 = -.5*self.x_train.shape[0]*np.log(2*np.pi)\n",
    "        return lml1+lml2+lml3\n",
    "        "
   ]
  },
  {
   "cell_type": "code",
   "execution_count": 767,
   "metadata": {},
   "outputs": [
    {
     "name": "stdout",
     "output_type": "stream",
     "text": [
      "Log Marginal Likelihood: [[-385346.743442]]\n",
      "7.133386126403184 4.698083928571429\n",
      "9.745265385243826 105.5\n"
     ]
    }
   ],
   "source": [
    "signal_variance = 0.15 #1\n",
    "lengthscale = 50000 #0.3\n",
    "sigma_n = 0.1 #0.1\n",
    "gp = GP(\"Squared Exponential\", train_x, train_y, [signal_variance,lengthscale], sigma_n)\n",
    "[f_mean_2,f_std_2] = gp.predict(val_x)\n",
    "lml = gp.log_marginal_likelihood()\n",
    "print(\"Log Marginal Likelihood: \"+str(lml))\n",
    "print(np.mean(f_mean_2), np.mean(val_y))\n",
    "print(np.max(f_mean_2), np.max(val_y))\n"
   ]
  },
  {
   "cell_type": "code",
   "execution_count": 771,
   "metadata": {},
   "outputs": [
    {
     "name": "stdout",
     "output_type": "stream",
     "text": [
      "[0.150000 50000.000000 0.100000][[385346.743442]]\n",
      "[0.136426 50000.000000 0.100000][[386430.947387]]\n",
      "[0.150000 85885.234257 0.100000][[396616.280257]]\n",
      "[0.150000 50000.000000 0.089125][[482012.845250]]\n",
      "[0.140808 71713.734301 0.112202][[314721.340582]]\n",
      "[0.136426 85885.234257 0.125893][[255367.074841]]\n",
      "[0.132179 41749.745996 0.116591][[285058.424718]]\n",
      "[0.142300 63590.400464 0.129155][[238182.097364]]\n",
      "[0.145331 71713.734301 0.146780][[187422.775391]]\n",
      "[0.126723 80874.780624 0.166810][[148483.214599]]\n",
      "[0.116476 102857.193748 0.215443][[92065.371806]]\n",
      "[0.132179 176678.283600 0.215443][[93281.691595]]\n",
      "[0.125394 138918.989588 0.285467][[53722.739891]]\n",
      "[0.120218 176678.283600 0.429866][[24517.974602]]\n",
      "[0.103726 303481.115501 0.501187][[18582.320359]]\n",
      "[0.087630 624304.317917 0.926119][[5826.804301]]\n",
      "[0.086711 285776.348545 0.902725][[6069.267625]]\n",
      "[0.080827 970143.230023 2.346229][[1155.828824]]\n",
      "[0.067332 2979452.392659 7.742637][[443.739128]]\n",
      "[0.053210 3714122.381387 8.079926][[441.445642]]\n",
      "[0.035400 17029140.508756 35.030347][[inf]]\n",
      "[0.053272 12693061.465302 16.586436][[460.557530]]\n",
      "[0.037829 43282236.143986 110.670768][[inf]]\n",
      "[0.071030 1801460.220490 3.062021][[809.792847]]\n",
      "[0.046669 14999657.836710 33.472747][[inf]]\n",
      "[0.063950 3060122.735240 5.567741][[490.337115]]\n",
      "[0.051836 8830131.746878 18.408592][[468.971349]]\n",
      "[0.054631 6775012.469873 13.651651][[447.393672]]\n",
      "[0.063280 1400776.314177 5.427101][[496.745002]]\n",
      "[0.055615 7315886.931183 12.544599][[443.004772]]\n",
      "[0.062445 2762250.098373 6.232327][[468.215207]]\n",
      "[0.056487 5413751.581417 11.221514][[438.806380]]\n",
      "[0.045068 9352862.758033 14.073049][[449.207268]]\n",
      "[0.060902 3965870.038008 8.990083][[437.484700]]\n",
      "[0.057969 2532376.976036 6.955979][[453.398114]]\n"
     ]
    },
    {
     "name": "stderr",
     "output_type": "stream",
     "text": [
      "c:\\Users\\23478671\\Anaconda3\\envs\\geostatistics\\lib\\site-packages\\numpy\\linalg\\linalg.py:2146: RuntimeWarning:\n",
      "\n",
      "overflow encountered in det\n",
      "\n"
     ]
    },
    {
     "name": "stdout",
     "output_type": "stream",
     "text": [
      "[0.056194 5611543.419438 10.825106][[437.900094]]\n",
      "[0.062834 6567849.762432 13.124743][[445.214346]]\n",
      "[0.055468 4282998.869775 9.121752][[437.276887]]\n",
      "[0.058474 3854317.795503 8.231228][[440.431951]]\n",
      "[0.056978 4972910.267067 10.384958][[437.154785]]\n",
      "[0.059324 3430697.132615 8.299762][[440.048364]]\n",
      "[0.056961 4962006.634428 10.129559][[436.877883]]\n",
      "[0.052350 5636447.556616 10.821446][[437.915251]]\n",
      "[0.058641 4330172.786396 9.416600][[436.846781]]\n",
      "[0.059650 5257357.378390 10.893849][[438.023565]]\n",
      "[0.056485 4508196.576178 9.535732][[436.780775]]\n",
      "[0.057735 4241306.438183 9.039707][[437.411893]]\n",
      "[0.057166 4778954.327613 10.030952][[436.804218]]\n",
      "[0.057891 4145433.571163 9.207386][[437.107323]]\n",
      "[0.057192 4743899.670546 9.890699][[436.736543]]\n",
      "[0.055301 5048266.273275 10.234218][[436.988238]]\n",
      "[0.057788 4499502.352390 9.614667][[436.732868]]\n",
      "[0.057139 4394090.550842 9.339738][[436.938784]]\n",
      "[0.057159 4679688.123311 9.853495][[436.726495]]\n",
      "[0.058287 4775385.261307 10.041848][[436.802541]]\n",
      "[0.056930 4573558.487569 9.659818][[436.727343]]\n",
      "[0.057391 4428822.334302 9.530200][[436.775640]]\n",
      "[0.057242 4663088.804131 9.799315][[436.716258]]\n",
      "[0.056441 4781880.728335 9.928929][[436.756655]]\n",
      "[0.057448 4568493.878229 9.692287][[436.716542]]\n",
      "[0.057637 4700977.711867 9.904653][[436.737801]]\n",
      "[0.057106 4605085.797976 9.720453][[436.716240]]\n",
      "[0.057371 4545406.504829 9.622370][[436.733910]]\n",
      "[0.057212 4645750.317214 9.795198][[436.716127]]\n",
      "[0.056926 4708383.231877 9.851538][[436.727881]]\n",
      "[0.057317 4603071.666124 9.731857][[436.713656]]\n",
      "[0.057182 4573203.553361 9.699170][[436.717931]]\n",
      "[0.057227 4640453.207364 9.774183][[436.714377]]\n",
      "[0.057398 4654484.699715 9.813858][[436.716857]]\n",
      "[0.057179 4617386.153535 9.743721][[436.714390]]\n",
      "[0.057270 4594945.399731 9.704819][[436.716363]]\n",
      "[0.057227 4632996.666345 9.772525][[436.714321]]\n",
      "[0.057335 4633585.897893 9.775309][[436.713531]]\n",
      "[0.057412 4641707.070960 9.791141][[436.714022]]\n",
      "[0.057359 4606003.150685 9.745592][[436.712826]]\n",
      "[0.057425 4588874.148443 9.731327][[436.712788]]\n",
      "[0.057492 4584078.862109 9.719832][[436.712968]]\n",
      "[0.057517 4601180.043088 9.752407][[436.711413]]\n",
      "[0.057617 4600234.523099 9.762698][[436.710687]]\n",
      "[0.057689 4548919.470006 9.700705][[436.713323]]\n",
      "[0.057600 4569939.925022 9.719303][[436.712110]]\n",
      "[0.057603 4588587.245755 9.755719][[436.710729]]\n",
      "[0.057789 4583601.200597 9.760470][[436.709207]]\n",
      "[0.057972 4580966.999234 9.775075][[436.708215]]\n",
      "[0.057862 4609992.959439 9.809896][[436.712504]]\n",
      "[0.057665 4579920.440592 9.741872][[436.710323]]\n",
      "[0.057900 4585475.593811 9.764027][[436.708334]]\n",
      "[0.058075 4564077.559099 9.757932][[436.706757]]\n",
      "[0.058305 4546105.787175 9.755550][[436.704798]]\n",
      "[0.058455 4561728.748322 9.787943][[436.705092]]\n",
      "[0.058589 4540458.589999 9.781675][[436.703503]]\n",
      "[0.058937 4518116.089856 9.790511][[436.701379]]\n",
      "[0.059163 4503260.709746 9.780902][[436.698665]]\n",
      "[0.059768 4464903.266673 9.783818][[436.693875]]\n",
      "[0.059551 4458032.128455 9.765299][[436.694624]]\n",
      "[0.060551 4415388.123323 9.804251][[436.689670]]\n",
      "[0.061707 4351445.604399 9.828692][[436.684294]]\n",
      "[0.061765 4332798.435662 9.794623][[436.678537]]\n",
      "[0.063229 4243009.811162 9.796680][[436.666826]]\n",
      "[0.063620 4248835.385842 9.840938][[436.671470]]\n",
      "[0.066084 4104304.867543 9.860504][[436.656979]]\n",
      "[0.069488 3935078.422746 9.899072][[436.643313]]\n",
      "[0.069281 3938202.074017 9.862284][[436.632428]]\n",
      "[0.073410 3746538.633958 9.879123][[436.605960]]\n",
      "[0.073926 3708815.165313 9.875476][[436.600851]]\n",
      "[0.079689 3465116.435800 9.892791][[436.563756]]\n",
      "[0.086788 3244842.267501 9.984865][[436.558824]]\n",
      "[0.101678 2837614.324044 10.080309][[436.527823]]\n",
      "[0.101783 2813504.096492 10.001833][[436.466599]]\n",
      "[0.123185 2379001.039451 10.053613][[436.367912]]\n",
      "[0.136049 2183133.728292 10.139693][[436.371937]]\n",
      "[0.179029 1734740.003104 10.293468][[436.328139]]\n",
      "[0.268342 1227418.525732 10.499851][[436.273362]]\n",
      "[0.267959 1211597.575476 10.380371][[436.062620]]\n",
      "[0.435000 791700.482316 10.533735][[435.779656]]\n",
      "[0.434637 800851.151132 10.585230][[435.889592]]\n",
      "[1.112530 355638.655680 11.048969][[435.865115]]\n",
      "[1.318046 301824.929943 10.945103][[435.326205]]\n",
      "[2.921136 149670.540080 11.174759][[435.100365]]\n",
      "[2.898068 151211.791693 11.256272][[435.390146]]\n",
      "[2.143489 192536.454357 10.918300][[434.616040]]\n",
      "[2.975267 141665.785750 10.853547][[434.034686]]\n",
      "[19.753084 27463.996206 11.682987][[436.490201]]\n",
      "[1.129213 341673.750393 10.809990][[435.148851]]\n",
      "[1.581711 247603.217698 10.642137][[434.217405]]\n",
      "[5.081916 88408.381866 10.966479][[433.910211]]\n",
      "[10.780858 44971.187467 11.045571][[433.923820]]\n",
      "[2.841637 142082.353200 10.476277][[433.003442]]\n",
      "[2.802703 138433.770914 10.143582][[432.222718]]\n",
      "[7.684695 58287.759183 10.654293][[432.691974]]\n",
      "[7.690621 56356.445328 10.318513][[431.727042]]\n",
      "[12.364572 35545.358684 10.060969][[430.932371]]\n",
      "[8.145061 49193.542523 9.642064][[430.246799]]\n",
      "[10.311641 36695.721090 9.041103][[429.496915]]\n",
      "[6.552836 54808.707164 8.895638][[429.875785]]\n",
      "[31.650490 12442.945750 8.560535][[427.550941]]\n",
      "[106.360934 3730.472019 7.864220][[429.400552]]\n",
      "[13.424947 24069.989098 7.749847][[431.038632]]\n",
      "[12.621543 32244.537287 9.425473][[429.694336]]\n",
      "[39.214902 10960.077641 9.109752][[427.902133]]\n",
      "[43.350465 9073.580443 8.404582][[427.155310]]\n",
      "[80.340478 4813.267143 7.936382][[428.333915]]\n",
      "[138.215193 3140.954138 8.345665][[430.133839]]\n",
      "[19.730349 19848.466950 8.861991][[428.613384]]\n",
      "[72.235184 5806.976293 8.514341][[427.732791]]\n",
      "[54.613186 6885.798964 7.917817][[427.562508]]\n",
      "[24.605509 14559.756351 8.071060][[428.359960]]\n",
      "[55.184826 7307.201217 8.401289][[427.226675]]\n",
      "[32.771657 12774.609690 9.028934][[427.942339]]\n",
      "[48.067079 8036.235667 8.182071][[427.202865]]\n",
      "[74.712571 5282.000145 8.103064][[427.922331]]\n",
      "[39.231394 10043.660126 8.443801][[427.228894]]\n",
      "[60.275437 6543.793839 8.215087][[427.378388]]\n",
      "[43.677764 9023.528785 8.386032][[427.153723]]\n",
      "[36.664710 10352.711481 8.246658][[427.331246]]\n",
      "[49.822650 7972.175077 8.362362][[427.154607]]\n",
      "[43.112802 9363.436916 8.591543][[427.222013]]\n",
      "[46.777538 8349.266440 8.282572][[427.154730]]\n",
      "[50.290887 7845.531013 8.282937][[427.171707]]\n",
      "[44.990171 8749.628350 8.374004][[427.144225]]\n",
      "[45.411503 8796.574280 8.466694][[427.155179]]\n",
      "[46.432225 8458.914472 8.328224][[427.144814]]\n",
      "[40.679119 9583.929371 8.363071][[427.193138]]\n",
      "[47.360142 8347.732463 8.362539][[427.142334]]\n",
      "[48.974840 8039.063021 8.323882][[427.151911]]\n",
      "[47.593196 8274.622256 8.339376][[427.144172]]\n",
      "[46.834316 8450.639388 8.389142][[427.141103]]\n",
      "[47.036666 8446.504882 8.419768][[427.143730]]\n",
      "[49.647462 7982.665035 8.353331][[427.153555]]\n",
      "[46.111845 8551.241687 8.368831][[427.141262]]\n",
      "[45.953111 8627.997385 8.407756][[427.143098]]\n",
      "[46.357756 8538.263389 8.390609][[427.141424]]\n",
      "[45.525325 8682.077880 8.403220][[427.142900]]\n",
      "[46.894619 8430.091932 8.372691][[427.141247]]\n",
      "[46.868105 8416.492869 8.363180][[427.141135]]\n",
      "[47.631826 8315.202796 8.381169][[427.142376]]\n",
      "[46.487231 8491.611124 8.371914][[427.140917]]\n",
      "[46.565094 8475.686939 8.376787][[427.140489]]\n",
      "[46.401201 8498.576836 8.378836][[427.140215]]\n",
      "[46.281490 8544.488867 8.396775][[427.141150]]\n",
      "[46.720758 8448.310984 8.371566][[427.140748]]\n",
      "[46.239984 8508.399892 8.359094][[427.141013]]\n",
      "[46.387856 8493.922859 8.366596][[427.140683]]\n",
      "[46.518809 8468.883835 8.372749][[427.140052]]\n",
      "[46.534606 8457.543011 8.373166][[427.139627]]\n",
      "[46.163263 8518.489582 8.374163][[427.139676]]\n",
      "[46.344359 8489.074902 8.384189][[427.139152]]\n",
      "[46.322626 8486.651961 8.392999][[427.138740]]\n",
      "[46.278710 8476.487590 8.381373][[427.138176]]\n",
      "[46.217586 8465.464507 8.382642][[427.137167]]\n",
      "[46.553729 8421.542996 8.391711][[427.137554]]\n",
      "[46.194886 8458.142971 8.405097][[427.136659]]\n",
      "[46.025956 8458.442967 8.421107][[427.136331]]\n",
      "[46.207933 8410.442909 8.403946][[427.134545]]\n",
      "[46.150693 8372.595399 8.409424][[427.132624]]\n",
      "[45.712790 8442.593490 8.417060][[427.133015]]\n",
      "[45.709372 8383.656564 8.449215][[427.133984]]\n",
      "[45.688964 8341.085052 8.429326][[427.129233]]\n",
      "[45.521395 8283.018127 8.433438][[427.125837]]\n",
      "[45.879191 8348.009171 8.390823][[427.129099]]\n",
      "[45.987023 8227.701821 8.405365][[427.124825]]\n",
      "[46.124756 8122.315908 8.399523][[427.121362]]\n",
      "[45.533605 8130.317382 8.406392][[427.117153]]\n",
      "[45.228163 8011.820244 8.404876][[427.109763]]\n",
      "[45.368732 7933.841855 8.434432][[427.110167]]\n",
      "[45.623040 7769.763450 8.392471][[427.103464]]\n",
      "[45.673948 7525.188611 8.372062][[427.096300]]\n",
      "[44.732381 7530.229404 8.407982][[427.087833]]\n",
      "[44.052035 7250.573710 8.412214][[427.073409]]\n",
      "[44.593580 7259.896558 8.358472][[427.079438]]\n",
      "[44.312777 6732.074800 8.356962][[427.065504]]\n",
      "[43.862056 6171.032033 8.333108][[427.060118]]\n",
      "[42.711974 6279.470350 8.363673][[427.043381]]\n",
      "[41.303817 5736.220357 8.359482][[427.029771]]\n",
      "[41.567869 5562.972333 8.377946][[427.034409]]\n",
      "[40.481691 4668.255807 8.301801][[427.067227]]\n",
      "[41.346188 5211.456027 8.329267][[427.046496]]\n",
      "[39.087087 4900.458721 8.378034][[427.024565]]\n",
      "[36.898224 4366.929720 8.400588][[427.027085]]\n",
      "[39.940978 5569.555853 8.414582][[427.016359]]\n",
      "[39.256385 5757.730147 8.457567][[427.013828]]\n",
      "[38.241194 5338.701988 8.418610][[427.003393]]\n",
      "[36.679067 5229.980483 8.439016][[426.994371]]\n",
      "[35.556396 4868.175730 8.490636][[427.003791]]\n",
      "[35.274774 5673.377462 8.547573][[427.015923]]\n",
      "[36.191493 5469.409531 8.504870][[427.003496]]\n",
      "[33.269891 4666.090942 8.498736][[426.998896]]\n",
      "[35.139834 5364.915590 8.471019][[426.990222]]\n",
      "[34.933387 5631.981460 8.461227][[426.989720]]\n",
      "[33.718408 4869.330049 8.427887][[426.983984]]\n",
      "[32.545980 4594.450716 8.389657][[426.987428]]\n",
      "[37.008316 5872.194958 8.387030][[426.994688]]\n",
      "[36.036063 5544.196944 8.414818][[426.987531]]\n",
      "[33.175065 5446.857129 8.430229][[426.983492]]\n",
      "[31.550667 5558.645037 8.425840][[426.992304]]\n",
      "[33.654005 4946.613905 8.387551][[426.982626]]\n",
      "[33.031994 4635.871748 8.350954][[426.991586]]\n",
      "[31.170211 4657.042034 8.415581][[426.986357]]\n",
      "[32.321324 4864.545621 8.415390][[426.982032]]\n",
      "[32.386056 5299.012855 8.394224][[426.983381]]\n",
      "[32.392479 4651.048425 8.367979][[426.988015]]\n",
      "[32.977664 5235.970647 8.414623][[426.980987]]\n",
      "[33.584519 4742.820541 8.417482][[426.985652]]\n",
      "[32.681601 5154.130410 8.400032][[426.981132]]\n",
      "[31.693593 5221.820159 8.432534][[426.984812]]\n",
      "[33.152817 5014.024920 8.398774][[426.980970]]\n",
      "[33.563968 5418.142822 8.393571][[426.982508]]\n",
      "[32.627604 4997.402419 8.409930][[426.980941]]\n",
      "[33.157390 5009.525671 8.415521][[426.980889]]\n",
      "[33.397876 4938.751883 8.423277][[426.982024]]\n",
      "[32.978995 4788.002938 8.401526][[426.983302]]\n",
      "[32.977997 5120.195039 8.411347][[426.980547]]\n",
      "[32.689335 5070.278338 8.425779][[426.981063]]\n",
      "[33.036334 5028.029491 8.405517][[426.980724]]\n",
      "[33.492364 5107.906774 8.411659][[426.980635]]\n",
      "[33.178820 5162.042575 8.403497][[426.980583]]\n",
      "[33.396079 5234.030105 8.412151][[426.980695]]\n",
      "[33.305778 5181.751911 8.410492][[426.980535]]\n",
      "[32.818903 5201.718427 8.405232][[426.981022]]\n",
      "[33.322714 5131.199870 8.410052][[426.980498]]\n",
      "[33.224761 5126.643514 8.417769][[426.980584]]\n",
      "[33.190299 5153.169960 8.407063][[426.980514]]\n",
      "[33.570396 5190.710866 8.407058][[426.980609]]\n",
      "[33.125109 5137.733675 8.410275][[426.980501]]\n",
      "[33.119695 5099.959271 8.407767][[426.980512]]\n",
      "[33.187777 5092.882835 8.411666][[426.980524]]\n",
      "[33.189669 5138.031602 8.408214][[426.980493]]\n",
      "[33.305356 5171.598721 8.411260][[426.980519]]\n",
      "[33.166013 5117.775556 8.408640][[426.980492]]\n",
      "[33.327319 5120.272063 8.407663][[426.980512]]\n",
      "[33.175546 5133.362697 8.409622][[426.980488]]\n",
      "[33.032072 5128.232498 8.407599][[426.980537]]\n",
      "[33.249815 5130.457866 8.409438][[426.980486]]\n",
      "[33.204540 5116.379731 8.410253][[426.980490]]\n",
      "[33.253951 5135.696232 8.410902][[426.980488]]\n",
      "[33.248310 5150.019017 8.409721][[426.980492]]\n",
      "[33.215477 5124.768897 8.410120][[426.980486]]\n",
      "[33.173295 5123.368331 8.408552][[426.980490]]\n",
      "[33.233769 5132.611478 8.410314][[426.980486]]\n",
      "[33.290587 5125.197246 8.410294][[426.980495]]\n",
      "[33.204269 5131.320116 8.409790][[426.980485]]\n",
      "[33.243087 5138.166002 8.409575][[426.980486]]\n",
      "[33.204276 5137.607969 8.410347][[426.980487]]\n",
      "[33.238424 5132.244458 8.409666][[426.980485]]\n",
      "[33.207891 5125.958569 8.410272][[426.980486]]\n",
      "[33.234284 5135.111421 8.409749][[426.980485]]\n",
      "[33.217545 5133.172026 8.409155][[426.980486]]\n",
      "[33.221600 5133.031883 8.409445][[426.980485]]\n",
      "[33.258623 5135.605669 8.409450][[426.980486]]\n",
      "[33.217849 5132.391168 8.409705][[426.980485]]\n",
      "[33.210736 5134.778573 8.409600][[426.980486]]\n",
      "[33.231500 5132.877870 8.409649][[426.980485]]\n",
      "[33.213018 5130.423583 8.409450][[426.980485]]\n",
      "[33.218333 5131.595141 8.409525][[426.980485]]\n",
      "[33.223521 5131.544290 8.409808][[426.980485]]\n",
      "[33.224481 5130.800655 8.409989][[426.980485]]\n",
      "[33.230247 5132.947108 8.409916][[426.980485]]\n",
      "[33.221311 5131.933099 8.409623][[426.980485]]\n",
      "[33.210291 5131.034644 8.409774][[426.980485]]\n",
      "[33.226196 5132.417001 8.409681][[426.980485]]\n",
      "[33.229503 5131.538436 8.409703][[426.980485]]\n",
      "[33.226590 5131.751606 8.409703][[426.980485]]\n",
      "[33.229560 5131.875472 8.409838][[426.980485]]\n",
      "[33.223373 5131.918692 8.409677][[426.980485]]\n",
      "[33.222137 5132.168367 8.409740][[426.980485]]\n",
      "[33.219825 5131.337275 8.409802][[426.980485]]\n",
      "[33.224603 5132.147048 8.409711][[426.980485]]\n",
      "[33.223222 5132.611835 8.409611][[426.980485]]\n",
      "[33.223446 5131.811155 8.409758][[426.980485]]\n",
      "[33.225478 5131.749569 8.409691][[426.980485]]\n",
      "[33.224643 5131.854265 8.409703][[426.980485]]\n",
      "[33.223038 5131.575709 8.409714][[426.980485]]\n",
      "[33.222255 5131.290063 8.409716][[426.980485]]\n",
      "[33.224044 5131.575396 8.409774][[426.980485]]\n",
      "[33.223541 5131.832866 8.409701][[426.980485]]\n",
      "[33.222041 5131.625555 8.409746][[426.980485]]\n",
      "[33.222300 5131.544932 8.409683][[426.980485]]\n",
      "[33.222587 5131.611487 8.409702][[426.980485]]\n",
      "[33.224070 5131.721151 8.409665][[426.980485]]\n",
      "[33.222548 5131.649454 8.409726][[426.980485]]\n",
      "[33.221907 5131.391576 8.409727][[426.980485]]\n",
      "[33.223133 5131.722540 8.409707][[426.980485]]\n",
      "[33.223225 5131.686981 8.409730][[426.980485]]\n",
      "[33.222899 5131.796943 8.409728][[426.980485]]\n",
      "[33.222495 5131.758977 8.409711][[426.980485]]\n",
      "[33.223043 5131.704980 8.409725][[426.980485]]\n",
      "[33.222916 5131.587708 8.409711][[426.980485]]\n",
      "[33.222904 5131.744634 8.409724][[426.980485]]\n",
      "[33.222530 5131.676838 8.409743][[426.980485]]\n",
      "[33.222982 5131.711114 8.409716][[426.980485]]\n",
      "[33.223404 5131.791033 8.409718][[426.980485]]\n",
      "[33.222762 5131.684848 8.409724][[426.980485]]\n",
      "[33.222722 5131.722084 8.409717][[426.980485]]\n",
      "[33.222741 5131.667398 8.409714][[426.980485]]\n",
      "[33.222934 5131.653489 8.409719][[426.980485]]\n",
      "[33.222881 5131.670638 8.409719][[426.980485]]\n",
      "[33.223009 5131.710336 8.409725][[426.980485]]\n",
      "[33.222808 5131.678132 8.409717][[426.980485]]\n",
      "[33.223019 5131.688408 8.409711][[426.980485]]\n",
      "[33.222826 5131.685738 8.409721][[426.980485]]\n",
      "[33.222695 5131.645225 8.409721][[426.980485]]\n",
      "[33.222910 5131.694642 8.409718][[426.980485]]\n",
      "[33.222815 5131.701704 8.409718][[426.980485]]\n",
      "[33.222893 5131.709924 8.409720][[426.980485]]\n",
      "[33.222872 5131.701976 8.409720][[426.980485]]\n",
      "[33.222924 5131.686534 8.409720][[426.980485]]\n",
      "[33.222842 5131.697911 8.409719][[426.980485]]\n",
      "[33.222783 5131.695775 8.409722][[426.980485]]\n",
      "[33.222878 5131.694925 8.409719][[426.980485]]\n",
      "[33.222902 5131.710803 8.409717][[426.980485]]\n",
      "[33.222845 5131.692004 8.409720][[426.980485]]\n",
      "[33.222839 5131.687918 8.409718][[426.980485]]\n",
      "[33.222847 5131.691432 8.409719][[426.980485]]\n",
      "[33.222872 5131.687664 8.409719][[426.980485]]\n",
      "[33.222850 5131.695349 8.409719][[426.980485]]\n",
      "[33.222816 5131.690932 8.409720][[426.980485]]\n",
      "[33.222863 5131.693927 8.409719][[426.980485]]\n",
      "[33.222861 5131.695135 8.409718][[426.980485]]\n",
      "[33.222849 5131.692787 8.409719][[426.980485]]\n",
      "[33.222861 5131.696610 8.409719][[426.980485]]\n",
      "[33.222857 5131.695315 8.409719][[426.980485]]\n",
      "[33.222841 5131.695041 8.409719][[426.980485]]\n",
      "[33.222857 5131.694205 8.409719][[426.980485]]\n",
      "[33.222860 5131.692856 8.409719][[426.980485]]\n",
      "[33.222852 5131.694726 8.409719][[426.980485]]\n",
      "[33.222853 5131.694051 8.409719][[426.980485]]\n",
      "[33.222853 5131.693496 8.409719][[426.980485]]\n",
      "[33.222849 5131.694068 8.409719][[426.980485]]\n",
      "[33.222848 5131.693775 8.409719][[426.980485]]\n",
      "[33.222852 5131.693566 8.409719][[426.980485]]\n",
      "[33.222849 5131.693428 8.409719][[426.980485]]\n",
      "[33.222851 5131.693419 8.409719][[426.980485]]\n",
      "[33.222851 5131.693142 8.409719][[426.980485]]\n",
      "[33.222849 5131.693281 8.409719][[426.980485]]\n",
      "[33.222847 5131.692911 8.409719][[426.980485]]\n",
      "[33.222848 5131.693038 8.409719][[426.980485]]\n",
      "[33.222850 5131.693292 8.409719][[426.980485]]\n",
      "[33.222848 5131.693102 8.409719][[426.980485]]\n",
      "[33.222849 5131.693107 8.409719][[426.980485]]\n",
      "[33.222849 5131.693034 8.409719][[426.980485]]\n",
      "[33.222849 5131.692913 8.409719][[426.980485]]\n",
      "[33.222849 5131.692837 8.409719][[426.980485]]\n",
      "[33.222849 5131.692985 8.409719][[426.980485]]\n",
      "[33.222849 5131.692850 8.409719][[426.980485]]\n",
      "[33.222849 5131.692947 8.409719][[426.980485]]\n",
      "[33.222849 5131.692910 8.409719][[426.980485]]\n",
      "[33.222849 5131.692751 8.409719][[426.980485]]\n",
      "[33.222849 5131.692898 8.409719][[426.980485]]\n",
      "[33.222849 5131.692881 8.409719][[426.980485]]\n",
      "[33.222849 5131.692873 8.409719][[426.980485]]\n",
      "[33.222849 5131.692849 8.409719][[426.980485]]\n",
      "[33.222849 5131.692843 8.409719][[426.980485]]\n",
      "[33.222849 5131.692818 8.409719][[426.980485]]\n",
      "[33.222849 5131.692834 8.409719][[426.980485]]\n",
      "[33.222849 5131.692830 8.409719][[426.980485]]\n",
      "[33.222849 5131.692822 8.409719][[426.980485]]\n",
      "[33.222849 5131.692828 8.409719][[426.980485]]\n",
      "[33.222849 5131.692818 8.409719][[426.980485]]\n",
      "[33.222849 5131.692815 8.409719][[426.980485]]\n",
      "[33.222849 5131.692808 8.409719][[426.980485]]\n",
      "[33.222849 5131.692794 8.409719][[426.980485]]\n",
      "[33.222849 5131.692791 8.409719][[426.980485]]\n",
      "[33.222849 5131.692804 8.409719][[426.980485]]\n",
      "[33.222849 5131.692772 8.409719][[426.980485]]\n",
      "[33.222849 5131.692784 8.409719][[426.980485]]\n",
      "[33.222849 5131.692806 8.409719][[426.980485]]\n",
      "[33.222849 5131.692789 8.409719][[426.980485]]\n",
      "[33.222849 5131.692791 8.409719][[426.980485]]\n",
      "[33.222849 5131.692796 8.409719][[426.980485]]\n",
      "[33.222849 5131.692785 8.409719][[426.980485]]\n",
      "[33.222849 5131.692780 8.409719][[426.980485]]\n",
      "[33.222849 5131.692792 8.409719][[426.980485]]\n",
      "[33.222849 5131.692785 8.409719][[426.980485]]\n",
      "[33.222849 5131.692789 8.409719][[426.980485]]\n",
      "[33.222849 5131.692787 8.409719][[426.980485]]\n",
      "[33.222849 5131.692789 8.409719][[426.980485]]\n",
      "[33.222849 5131.692786 8.409719][[426.980485]]\n",
      "[33.222849 5131.692789 8.409719][[426.980485]]\n",
      "[33.222849 5131.692788 8.409719][[426.980485]]\n",
      "[33.222849 5131.692785 8.409719][[426.980485]]\n",
      "[33.222849 5131.692787 8.409719][[426.980485]]\n",
      "[33.222849 5131.692786 8.409719][[426.980485]]\n",
      "[33.222849 5131.692787 8.409719][[426.980485]]\n",
      "[33.222849 5131.692787 8.409719][[426.980485]]\n",
      "[33.222849 5131.692788 8.409719][[426.980485]]\n",
      "[33.222849 5131.692786 8.409719][[426.980485]]\n",
      "[33.222849 5131.692787 8.409719][[426.980485]]\n",
      "[33.222849 5131.692786 8.409719][[426.980485]]\n",
      "[33.222849 5131.692787 8.409719][[426.980485]]\n",
      "[33.222849 5131.692786 8.409719][[426.980485]]\n",
      "[33.222849 5131.692787 8.409719][[426.980485]]\n",
      "[33.222849 5131.692787 8.409719][[426.980485]]\n",
      "[33.222849 5131.692787 8.409719][[426.980485]]\n",
      "[33.222849 5131.692787 8.409719][[426.980485]]\n",
      "[33.222849 5131.692787 8.409719][[426.980485]]\n",
      "[33.222849 5131.692787 8.409719][[426.980485]]\n",
      "[33.222849 5131.692787 8.409719][[426.980485]]\n",
      "Optimization terminated successfully.\n",
      "         Current function value: 426.980485\n",
      "         Iterations: 225\n",
      "         Function evaluations: 437\n",
      " final_simplex: (array([[3.503238, 8.543191, 2.129388],\n",
      "       [3.503238, 8.543191, 2.129388],\n",
      "       [3.503238, 8.543191, 2.129388],\n",
      "       [3.503238, 8.543191, 2.129388]]), array([426.980485, 426.980485, 426.980485, 426.980485]))\n",
      "           fun: 426.98048508859324\n",
      "       message: 'Optimization terminated successfully.'\n",
      "          nfev: 437\n",
      "           nit: 225\n",
      "        status: 0\n",
      "       success: True\n",
      "             x: array([3.503238, 8.543191, 2.129388])\n"
     ]
    }
   ],
   "source": [
    "from scipy.optimize import minimize\n",
    "\n",
    "def eval_params(params, gp):\n",
    "    params = np.exp(params)\n",
    "    gp.set_hyper_params(params[:-1],params[len(params)-1])\n",
    "    nlml = -gp.log_marginal_likelihood()\n",
    "    print(str(params)+str(nlml))\n",
    "    return nlml\n",
    "\n",
    "x0 = np.array([np.log(0.15), np.log(50000), np.log(0.1)])\n",
    "res = minimize(eval_params, x0, method='nelder-mead', args=(gp),\n",
    "               options={'xatol': 1e-10, 'disp': True})\n",
    "print(res)"
   ]
  },
  {
   "cell_type": "code",
   "execution_count": 772,
   "metadata": {},
   "outputs": [
    {
     "name": "stdout",
     "output_type": "stream",
     "text": [
      "Optimal signal variance: 33.222849156427216\n",
      "Optimal lengthscale: 5131.692786973009\n",
      "Optimal noise std: 8.409719291988935\n",
      "Log Marginal Likelihood: [[-426.980485]]\n"
     ]
    }
   ],
   "source": [
    "optimal_params = np.exp(res.x)\n",
    "\n",
    "print(\"Optimal signal variance: \"+str(optimal_params[0]))\n",
    "print(\"Optimal lengthscale: \"+str(optimal_params[1]))\n",
    "print(\"Optimal noise std: \"+str(optimal_params[2]))\n",
    "\n",
    "gp.set_hyper_params([optimal_params[0],optimal_params[1]],optimal_params[2])\n",
    "\n",
    "#Predict for x_star\n",
    "[f_mean,f_std] = gp.predict(val_x)\n",
    "lml = gp.log_marginal_likelihood()\n",
    "\n",
    "print(\"Log Marginal Likelihood: \"+str(lml))\n",
    "\n"
   ]
  },
  {
   "cell_type": "code",
   "execution_count": 699,
   "metadata": {},
   "outputs": [],
   "source": [
    "class GPwarp:\n",
    "    def __init__(self,cov_function_name, x_train, y_train, hyper_params, sigma_n, nu=None):\n",
    "        self.cov_function_name = cov_function_name\n",
    "        self.x_train = x_train\n",
    "        self.y_train = y_train\n",
    "        self.hyper_params = hyper_params #hyper_params[0] are the GP's, hyper_params[1] are the warpings\n",
    "        self.nu = nu\n",
    "        self.gamma = self.hyper_params[1]\n",
    "        self.K = self.cov_func(self.x_train,self.x_train)\n",
    "        self.sigma_n = sigma_n\n",
    "        self.K_inv = np.linalg.pinv(self.K+np.eye(self.K.shape[0])*(self.sigma_n**2))\n",
    "        self.f = 0\n",
    "        self.df_dy = 0\n",
    "        self.a0 = self.gamma[0]\n",
    "        self.b0 = self.gamma[1]\n",
    "        self.c0 = self.gamma[2]\n",
    "        for i in range(len(self.gamma[0])):\n",
    "            self.f += self.a0[i] * np.tanh(self.b0[i] * (self.y_train + self.c0[i])) \n",
    "            self.df_dy += self.a0[i] * self.b0[i] * (1 - np.tanh(self.b0[i] * (self.y_train + self.c0[i])) ** 2)\n",
    "\n",
    "    def predict(self,x_star):\n",
    "        k_star = self.cov_func(self.x_train,x_star)\n",
    "        f_mean = np.dot(np.dot(np.transpose(k_star),self.K_inv),self.f)\n",
    "        f_std = self.cov_func(x_star, x_star) - np.dot(np.dot(np.transpose(k_star),self.K_inv),k_star)+np.eye(x_star.shape[0])*(self.sigma_n**2)\n",
    "        f_std = np.sqrt(np.diag(f_std))[:,np.newaxis]\n",
    "        return [f_mean,f_std]\n",
    "\n",
    "\n",
    "    def predict_original(self,x_star):\n",
    "        k_star = self.cov_func(self.x_train,x_star)\n",
    "        y_mean = np.dot(np.dot(np.transpose(k_star),self.K_inv),self.y_train)\n",
    "        y_std = self.cov_func(x_star, x_star) - np.dot(np.dot(np.transpose(k_star),self.K_inv),k_star)+np.eye(x_star.shape[0])*(self.sigma_n**2)\n",
    "        y_std = np.sqrt(np.diag(y_std))[:,np.newaxis]\n",
    "        return [y_mean,y_std]\n",
    "\n",
    "    def cov_func(self,x_1,x_2):\n",
    "        \n",
    "        x_1_sq = np.sum(np.square(x_1),1)\n",
    "        x_2_sq = np.sum(np.square(x_2),1)\n",
    "        d = -2.*np.dot(x_1, x_2.T) + (x_1_sq[:,None] + x_2_sq[None,:])\n",
    "        d = np.sqrt(np.clip(d, 0, np.inf))\n",
    "\n",
    "        if self.cov_function_name == \"Squared Exponential\":\n",
    "            K = self.hyper_params[0][0] * np.exp(-0.5 * (d**2)/self.hyper_params[0][1])\n",
    "\n",
    "        if self.cov_function_name == \"Matern\":\n",
    "\n",
    "            if self.nu == 5/2:\n",
    "                K = self.hyper_params[0][0] *(1 + np.sqrt(5) * d / self.hyper_params[0][1] + 5 * d ** 2 / (3 * self.hyper_params[0][1] ** 2)) \\\n",
    "                        * np.exp(-np.sqrt(5) * d / self.hyper_params[0][1])\n",
    "\n",
    "            elif self.nu == 1/2:\n",
    "                K = self.hyper_params[0][0] *np.exp(-0.5*(d/self.hyper_params[0][1])**2)\n",
    "    \n",
    "            else: \n",
    "                print('invalid nu')\n",
    "                \n",
    "        return K\n",
    "\n",
    "    def set_hyper_params(self, hyper_params, sigma_n):\n",
    "        self.hyper_params = hyper_params\n",
    "        self.K = self.cov_func(self.x_train,self.x_train)\n",
    "        self.sigma_n = sigma_n\n",
    "        self.K_inv = np.linalg.pinv(self.K+np.eye(self.K.shape[0])*(self.sigma_n**2))\n",
    "\n",
    "        self.gamma = self.hyper_params[1]\n",
    "        self.a = self.gamma[0]\n",
    "        self.b = self.gamma[1]\n",
    "        self.c = self.gamma[2]\n",
    "        self.f = 0\n",
    "        self.df_dy = 0\n",
    "        for i in range(len(self.gamma[0])):\n",
    "            self.f += self.a[i] * np.tanh(self.b[i] * (self.y_train + self.c[i])) \n",
    "            self.df_dy += self.a[i] * self.b[i] * (1 - np.tanh(self.b[i] * (self.y_train + self.c[i])) ** 2)\n",
    "            \n",
    "    def log_marginal_likelihood(self):\n",
    "        lml1 = -.5*np.dot(np.dot(np.transpose(self.f),self.K_inv),self.f)\n",
    "        lml2 = -.5*np.log(np.linalg.det(self.K+np.eye(self.K.shape[0])*(self.sigma_n**2)))\n",
    "        lml3 = -.5*self.x_train.shape[0]*np.log(2*np.pi)\n",
    "        lml4 = np.sum(np.log(self.df_dy))\n",
    "        return lml1+lml2+lml3+lml4\n",
    "\n",
    "    def log_marginal_likelihood_original(self):\n",
    "        lml1 = -.5*np.dot(np.dot(np.transpose(self.y_train),self.K_inv),self.y_train)\n",
    "        lml2 = -.5*np.log(np.linalg.det(self.K+np.eye(self.K.shape[0])*(self.sigma_n**2)))\n",
    "        lml3 = -.5*self.x_train.shape[0]*np.log(2*np.pi)\n",
    "        return lml1+lml2+lml3"
   ]
  },
  {
   "cell_type": "code",
   "execution_count": 700,
   "metadata": {},
   "outputs": [
    {
     "name": "stdout",
     "output_type": "stream",
     "text": [
      "Log Marginal Likelihood: [[116.42959686]]\n",
      "78.1861223282859 105.5\n"
     ]
    }
   ],
   "source": [
    "I = 1\n",
    "val_a = 2 \n",
    "val_b = 2\n",
    "val_c = 0\n",
    "a = np.full(I, val_a)\n",
    "b = np.full(I, val_b)\n",
    "c = np.full(I, val_c)\n",
    "\n",
    "nuv = 1/2\n",
    "\n",
    "signal_variance = 2000000 #1\n",
    "lengthscale = 300 #0.3\n",
    "sigma_n = 0.1 #0.1\n",
    "gpw = GPwarp(\"Matern\", train_x, train_y, [[signal_variance,lengthscale],[a,b,c]], sigma_n, 5/2)\n",
    "[fw_mean_2,fw_std_2] = gpw.predict(val_x)\n",
    "lml = gp.log_marginal_likelihood()\n",
    "print(\"Log Marginal Likelihood: \"+str(lml))\n",
    "print(np.max(fw_mean_2), np.max(val_y))\n",
    "\n",
    "\n",
    "fw_norm_train = 0\n",
    "fw_norm_test = 0\n",
    "for i in range(I):\n",
    "    fw_norm_train += a[i]* np.tanh(b[i] * (train_y + c[i])) \n",
    "    fw_norm_test += a[i] * np.tanh(b[i] * (val_y + c[i])) "
   ]
  },
  {
   "cell_type": "code",
   "execution_count": 701,
   "metadata": {},
   "outputs": [
    {
     "name": "stderr",
     "output_type": "stream",
     "text": [
      "C:\\Users\\23478671\\AppData\\Local\\Temp\\ipykernel_6220\\40440920.py:15: OptimizeWarning:\n",
      "\n",
      "Unknown solver options: xatol\n",
      "\n"
     ]
    },
    {
     "name": "stdout",
     "output_type": "stream",
     "text": [
      "[2.e+03 1.e+03 2.e+00 1.e-01 1.e-03 9.e-01][[387.77217748]]\n",
      "[2.e+03 1.e+03 2.e+00 1.e-01 1.e-03 9.e-01][[387.77217748]]\n",
      "[5.43656366e+03 1.00000000e+03 2.00000000e+00 1.00000000e-01\n",
      " 1.00000000e-03 9.00000000e-01][[393.34119108]]\n",
      "[3.96576301e+02 1.00000000e+03 2.00000000e+00 1.00000000e-01\n",
      " 1.00000000e-03 9.00000000e-01][[379.99178011]]\n",
      "[2.26441761e-01 1.00000000e+03 2.00000000e+00 1.00000000e-01\n",
      " 1.00000000e-03 9.00000000e-01][[363.52430957]]\n",
      "[1.27959699e-06 1.00000000e+03 2.00000000e+00 1.00000000e-01\n",
      " 1.00000000e-03 9.00000000e-01][[372.93201537]]\n",
      "[2.26441761e-01 1.00000000e+03 2.00000000e+00 1.00000000e-01\n",
      " 1.00000000e-03 9.00000000e-01][[363.52430957]]\n",
      "[2.24100861e-03 1.00000000e+03 2.00000000e+00 1.00000000e-01\n",
      " 1.00000000e-03 9.00000000e-01][[370.54002942]]\n",
      "[3.92476519e+00 1.00000000e+03 2.00000000e+00 1.00000000e-01\n",
      " 1.00000000e-03 9.00000000e-01][[365.76793828]]\n",
      "[2.63871598e-01 1.00000000e+03 2.00000000e+00 1.00000000e-01\n",
      " 1.00000000e-03 9.00000000e-01][[363.51569086]]\n",
      "[2.88528702e-01 1.00000000e+03 2.00000000e+00 1.00000000e-01\n",
      " 1.00000000e-03 9.00000000e-01][[363.51512752]]\n",
      "[3.15208145e-01 1.00000000e+03 2.00000000e+00 1.00000000e-01\n",
      " 1.00000000e-03 9.00000000e-01][[363.51786597]]\n",
      "[2.88528702e-01 1.00000000e+03 2.00000000e+00 1.00000000e-01\n",
      " 1.00000000e-03 9.00000000e-01][[363.51512752]]\n",
      "[2.88528702e-01 2.71828183e+03 2.00000000e+00 1.00000000e-01\n",
      " 1.00000000e-03 9.00000000e-01][[363.64439068]]\n",
      "[2.88528702e-01 1.98288151e+02 2.00000000e+00 1.00000000e-01\n",
      " 1.00000000e-03 9.00000000e-01][[363.83558553]]\n",
      "[2.88528702e-01 1.00000000e+03 2.00000000e+00 1.00000000e-01\n",
      " 1.00000000e-03 9.00000000e-01][[363.51512752]]\n",
      "[2.88528702e-01 5.39003090e+02 2.00000000e+00 1.00000000e-01\n",
      " 1.00000000e-03 9.00000000e-01][[363.38678925]]\n",
      "[2.88528702e-01 3.67879447e+02 2.00000000e+00 1.00000000e-01\n",
      " 1.00000000e-03 9.00000000e-01][[363.53779822]]\n",
      "[2.88528702e-01 6.18040180e+02 2.00000000e+00 1.00000000e-01\n",
      " 1.00000000e-03 9.00000000e-01][[363.37673348]]\n",
      "[2.88528702e-01 6.14635306e+02 2.00000000e+00 1.00000000e-01\n",
      " 1.00000000e-03 9.00000000e-01][[363.37659444]]\n",
      "[2.88528702e-01 6.06098509e+02 2.00000000e+00 1.00000000e-01\n",
      " 1.00000000e-03 9.00000000e-01][[363.37644673]]\n",
      "[2.88528702e-01 6.03071281e+02 2.00000000e+00 1.00000000e-01\n",
      " 1.00000000e-03 9.00000000e-01][[363.37646529]]\n",
      "[2.88528702e-01 6.09140932e+02 2.00000000e+00 1.00000000e-01\n",
      " 1.00000000e-03 9.00000000e-01][[363.37646587]]\n",
      "[2.88528702e-01 6.06098509e+02 2.00000000e+00 1.00000000e-01\n",
      " 1.00000000e-03 9.00000000e-01][[363.37644673]]\n",
      "[2.88528702e-01 6.06098509e+02 5.43656366e+00 1.00000000e-01\n",
      " 1.00000000e-03 9.00000000e-01][[384.4992614]]\n",
      "[2.88528702e-01 6.06098509e+02 3.96576301e-01 1.00000000e-01\n",
      " 1.00000000e-03 9.00000000e-01][[533.38544421]]\n",
      "[2.88528702e-01 6.06098509e+02 2.00000000e+00 1.00000000e-01\n",
      " 1.00000000e-03 9.00000000e-01][[363.37644673]]\n",
      "[2.88528702e-01 6.06098509e+02 1.07800618e+00 1.00000000e-01\n",
      " 1.00000000e-03 9.00000000e-01][[420.85549891]]\n",
      "[2.88528702e-01 6.06098509e+02 2.93032454e+00 1.00000000e-01\n",
      " 1.00000000e-03 9.00000000e-01][[343.27406222]]\n",
      "[2.88528702e-01 6.06098509e+02 4.64545745e+00 1.00000000e-01\n",
      " 1.00000000e-03 9.00000000e-01][[359.63620256]]\n",
      "[2.88528702e-01 6.06098509e+02 3.11346569e+00 1.00000000e-01\n",
      " 1.00000000e-03 9.00000000e-01][[342.1460675]]\n",
      "[2.88528702e-01 6.06098509e+02 3.23560591e+00 1.00000000e-01\n",
      " 1.00000000e-03 9.00000000e-01][[341.82699583]]\n",
      "[2.88528702e-01 6.06098509e+02 3.30293230e+00 1.00000000e-01\n",
      " 1.00000000e-03 9.00000000e-01][[341.79329785]]\n",
      "[2.88528702e-01 6.06098509e+02 3.28640419e+00 1.00000000e-01\n",
      " 1.00000000e-03 9.00000000e-01][[341.79238101]]\n",
      "[2.88528702e-01 6.06098509e+02 3.27012283e+00 1.00000000e-01\n",
      " 1.00000000e-03 9.00000000e-01][[341.79730382]]\n",
      "[2.88528702e-01 6.06098509e+02 3.28640419e+00 1.00000000e-01\n",
      " 1.00000000e-03 9.00000000e-01][[341.79238101]]\n",
      "[2.88528702e-01 6.06098509e+02 3.28640419e+00 2.71828183e-01\n",
      " 1.00000000e-03 9.00000000e-01][[375.75689187]]\n",
      "[2.88528702e-01 6.06098509e+02 3.28640419e+00 1.98288151e-02\n",
      " 1.00000000e-03 9.00000000e-01][[441.90694152]]\n",
      "[2.88528702e-01 6.06098509e+02 3.28640419e+00 1.00000000e-01\n",
      " 1.00000000e-03 9.00000000e-01][[341.79238101]]\n",
      "[2.88528702e-01 6.06098509e+02 3.28640419e+00 5.39003090e-02\n",
      " 1.00000000e-03 9.00000000e-01][[369.17591238]]\n",
      "[2.88528702e-01 6.06098509e+02 3.28640419e+00 1.46516227e-01\n",
      " 1.00000000e-03 9.00000000e-01][[338.5130412]]\n",
      "[2.88528702e-01 6.06098509e+02 3.28640419e+00 1.36499772e-01\n",
      " 1.00000000e-03 9.00000000e-01][[337.94734283]]\n",
      "[2.88528702e-01 6.06098509e+02 3.28640419e+00 1.31202577e-01\n",
      " 1.00000000e-03 9.00000000e-01][[337.88859689]]\n",
      "[2.88528702e-01 6.06098509e+02 3.28640419e+00 1.32149983e-01\n",
      " 1.00000000e-03 9.00000000e-01][[337.88605572]]\n",
      "[2.88528702e-01 6.06098509e+02 3.28640419e+00 1.31782105e-01\n",
      " 1.00000000e-03 9.00000000e-01][[337.88635231]]\n",
      "[2.88528702e-01 6.06098509e+02 3.28640419e+00 1.32518888e-01\n",
      " 1.00000000e-03 9.00000000e-01][[337.8866327]]\n",
      "[2.88528702e-01 6.06098509e+02 3.28640419e+00 1.32149983e-01\n",
      " 1.00000000e-03 9.00000000e-01][[337.88605572]]\n",
      "[2.88528702e-01 6.06098509e+02 3.28640419e+00 1.32149983e-01\n",
      " 2.71828183e-03 9.00000000e-01][[337.87528686]]\n",
      "[2.88528702e-01 6.06098509e+02 3.28640419e+00 1.32149983e-01\n",
      " 1.37087457e-02 9.00000000e-01][[337.80681708]]\n",
      "[2.88528702e-01 6.06098509e+02 3.28640419e+00 1.32149983e-01\n",
      " 1.87929713e-01 9.00000000e-01][[336.81658048]]\n",
      "[2.88528702e-01 6.06098509e+02 3.28640419e+00 1.32149983e-01\n",
      " 1.29926110e+01 9.00000000e-01][[595.46760422]]\n",
      "[2.88528702e-01 6.06098509e+02 3.28640419e+00 1.32149983e-01\n",
      " 1.87929713e-01 9.00000000e-01][[336.81658048]]\n",
      "[2.88528702e-01 6.06098509e+02 3.28640419e+00 1.32149983e-01\n",
      " 9.47760658e-01 9.00000000e-01][[334.62727297]]\n",
      "[2.88528702e-01 6.06098509e+02 3.28640419e+00 1.32149983e-01\n",
      " 2.57628060e+00 9.00000000e-01][[341.62885945]]\n",
      "[2.88528702e-01 6.06098509e+02 3.28640419e+00 1.32149983e-01\n",
      " 5.21696021e-01 9.00000000e-01][[335.42504994]]\n",
      "[2.88528702e-01 6.06098509e+02 3.28640419e+00 1.32149983e-01\n",
      " 1.38862316e+00 9.00000000e-01][[334.96418854]]\n",
      "[2.88528702e-01 6.06098509e+02 3.28640419e+00 1.32149983e-01\n",
      " 8.84976402e-01 9.00000000e-01][[334.67547725]]\n",
      "[2.88528702e-01 6.06098509e+02 3.28640419e+00 1.32149983e-01\n",
      " 1.01499912e+00 9.00000000e-01][[334.60227091]]\n",
      "[2.88528702e-01 6.06098509e+02 3.28640419e+00 1.32149983e-01\n",
      " 1.14408527e+00 9.00000000e-01][[334.63141718]]\n",
      "[2.88528702e-01 6.06098509e+02 3.28640419e+00 1.32149983e-01\n",
      " 1.01499912e+00 9.00000000e-01][[334.60227091]]\n",
      "[2.88528702e-01 6.06098509e+02 3.28640419e+00 1.32149983e-01\n",
      " 1.01499912e+00 2.44645365e+00][[407.28881156]]\n",
      "[2.88528702e-01 6.06098509e+02 3.28640419e+00 1.32149983e-01\n",
      " 1.01499912e+00 1.78459336e-01][[1089.00519731]]\n",
      "[2.88528702e-01 6.06098509e+02 3.28640419e+00 1.32149983e-01\n",
      " 1.01499912e+00 9.00000000e-01][[334.60227091]]\n",
      "[2.88528702e-01 6.06098509e+02 3.28640419e+00 1.32149983e-01\n",
      " 1.01499912e+00 4.85102781e-01][[369.57662574]]\n",
      "[2.88528702e-01 6.06098509e+02 3.28640419e+00 1.32149983e-01\n",
      " 1.01499912e+00 1.31864604e+00][[353.01998168]]\n",
      "[2.88528702e-01 6.06098509e+02 3.28640419e+00 1.32149983e-01\n",
      " 1.01499912e+00 8.65533822e-01][[333.86077179]]\n",
      "[2.88528702e-01 6.06098509e+02 3.28640419e+00 1.32149983e-01\n",
      " 1.01499912e+00 7.69783679e-01][[333.37065527]]\n",
      "[2.88528702e-01 6.06098509e+02 3.28640419e+00 1.32149983e-01\n",
      " 1.01499912e+00 6.45314126e-01][[338.67942254]]\n",
      "[2.88528702e-01 6.06098509e+02 3.28640419e+00 1.32149983e-01\n",
      " 1.01499912e+00 7.98446518e-01][[333.22309551]]\n",
      "[2.88528702e-01 6.06098509e+02 3.28640419e+00 1.32149983e-01\n",
      " 1.01499912e+00 7.99674030e-01][[333.22314572]]\n",
      "[2.88528702e-01 6.06098509e+02 3.28640419e+00 1.32149983e-01\n",
      " 1.01499912e+00 7.97491136e-01][[333.22339838]]\n",
      "[4.16244058e-05 3.67355402e+02 5.40022625e+00 1.74636179e-01\n",
      " 1.03022320e+03 7.08352047e-01][[inf]]\n",
      "[2.88528702e-01 6.06098509e+02 3.28640419e+00 1.32149983e-01\n",
      " 1.01499912e+00 7.98446518e-01][[333.22309551]]\n",
      "[7.84302327e-01 6.06098509e+02 3.28640419e+00 1.32149983e-01\n",
      " 1.01499912e+00 7.98446518e-01][[328.94880132]]\n",
      "[3.95536659e+00 6.06098509e+02 3.28640419e+00 1.32149983e-01\n",
      " 1.01499912e+00 7.98446518e-01][[326.84750185]]\n",
      "[3.11852919e+00 6.06098509e+02 3.28640419e+00 1.32149983e-01\n",
      " 1.01499912e+00 7.98446518e-01][[326.95049282]]\n",
      "[5.42231160e+01 6.06098509e+02 3.28640419e+00 1.32149983e-01\n",
      " 1.01499912e+00 7.98446518e-01][[328.31798466]]\n",
      "[3.95536659e+00 6.06098509e+02 3.28640419e+00 1.32149983e-01\n",
      " 1.01499912e+00 7.98446518e-01][[326.84750185]]\n",
      "[1.07518010e+01 6.06098509e+02 3.28640419e+00 1.32149983e-01\n",
      " 1.01499912e+00 7.98446518e-01][[326.66167553]]\n",
      "[1.99475686e+01 6.06098509e+02 3.28640419e+00 1.32149983e-01\n",
      " 1.01499912e+00 7.98446518e-01][[326.85454989]]\n",
      "[8.81991791e+00 6.06098509e+02 3.28640419e+00 1.32149983e-01\n",
      " 1.01499912e+00 7.98446518e-01][[326.6663381]]\n",
      "[1.03212789e+01 6.06098509e+02 3.28640419e+00 1.32149983e-01\n",
      " 1.01499912e+00 7.98446518e-01][[326.66074733]]\n",
      "[9.95859491e+00 6.06098509e+02 3.28640419e+00 1.32149983e-01\n",
      " 1.01499912e+00 7.98446518e-01][[326.66079336]]\n"
     ]
    },
    {
     "name": "stderr",
     "output_type": "stream",
     "text": [
      "C:\\Users\\23478671\\AppData\\Local\\Temp\\ipykernel_6220\\4157852348.py:80: RuntimeWarning:\n",
      "\n",
      "divide by zero encountered in log\n",
      "\n"
     ]
    },
    {
     "name": "stdout",
     "output_type": "stream",
     "text": [
      "[1.03212789e+01 6.06098509e+02 3.28640419e+00 1.32149983e-01\n",
      " 1.01499912e+00 7.98446518e-01][[326.66074733]]\n",
      "[1.03212789e+01 1.64754656e+03 3.28640419e+00 1.32149983e-01\n",
      " 1.01499912e+00 7.98446518e-01][[329.25077787]]\n",
      "[ 10.32127886 120.18215241   3.28640419   0.13214998   1.01499912\n",
      "   0.79844652][[327.34790595]]\n",
      "[1.03212789e+01 6.06098509e+02 3.28640419e+00 1.32149983e-01\n",
      " 1.01499912e+00 7.98446518e-01][[326.66074733]]\n",
      "[1.03212789e+01 3.26688969e+02 3.28640419e+00 1.32149983e-01\n",
      " 1.01499912e+00 7.98446518e-01][[324.49017009]]\n",
      "[1.03212789e+01 2.22971184e+02 3.28640419e+00 1.32149983e-01\n",
      " 1.01499912e+00 7.98446518e-01][[325.43936173]]\n",
      "[1.03212789e+01 3.32025213e+02 3.28640419e+00 1.32149983e-01\n",
      " 1.01499912e+00 7.98446518e-01][[324.47374796]]\n",
      "[1.03212789e+01 3.77753803e+02 3.28640419e+00 1.32149983e-01\n",
      " 1.01499912e+00 7.98446518e-01][[324.46952252]]\n",
      "[1.03212789e+01 4.52521891e+02 3.28640419e+00 1.32149983e-01\n",
      " 1.01499912e+00 7.98446518e-01][[324.92071794]]\n",
      "[1.03212789e+01 3.55011901e+02 3.28640419e+00 1.32149983e-01\n",
      " 1.01499912e+00 7.98446518e-01][[324.44155164]]\n",
      "[1.03212789e+01 3.53118043e+02 3.28640419e+00 1.32149983e-01\n",
      " 1.01499912e+00 7.98446518e-01][[324.44186538]]\n",
      "[1.03212789e+01 3.56915916e+02 3.28640419e+00 1.32149983e-01\n",
      " 1.01499912e+00 7.98446518e-01][[324.4416533]]\n",
      "[1.03212789e+01 3.55011901e+02 3.28640419e+00 1.32149983e-01\n",
      " 1.01499912e+00 7.98446518e-01][[324.44155164]]\n",
      "[1.03212789e+01 3.55011901e+02 8.93337279e+00 1.32149983e-01\n",
      " 1.01499912e+00 7.98446518e-01][[469.41526792]]\n",
      "[1.03212789e+01 3.55011901e+02 6.51655009e-01 1.32149983e-01\n",
      " 1.01499912e+00 7.98446518e-01][[475.82787522]]\n",
      "[1.03212789e+01 3.55011901e+02 3.28640419e+00 1.32149983e-01\n",
      " 1.01499912e+00 7.98446518e-01][[324.44155164]]\n",
      "[1.03212789e+01 3.55011901e+02 1.77138201e+00 1.32149983e-01\n",
      " 1.01499912e+00 7.98446518e-01][[368.16752357]]\n",
      "[1.03212789e+01 3.55011901e+02 4.81511542e+00 1.32149983e-01\n",
      " 1.01499912e+00 7.98446518e-01][[326.56778516]]\n",
      "[1.03212789e+01 3.55011901e+02 3.83552730e+00 1.32149983e-01\n",
      " 1.01499912e+00 7.98446518e-01][[321.11297248]]\n",
      "[1.03212789e+01 3.55011901e+02 3.88617122e+00 1.32149983e-01\n",
      " 1.01499912e+00 7.98446518e-01][[321.05540932]]\n",
      "[1.03212789e+01 3.55011901e+02 3.94443931e+00 1.32149983e-01\n",
      " 1.01499912e+00 7.98446518e-01][[321.03812723]]\n",
      "[1.03212789e+01 3.55011901e+02 3.93497086e+00 1.32149983e-01\n",
      " 1.01499912e+00 7.98446518e-01][[321.03740219]]\n",
      "[1.03212789e+01 3.55011901e+02 3.92788998e+00 1.32149983e-01\n",
      " 1.01499912e+00 7.98446518e-01][[321.0377529]]\n",
      "[1.03212789e+01 3.55011901e+02 3.93497086e+00 1.32149983e-01\n",
      " 1.01499912e+00 7.98446518e-01][[321.03740219]]\n",
      "[ 10.32127886 355.01190069   3.93497086   0.3592209    1.01499912\n",
      "   0.79844652][[inf]]\n",
      "[1.03212789e+01 3.55011901e+02 3.93497086e+00 2.62037757e-02\n",
      " 1.01499912e+00 7.98446518e-01][[408.09865519]]\n",
      "[1.03212789e+01 3.55011901e+02 3.93497086e+00 1.32149983e-01\n",
      " 1.01499912e+00 7.98446518e-01][[321.03740219]]\n",
      "[1.03212789e+01 3.55011901e+02 3.93497086e+00 7.12292490e-02\n",
      " 1.01499912e+00 7.98446518e-01][[346.10007775]]\n",
      "[1.03212789e+01 3.55011901e+02 3.93497086e+00 1.93621168e-01\n",
      " 1.01499912e+00 7.98446518e-01][[322.62847442]]\n",
      "[1.03212789e+01 3.55011901e+02 3.93497086e+00 1.52680156e-01\n",
      " 1.01499912e+00 7.98446518e-01][[319.47740734]]\n",
      "[1.03212789e+01 3.55011901e+02 3.93497086e+00 1.54758463e-01\n",
      " 1.01499912e+00 7.98446518e-01][[319.45200491]]\n",
      "[1.03212789e+01 3.55011901e+02 3.93497086e+00 1.56292691e-01\n",
      " 1.01499912e+00 7.98446518e-01][[319.44753606]]\n",
      "[1.03212789e+01 3.55011901e+02 3.93497086e+00 1.56030663e-01\n",
      " 1.01499912e+00 7.98446518e-01][[319.44745015]]\n",
      "[1.03212789e+01 3.55011901e+02 3.93497086e+00 1.55771688e-01\n",
      " 1.01499912e+00 7.98446518e-01][[319.44770776]]\n",
      "[1.03212789e+01 3.55011901e+02 3.93497086e+00 1.56030663e-01\n",
      " 1.01499912e+00 7.98446518e-01][[319.44745015]]\n",
      "[1.03212789e+01 3.55011901e+02 3.93497086e+00 1.56030663e-01\n",
      " 2.75905365e+00 7.98446518e-01][[322.10338924]]\n",
      "[1.03212789e+01 3.55011901e+02 3.93497086e+00 1.56030663e-01\n",
      " 2.01262297e-01 7.98446518e-01][[328.12332235]]\n",
      "[1.03212789e+01 3.55011901e+02 3.93497086e+00 1.56030663e-01\n",
      " 1.01499912e+00 7.98446518e-01][[319.44745015]]\n",
      "[1.03212789e+01 3.55011901e+02 3.93497086e+00 1.56030663e-01\n",
      " 5.47087660e-01 7.98446518e-01][[323.64749872]]\n",
      "[1.03212789e+01 3.55011901e+02 3.93497086e+00 1.56030663e-01\n",
      " 1.48713841e+00 7.98446518e-01][[317.37507228]]\n",
      "[1.03212789e+01 3.55011901e+02 3.93497086e+00 1.56030663e-01\n",
      " 1.88310445e+00 7.98446518e-01][[317.28128569]]\n",
      "[1.03212789e+01 3.55011901e+02 3.93497086e+00 1.56030663e-01\n",
      " 1.71481179e+00 7.98446518e-01][[317.14107504]]\n",
      "[1.03212789e+01 3.55011901e+02 3.93497086e+00 1.56030663e-01\n",
      " 1.69862693e+00 7.98446518e-01][[317.1415313]]\n",
      "[1.03212789e+01 3.55011901e+02 3.93497086e+00 1.56030663e-01\n",
      " 1.72382815e+00 7.98446518e-01][[317.14188729]]\n",
      "[1.03212789e+01 3.55011901e+02 3.93497086e+00 1.56030663e-01\n",
      " 1.71481179e+00 7.98446518e-01][[317.14107504]]\n",
      "[1.03212789e+01 3.55011901e+02 3.93497086e+00 1.56030663e-01\n",
      " 1.71481179e+00 2.17040266e+00][[390.62495695]]\n",
      "[1.03212789e+01 3.55011901e+02 3.93497086e+00 1.56030663e-01\n",
      " 1.71481179e+00 1.58322483e-01][[997.33890446]]\n",
      "[1.03212789e+01 3.55011901e+02 3.93497086e+00 1.56030663e-01\n",
      " 1.71481179e+00 7.98446518e-01][[317.14107504]]\n",
      "[1.03212789e+01 3.55011901e+02 3.93497086e+00 1.56030663e-01\n",
      " 1.71481179e+00 4.30365140e-01][[344.17271807]]\n",
      "[1.03212789e+01 3.55011901e+02 3.93497086e+00 1.56030663e-01\n",
      " 1.71481179e+00 1.16985371e+00][[337.14656447]]\n",
      "[1.03212789e+01 3.55011901e+02 3.93497086e+00 1.56030663e-01\n",
      " 1.71481179e+00 7.35967132e-01][[315.2934074]]\n",
      "[1.03212789e+01 3.55011901e+02 3.93497086e+00 1.56030663e-01\n",
      " 1.71481179e+00 6.42267127e-01][[314.9576357]]\n",
      "[1.03212789e+01 3.55011901e+02 3.93497086e+00 1.56030663e-01\n",
      " 1.71481179e+00 5.51188284e-01][[319.7987911]]\n",
      "[1.03212789e+01 3.55011901e+02 3.93497086e+00 1.56030663e-01\n",
      " 1.71481179e+00 6.78454469e-01][[314.63413252]]\n",
      "[1.03212789e+01 3.55011901e+02 3.93497086e+00 1.56030663e-01\n",
      " 1.71481179e+00 6.79560237e-01][[314.63445766]]\n",
      "[1.03212789e+01 3.55011901e+02 3.93497086e+00 1.56030663e-01\n",
      " 1.71481179e+00 6.77350501e-01][[314.63436141]]\n",
      "[3.69213866e+02 2.07942187e+02 4.71153112e+00 1.84226795e-01\n",
      " 2.89712516e+00 5.76495052e-01][[325.13498521]]\n",
      "[1.03212789e+01 3.55011901e+02 3.93497086e+00 1.56030663e-01\n",
      " 1.71481179e+00 6.78454469e-01][[314.63413252]]\n",
      "[2.80561448e+01 3.55011901e+02 3.93497086e+00 1.56030663e-01\n",
      " 1.71481179e+00 6.78454469e-01][[316.44285221]]\n",
      "[2.04658730e+00 3.55011901e+02 3.93497086e+00 1.56030663e-01\n",
      " 1.71481179e+00 6.78454469e-01][[319.52209052]]\n",
      "[1.03212789e+01 3.55011901e+02 3.93497086e+00 1.56030663e-01\n",
      " 1.71481179e+00 6.78454469e-01][[314.63413252]]\n",
      "[5.56320120e+00 3.55011901e+02 3.93497086e+00 1.56030663e-01\n",
      " 1.71481179e+00 6.78454469e-01][[315.06763094]]\n",
      "[1.51223483e+01 3.55011901e+02 3.93497086e+00 1.56030663e-01\n",
      " 1.71481179e+00 6.78454469e-01][[315.0401274]]\n",
      "[9.24393853e+00 3.55011901e+02 3.93497086e+00 1.56030663e-01\n",
      " 1.71481179e+00 6.78454469e-01][[314.60321675]]\n",
      "[8.94310546e+00 3.55011901e+02 3.93497086e+00 1.56030663e-01\n",
      " 1.71481179e+00 6.78454469e-01][[314.60235419]]\n",
      "[9.02574174e+00 3.55011901e+02 3.93497086e+00 1.56030663e-01\n",
      " 1.71481179e+00 6.78454469e-01][[314.6021938]]\n",
      "[9.03785582e+00 3.55011901e+02 3.93497086e+00 1.56030663e-01\n",
      " 1.71481179e+00 6.78454469e-01][[314.60219627]]\n",
      "[9.01364390e+00 3.55011901e+02 3.93497086e+00 1.56030663e-01\n",
      " 1.71481179e+00 6.78454469e-01][[314.6021979]]\n",
      "[9.02574174e+00 3.55011901e+02 3.93497086e+00 1.56030663e-01\n",
      " 1.71481179e+00 6.78454469e-01][[314.6021938]]\n",
      "[9.02574174e+00 9.65022399e+02 3.93497086e+00 1.56030663e-01\n",
      " 1.71481179e+00 6.78454469e-01][[327.11559556]]\n",
      "[ 9.02574174 70.39465324  3.93497086  0.15603066  1.71481179  0.67845447][[316.60516316]]\n",
      "[9.02574174e+00 3.55011901e+02 3.93497086e+00 1.56030663e-01\n",
      " 1.71481179e+00 6.78454469e-01][[314.6021938]]\n",
      "[9.02574174e+00 1.91352512e+02 3.93497086e+00 1.56030663e-01\n",
      " 1.71481179e+00 6.78454469e-01][[314.46047382]]\n",
      "[  9.02574174 130.60158167   3.93497086   0.15603066   1.71481179\n",
      "   0.67845447][[314.74916042]]\n",
      "[9.02574174e+00 2.32002039e+02 3.93497086e+00 1.56030663e-01\n",
      " 1.71481179e+00 6.78454469e-01][[314.30576978]]\n",
      "[9.02574174e+00 2.48611623e+02 3.93497086e+00 1.56030663e-01\n",
      " 1.71481179e+00 6.78454469e-01][[314.25226983]]\n",
      "[9.02574174e+00 2.84852329e+02 3.93497086e+00 1.56030663e-01\n",
      " 1.71481179e+00 6.78454469e-01][[314.20947527]]\n",
      "[9.02574174e+00 2.85487664e+02 3.93497086e+00 1.56030663e-01\n",
      " 1.71481179e+00 6.78454469e-01][[314.20995546]]\n",
      "[9.02574174e+00 2.77262109e+02 3.93497086e+00 1.56030663e-01\n",
      " 1.71481179e+00 6.78454469e-01][[314.20741718]]\n",
      "[9.02574174e+00 2.65948252e+02 3.93497086e+00 1.56030663e-01\n",
      " 1.71481179e+00 6.78454469e-01][[314.21607866]]\n",
      "[9.02574174e+00 2.78793724e+02 3.93497086e+00 1.56030663e-01\n",
      " 1.71481179e+00 6.78454469e-01][[314.20729802]]\n",
      "[9.02574174e+00 2.78120751e+02 3.93497086e+00 1.56030663e-01\n",
      " 1.71481179e+00 6.78454469e-01][[314.20731789]]\n",
      "[9.02574174e+00 2.79468325e+02 3.93497086e+00 1.56030663e-01\n",
      " 1.71481179e+00 6.78454469e-01][[314.20732963]]\n",
      "[9.02574174e+00 2.78793724e+02 3.93497086e+00 1.56030663e-01\n",
      " 1.71481179e+00 6.78454469e-01][[314.20729802]]\n",
      "[9.02574174e+00 2.78793724e+02 1.06963598e+01 1.56030663e-01\n",
      " 1.71481179e+00 6.78454469e-01][[560.03344057]]\n",
      "[9.02574174e+00 2.78793724e+02 7.80258094e-01 1.56030663e-01\n",
      " 1.71481179e+00 6.78454469e-01][[450.42908245]]\n",
      "[9.02574174e+00 2.78793724e+02 3.93497086e+00 1.56030663e-01\n",
      " 1.71481179e+00 6.78454469e-01][[314.20729802]]\n",
      "[9.02574174e+00 2.78793724e+02 2.12096145e+00 1.56030663e-01\n",
      " 1.71481179e+00 6.78454469e-01][[346.73406596]]\n",
      "[9.02574174e+00 2.78793724e+02 5.76537083e+00 1.56030663e-01\n",
      " 1.71481179e+00 6.78454469e-01][[334.43440954]]\n",
      "[9.02574174e+00 2.78793724e+02 3.70659974e+00 1.56030663e-01\n",
      " 1.71481179e+00 6.78454469e-01][[314.84437053]]\n",
      "[9.02574174e+00 2.78793724e+02 3.96302796e+00 1.56030663e-01\n",
      " 1.71481179e+00 6.78454469e-01][[314.18387635]]\n",
      "[9.02574174e+00 2.78793724e+02 4.00858791e+00 1.56030663e-01\n",
      " 1.71481179e+00 6.78454469e-01][[314.17074168]]\n",
      "[9.02574174e+00 2.78793724e+02 4.00555723e+00 1.56030663e-01\n",
      " 1.71481179e+00 6.78454469e-01][[314.17066427]]\n",
      "[9.02574174e+00 2.78793724e+02 4.00484513e+00 1.56030663e-01\n",
      " 1.71481179e+00 6.78454469e-01][[314.17066568]]\n",
      "[9.02574174e+00 2.78793724e+02 4.00626945e+00 1.56030663e-01\n",
      " 1.71481179e+00 6.78454469e-01][[314.17067032]]\n",
      "[9.02574174e+00 2.78793724e+02 4.00555723e+00 1.56030663e-01\n",
      " 1.71481179e+00 6.78454469e-01][[314.17066427]]\n",
      "[  9.02574174 278.79372385   4.00555723   0.42413532   1.71481179\n",
      "   0.67845447][[inf]]\n",
      "[9.02574174e+00 2.78793724e+02 4.00555723e+00 3.09390316e-02\n",
      " 1.71481179e+00 6.78454469e-01][[392.09365943]]\n",
      "[9.02574174e+00 2.78793724e+02 4.00555723e+00 1.56030663e-01\n",
      " 1.71481179e+00 6.78454469e-01][[314.17066427]]\n",
      "[9.02574174e+00 2.78793724e+02 4.00555723e+00 8.41010095e-02\n",
      " 1.71481179e+00 6.78454469e-01][[336.08189196]]\n",
      "[9.02574174e+00 2.78793724e+02 4.00555723e+00 2.28610240e-01\n",
      " 1.71481179e+00 6.78454469e-01][[325.92779268]]\n",
      "[9.02574174e+00 2.78793724e+02 4.00555723e+00 1.49705819e-01\n",
      " 1.71481179e+00 6.78454469e-01][[314.48043938]]\n",
      "[9.02574174e+00 2.78793724e+02 4.00555723e+00 1.59297203e-01\n",
      " 1.71481179e+00 6.78454469e-01][[314.10725364]]\n",
      "[9.02574174e+00 2.78793724e+02 4.00555723e+00 1.61077331e-01\n",
      " 1.71481179e+00 6.78454469e-01][[314.09962044]]\n",
      "[9.02574174e+00 2.78793724e+02 4.00555723e+00 1.60924273e-01\n",
      " 1.71481179e+00 6.78454469e-01][[314.09953917]]\n",
      "[9.02574174e+00 2.78793724e+02 4.00555723e+00 1.60874585e-01\n",
      " 1.71481179e+00 6.78454469e-01][[314.09954246]]\n",
      "[9.02574174e+00 2.78793724e+02 4.00555723e+00 1.60973976e-01\n",
      " 1.71481179e+00 6.78454469e-01][[314.09955043]]\n",
      "[9.02574174e+00 2.78793724e+02 4.00555723e+00 1.60924273e-01\n",
      " 1.71481179e+00 6.78454469e-01][[314.09953917]]\n",
      "[9.02574174e+00 2.78793724e+02 4.00555723e+00 1.60924273e-01\n",
      " 4.66134173e+00 6.78454469e-01][[341.80506137]]\n",
      "[9.02574174e+00 2.78793724e+02 4.00555723e+00 1.60924273e-01\n",
      " 3.40026859e-01 6.78454469e-01][[333.9117217]]\n",
      "[9.02574174e+00 2.78793724e+02 4.00555723e+00 1.60924273e-01\n",
      " 1.71481179e+00 6.78454469e-01][[314.09953917]]\n",
      "[9.02574174e+00 2.78793724e+02 4.00555723e+00 1.60924273e-01\n",
      " 9.24288854e-01 6.78454469e-01][[322.55642288]]\n",
      "[9.02574174e+00 2.78793724e+02 4.00555723e+00 1.60924273e-01\n",
      " 2.51247753e+00 6.78454469e-01][[313.22548745]]\n",
      "[9.02574174e+00 2.78793724e+02 4.00555723e+00 1.60924273e-01\n",
      " 2.29490688e+00 6.78454469e-01][[312.74338426]]\n",
      "[9.02574174e+00 2.78793724e+02 4.00555723e+00 1.60924273e-01\n",
      " 2.16862010e+00 6.78454469e-01][[312.70557231]]\n",
      "[9.02574174e+00 2.78793724e+02 4.00555723e+00 1.60924273e-01\n",
      " 2.20743187e+00 6.78454469e-01][[312.6979449]]\n",
      "[9.02574174e+00 2.78793724e+02 4.00555723e+00 1.60924273e-01\n",
      " 2.20186456e+00 6.78454469e-01][[312.69798442]]\n",
      "[9.02574174e+00 2.78793724e+02 4.00555723e+00 1.60924273e-01\n",
      " 2.21301327e+00 6.78454469e-01][[312.69825905]]\n",
      "[9.02574174e+00 2.78793724e+02 4.00555723e+00 1.60924273e-01\n",
      " 2.20743187e+00 6.78454469e-01][[312.6979449]]\n",
      "[9.02574174e+00 2.78793724e+02 4.00555723e+00 1.60924273e-01\n",
      " 2.20743187e+00 1.84423046e+00][[382.47011502]]\n",
      "[9.02574174e+00 2.78793724e+02 4.00555723e+00 1.60924273e-01\n",
      " 2.20743187e+00 1.34529482e-01][[1030.03736091]]\n",
      "[9.02574174e+00 2.78793724e+02 4.00555723e+00 1.60924273e-01\n",
      " 2.20743187e+00 6.78454469e-01][[312.6979449]]\n",
      "[9.02574174e+00 2.78793724e+02 4.00555723e+00 1.60924273e-01\n",
      " 2.20743187e+00 3.65689056e-01][[347.68629625]]\n",
      "[9.02574174e+00 2.78793724e+02 4.00555723e+00 1.60924273e-01\n",
      " 2.20743187e+00 9.94045890e-01][[330.48719332]]\n",
      "[9.02574174e+00 2.78793724e+02 4.00555723e+00 1.60924273e-01\n",
      " 2.20743187e+00 6.55320431e-01][[312.06195495]]\n",
      "[9.02574174e+00 2.78793724e+02 4.00555723e+00 1.60924273e-01\n",
      " 2.20743187e+00 5.82447401e-01][[311.57970301]]\n",
      "[9.02574174e+00 2.78793724e+02 4.00555723e+00 1.60924273e-01\n",
      " 2.20743187e+00 4.87578212e-01][[316.89595645]]\n",
      "[9.02574174e+00 2.78793724e+02 4.00555723e+00 1.60924273e-01\n",
      " 2.20743187e+00 6.04418560e-01][[311.4312412]]\n",
      "[9.02574174e+00 2.78793724e+02 4.00555723e+00 1.60924273e-01\n",
      " 2.20743187e+00 6.05324147e-01][[311.43130185]]\n",
      "[9.02574174e+00 2.78793724e+02 4.00555723e+00 1.60924273e-01\n",
      " 2.20743187e+00 6.03720556e-01][[311.43150952]]\n",
      "[7.89282172e+00 2.18938972e+02 4.07740979e+00 1.65971361e-01\n",
      " 2.84156868e+00 5.38461773e-01][[309.11025875]]\n",
      "[9.02574174e+00 2.78793724e+02 4.00555723e+00 1.60924273e-01\n",
      " 2.20743187e+00 6.04418560e-01][[311.4312412]]\n",
      "[7.89282172e+00 2.18938972e+02 4.07740979e+00 1.65971361e-01\n",
      " 2.84156868e+00 5.38461773e-01][[309.11025875]]\n",
      "[  6.35302885 148.07930126   4.1964097    0.17447515   4.27572061\n",
      "   0.44663959][[316.02621241]]\n",
      "[7.89282172e+00 2.18938972e+02 4.07740979e+00 1.65971361e-01\n",
      " 2.84156868e+00 5.38461773e-01][[309.11025875]]\n",
      "[7.26493006e+00 1.88562044e+02 4.12246010e+00 1.69169467e-01\n",
      " 3.32153221e+00 5.01348973e-01][[309.12544753]]\n",
      "[8.30772373e+00 2.40112182e+02 4.04981366e+00 1.64025126e-01\n",
      " 2.58028467e+00 5.62759771e-01][[309.8107058]]\n",
      "[7.57908944e+00 2.03508567e+02 4.09939111e+00 1.67528573e-01\n",
      " 3.06706616e+00 5.19971241e-01][[308.87932133]]\n",
      "[7.56586127e+00 2.02869002e+02 4.10034047e+00 1.67595966e-01\n",
      " 3.07717009e+00 5.19189307e-01][[308.87828725]]\n",
      "[7.55252425e+00 2.02225082e+02 4.10129954e+00 1.67664061e-01\n",
      " 3.08740885e+00 5.18400747e-01][[308.87810558]]\n",
      "[7.44135319e+00 1.96893151e+02 4.10936931e+00 1.68237487e-01\n",
      " 3.17482211e+00 5.11820145e-01][[308.91293356]]\n",
      "[7.53907772e+00 2.01576797e+02 4.10226843e+00 1.67732865e-01\n",
      " 3.09778457e+00 5.17605518e-01][[308.87881692]]\n",
      "[7.55252425e+00 2.02225082e+02 4.10129954e+00 1.67664061e-01\n",
      " 3.08740885e+00 5.18400747e-01][[308.87810558]]\n",
      "[2.05298894e+01 2.02225082e+02 4.10129954e+00 1.67664061e-01\n",
      " 3.08740885e+00 5.18400747e-01][[310.88834449]]\n",
      "[1.49757607e+00 2.02225082e+02 4.10129954e+00 1.67664061e-01\n",
      " 3.08740885e+00 5.18400747e-01][[315.83025644]]\n",
      "[7.55252425e+00 2.02225082e+02 4.10129954e+00 1.67664061e-01\n",
      " 3.08740885e+00 5.18400747e-01][[308.87810558]]\n",
      "[4.07083391e+00 2.02225082e+02 4.10129954e+00 1.67664061e-01\n",
      " 3.08740885e+00 5.18400747e-01][[309.28520291]]\n",
      "[1.10656736e+01 2.02225082e+02 4.10129954e+00 1.67664061e-01\n",
      " 3.08740885e+00 5.18400747e-01][[309.35809557]]\n",
      "[6.58516297e+00 2.02225082e+02 4.10129954e+00 1.67664061e-01\n",
      " 3.08740885e+00 5.18400747e-01][[308.82219904]]\n",
      "[6.43262476e+00 2.02225082e+02 4.10129954e+00 1.67664061e-01\n",
      " 3.08740885e+00 5.18400747e-01][[308.8198292]]\n",
      "[6.33854448e+00 2.02225082e+02 4.10129954e+00 1.67664061e-01\n",
      " 3.08740885e+00 5.18400747e-01][[308.81947272]]\n",
      "[6.34966142e+00 2.02225082e+02 4.10129954e+00 1.67664061e-01\n",
      " 3.08740885e+00 5.18400747e-01][[308.81946876]]\n",
      "[6.36068640e+00 2.02225082e+02 4.10129954e+00 1.67664061e-01\n",
      " 3.08740885e+00 5.18400747e-01][[308.81947721]]\n",
      "[6.34966142e+00 2.02225082e+02 4.10129954e+00 1.67664061e-01\n",
      " 3.08740885e+00 5.18400747e-01][[308.81946876]]\n",
      "[6.34966142e+00 5.49704765e+02 4.10129954e+00 1.67664061e-01\n",
      " 3.08740885e+00 5.18400747e-01][[312.36590288]]\n",
      "[ 6.34966142 40.09883745  4.10129954  0.16766406  3.08740885  0.51840075][[318.99294073]]\n",
      "[6.34966142e+00 2.02225082e+02 4.10129954e+00 1.67664061e-01\n",
      " 3.08740885e+00 5.18400747e-01][[308.81946876]]\n",
      "[  6.34966142 108.99994391   4.10129954   0.16766406   3.08740885\n",
      "   0.51840075][[310.82114321]]\n",
      "[6.34966142e+00 2.96292559e+02 4.10129954e+00 1.67664061e-01\n",
      " 3.08740885e+00 5.18400747e-01][[308.09664314]]\n",
      "[6.34966142e+00 3.75183529e+02 4.10129954e+00 1.67664061e-01\n",
      " 3.08740885e+00 5.18400747e-01][[308.43989092]]\n",
      "[6.34966142e+00 2.91521172e+02 4.10129954e+00 1.67664061e-01\n",
      " 3.08740885e+00 5.18400747e-01][[308.10799318]]\n",
      "[6.34966142e+00 3.06185496e+02 4.10129954e+00 1.67664061e-01\n",
      " 3.08740885e+00 5.18400747e-01][[308.08408454]]\n",
      "[6.34966142e+00 3.30899880e+02 4.10129954e+00 1.67664061e-01\n",
      " 3.08740885e+00 5.18400747e-01][[308.12052521]]\n",
      "[6.34966142e+00 3.10254427e+02 4.10129954e+00 1.67664061e-01\n",
      " 3.08740885e+00 5.18400747e-01][[308.08332722]]\n",
      "[6.34966142e+00 3.08929340e+02 4.10129954e+00 1.67664061e-01\n",
      " 3.08740885e+00 5.18400747e-01][[308.08328741]]\n",
      "[6.34966142e+00 3.07623080e+02 4.10129954e+00 1.67664061e-01\n",
      " 3.08740885e+00 5.18400747e-01][[308.08351939]]\n",
      "[6.34966142e+00 3.08929340e+02 4.10129954e+00 1.67664061e-01\n",
      " 3.08740885e+00 5.18400747e-01][[308.08328741]]\n",
      "[6.34966142e+00 3.08929340e+02 1.11484880e+01 1.67664061e-01\n",
      " 3.08740885e+00 5.18400747e-01][[532.8185643]]\n",
      "[6.34966142e+00 3.08929340e+02 8.13239101e-01 1.67664061e-01\n",
      " 3.08740885e+00 5.18400747e-01][[447.47637143]]\n",
      "[6.34966142e+00 3.08929340e+02 4.10129954e+00 1.67664061e-01\n",
      " 3.08740885e+00 5.18400747e-01][[308.08328741]]\n",
      "[6.34966142e+00 3.08929340e+02 2.21061313e+00 1.67664061e-01\n",
      " 3.08740885e+00 5.18400747e-01][[342.95210022]]\n",
      "[6.34966142e+00 3.08929340e+02 6.00906934e+00 1.67664061e-01\n",
      " 3.08740885e+00 5.18400747e-01][[324.52503451]]\n",
      "[6.34966142e+00 3.08929340e+02 3.99842987e+00 1.67664061e-01\n",
      " 3.08740885e+00 5.18400747e-01][[308.42346115]]\n",
      "[6.34966142e+00 3.08929340e+02 4.25006355e+00 1.67664061e-01\n",
      " 3.08740885e+00 5.18400747e-01][[307.8411229]]\n",
      "[6.34966142e+00 3.08929340e+02 4.85118251e+00 1.67664061e-01\n",
      " 3.08740885e+00 5.18400747e-01][[309.67886268]]\n",
      "[6.34966142e+00 3.08929340e+02 4.30840799e+00 1.67664061e-01\n",
      " 3.08740885e+00 5.18400747e-01][[307.82473207]]\n",
      "[6.34966142e+00 3.08929340e+02 4.30184606e+00 1.67664061e-01\n",
      " 3.08740885e+00 5.18400747e-01][[307.82440088]]\n",
      "[6.34966142e+00 3.08929340e+02 4.29979283e+00 1.67664061e-01\n",
      " 3.08740885e+00 5.18400747e-01][[307.82441002]]\n",
      "[6.34966142e+00 3.08929340e+02 4.30390026e+00 1.67664061e-01\n",
      " 3.08740885e+00 5.18400747e-01][[307.82444555]]\n",
      "[6.34966142e+00 3.08929340e+02 4.30184606e+00 1.67664061e-01\n",
      " 3.08740885e+00 5.18400747e-01][[307.82440088]]\n",
      "[  6.34966142 308.92934022   4.30184606   0.45575817   3.08740885\n",
      "   0.51840075][[inf]]\n",
      "[6.34966142e+00 3.08929340e+02 4.30184606e+00 3.32457966e-02\n",
      " 3.08740885e+00 5.18400747e-01][[394.53657918]]\n",
      "[6.34966142e+00 3.08929340e+02 4.30184606e+00 1.67664061e-01\n",
      " 3.08740885e+00 5.18400747e-01][[307.82440088]]\n",
      "[6.34966142e+00 3.08929340e+02 4.30184606e+00 9.03714471e-02\n",
      " 3.08740885e+00 5.18400747e-01][[337.64856129]]\n",
      "[6.34966142e+00 3.08929340e+02 4.30184606e+00 2.45655056e-01\n",
      " 3.08740885e+00 5.18400747e-01][[338.40941716]]\n",
      "[6.34966142e+00 3.08929340e+02 4.30184606e+00 1.48556281e-01\n",
      " 3.08740885e+00 5.18400747e-01][[308.69909737]]\n",
      "[6.34966142e+00 3.08929340e+02 4.30184606e+00 1.64885547e-01\n",
      " 3.08740885e+00 5.18400747e-01][[307.71453409]]\n",
      "[6.34966142e+00 3.08929340e+02 4.30184606e+00 1.62190409e-01\n",
      " 3.08740885e+00 5.18400747e-01][[307.68325953]]\n",
      "[6.34966142e+00 3.08929340e+02 4.30184606e+00 1.62434954e-01\n",
      " 3.08740885e+00 5.18400747e-01][[307.68301078]]\n",
      "[6.34966142e+00 3.08929340e+02 4.30184606e+00 1.62383495e-01\n",
      " 3.08740885e+00 5.18400747e-01][[307.68301163]]\n",
      "[6.34966142e+00 3.08929340e+02 4.30184606e+00 1.62486429e-01\n",
      " 3.08740885e+00 5.18400747e-01][[307.6830372]]\n",
      "[6.34966142e+00 3.08929340e+02 4.30184606e+00 1.62434954e-01\n",
      " 3.08740885e+00 5.18400747e-01][[307.68301078]]\n",
      "[6.34966142e+00 3.08929340e+02 4.30184606e+00 1.62434954e-01\n",
      " 3.08740885e+00 1.40915933e+00][[366.32689589]]\n",
      "[6.34966142e+00 3.08929340e+02 4.30184606e+00 1.62434954e-01\n",
      " 3.08740885e+00 1.02792725e-01][[1284.81604838]]\n",
      "[6.34966142e+00 3.08929340e+02 4.30184606e+00 1.62434954e-01\n",
      " 3.08740885e+00 5.18400747e-01][[307.68301078]]\n",
      "[6.34966142e+00 3.08929340e+02 4.30184606e+00 1.62434954e-01\n",
      " 3.08740885e+00 2.79419605e-01][[371.80589958]]\n",
      "[6.34966142e+00 3.08929340e+02 4.30184606e+00 1.62434954e-01\n",
      " 3.08740885e+00 7.59541215e-01][[318.81023045]]\n",
      "[6.34966142e+00 3.08929340e+02 4.30184606e+00 1.62434954e-01\n",
      " 3.08740885e+00 5.62347323e-01][[308.08604204]]\n",
      "[6.34966142e+00 3.08929340e+02 4.30184606e+00 1.62434954e-01\n",
      " 3.08740885e+00 5.23556724e-01][[307.66083944]]\n",
      "[6.34966142e+00 3.08929340e+02 4.30184606e+00 1.62434954e-01\n",
      " 3.08740885e+00 5.26803119e-01][[307.65740787]]\n",
      "[6.34966142e+00 3.08929340e+02 4.30184606e+00 1.62434954e-01\n",
      " 3.08740885e+00 5.26570123e-01][[307.65738996]]\n",
      "[6.34966142e+00 3.08929340e+02 4.30184606e+00 1.62434954e-01\n",
      " 3.08740885e+00 5.26652463e-01][[307.65739167]]\n",
      "[6.34966142e+00 3.08929340e+02 4.30184606e+00 1.62434954e-01\n",
      " 3.08740885e+00 5.26487795e-01][[307.65739332]]\n",
      "[6.34966142e+00 3.08929340e+02 4.30184606e+00 1.62434954e-01\n",
      " 3.08740885e+00 5.26570123e-01][[307.65738996]]\n",
      "[5.31324441e+00 2.24084173e+02 4.40467038e+00 1.69238012e-01\n",
      " 4.31818236e+00 4.51631308e-01][[310.24583034]]\n",
      "[8.47171764e+00 5.19386574e+02 4.14053237e+00 1.52001779e-01\n",
      " 1.79405408e+00 6.75047071e-01][[318.77067581]]\n",
      "[6.34966142e+00 3.08929340e+02 4.30184606e+00 1.62434954e-01\n",
      " 3.08740885e+00 5.26570123e-01][[307.65738996]]\n",
      "[7.08893013e+00 3.76740875e+02 4.23950092e+00 1.58367878e-01\n",
      " 2.50924097e+00 5.78977761e-01][[311.04077077]]\n",
      "[5.93184677e+00 2.73271772e+02 4.34083504e+00 1.65000600e-01\n",
      " 3.50953195e+00 4.96580556e-01][[306.88874507]]\n",
      "[5.82744986e+00 2.64667056e+02 4.35106394e+00 1.65676529e-01\n",
      " 3.62883928e+00 4.89042222e-01][[306.96371196]]\n",
      "[5.94847552e+00 2.74653667e+02 4.33922457e+00 1.64894286e-01\n",
      " 3.49108360e+00 4.97779588e-01][[306.88918411]]\n",
      "[5.93796908e+00 2.73780192e+02 4.34024151e+00 1.64961415e-01\n",
      " 3.50272238e+00 4.97022065e-01][[306.88853696]]\n",
      "[5.94195089e+00 2.74111083e+02 4.33985586e+00 1.64935957e-01\n",
      " 3.49830444e+00 4.97309179e-01][[306.88863393]]\n",
      "[3.90654617e+00 2.68856818e+02 4.70289033e+00 1.69099838e-01\n",
      " 5.55807145e+00 4.08708384e-01][[319.78500294]]\n",
      "[5.93796908e+00 2.73780192e+02 4.34024151e+00 1.64961415e-01\n",
      " 3.50272238e+00 4.97022065e-01][[306.88853696]]\n",
      "[1.61410734e+01 2.73780192e+02 4.34024151e+00 1.64961415e-01\n",
      " 3.50272238e+00 4.97022065e-01][[307.72924244]]\n",
      "[1.17742891e+00 2.73780192e+02 4.34024151e+00 1.64961415e-01\n",
      " 3.50272238e+00 4.97022065e-01][[319.98928549]]\n",
      "[5.93796908e+00 2.73780192e+02 4.34024151e+00 1.64961415e-01\n",
      " 3.50272238e+00 4.97022065e-01][[306.88853696]]\n",
      "[3.20058368e+00 2.73780192e+02 4.34024151e+00 1.64961415e-01\n",
      " 3.50272238e+00 4.97022065e-01][[308.76035745]]\n",
      "[8.70008825e+00 2.73780192e+02 4.34024151e+00 1.64961415e-01\n",
      " 3.50272238e+00 4.97022065e-01][[306.81435438]]\n",
      "[7.43805493e+00 2.73780192e+02 4.34024151e+00 1.64961415e-01\n",
      " 3.50272238e+00 4.97022065e-01][[306.76923383]]\n",
      "[7.52114354e+00 2.73780192e+02 4.34024151e+00 1.64961415e-01\n",
      " 3.50272238e+00 4.97022065e-01][[306.76923704]]\n",
      "[7.47893583e+00 2.73780192e+02 4.34024151e+00 1.64961415e-01\n",
      " 3.50272238e+00 4.97022065e-01][[306.76917137]]\n",
      "[7.49621140e+00 2.73780192e+02 4.34024151e+00 1.64961415e-01\n",
      " 3.50272238e+00 4.97022065e-01][[306.76918243]]\n",
      "[7.46170007e+00 2.73780192e+02 4.34024151e+00 1.64961415e-01\n",
      " 3.50272238e+00 4.97022065e-01][[306.76918242]]\n",
      "[7.47893583e+00 2.73780192e+02 4.34024151e+00 1.64961415e-01\n",
      " 3.50272238e+00 4.97022065e-01][[306.76917137]]\n",
      "[7.47893583e+00 7.44211721e+02 4.34024151e+00 1.64961415e-01\n",
      " 3.50272238e+00 4.97022065e-01][[315.39361725]]\n",
      "[ 7.47893583 54.28736796  4.34024151  0.16496142  3.50272238  0.49702207][[315.60324716]]\n",
      "[7.47893583e+00 2.73780192e+02 4.34024151e+00 1.64961415e-01\n",
      " 3.50272238e+00 4.97022065e-01][[306.76917137]]\n",
      "[  7.47893583 147.56836956   4.34024151   0.16496142   3.50272238\n",
      "   0.49702207][[308.53823315]]\n",
      "[7.47893583e+00 4.01132407e+02 4.34024151e+00 1.64961415e-01\n",
      " 3.50272238e+00 4.97022065e-01][[306.87443725]]\n",
      "[7.47893583e+00 3.17156956e+02 4.34024151e+00 1.64961415e-01\n",
      " 3.50272238e+00 4.97022065e-01][[306.54085672]]\n",
      "[7.47893583e+00 3.25578031e+02 4.34024151e+00 1.64961415e-01\n",
      " 3.50272238e+00 4.97022065e-01][[306.52577934]]\n",
      "[7.47893583e+00 3.38159549e+02 4.34024151e+00 1.64961415e-01\n",
      " 3.50272238e+00 4.97022065e-01][[306.52265782]]\n",
      "[7.47893583e+00 3.60952939e+02 4.34024151e+00 1.64961415e-01\n",
      " 3.50272238e+00 4.97022065e-01][[306.5783721]]\n",
      "[7.47893583e+00 3.33590310e+02 4.34024151e+00 1.64961415e-01\n",
      " 3.50272238e+00 4.97022065e-01][[306.52105929]]\n",
      "[7.47893583e+00 3.32931826e+02 4.34024151e+00 1.64961415e-01\n",
      " 3.50272238e+00 4.97022065e-01][[306.52108749]]\n",
      "[7.47893583e+00 3.34250096e+02 4.34024151e+00 1.64961415e-01\n",
      " 3.50272238e+00 4.97022065e-01][[306.52109616]]\n",
      "[7.47893583e+00 3.33590310e+02 4.34024151e+00 1.64961415e-01\n",
      " 3.50272238e+00 4.97022065e-01][[306.52105929]]\n",
      "[7.47893583e+00 3.33590310e+02 1.17979996e+01 1.64961415e-01\n",
      " 3.50272238e+00 4.97022065e-01][[533.95100853]]\n",
      "[7.47893583e+00 3.33590310e+02 8.60618462e-01 1.64961415e-01\n",
      " 3.50272238e+00 4.97022065e-01][[445.50896254]]\n",
      "[7.47893583e+00 3.33590310e+02 4.34024151e+00 1.64961415e-01\n",
      " 3.50272238e+00 4.97022065e-01][[306.52105929]]\n",
      "[7.47893583e+00 3.33590310e+02 2.33940359e+00 1.64961415e-01\n",
      " 3.50272238e+00 4.97022065e-01][[341.09064097]]\n",
      "[7.47893583e+00 3.33590310e+02 6.35915809e+00 1.64961415e-01\n",
      " 3.50272238e+00 4.97022065e-01][[323.4464431]]\n",
      "[7.47893583e+00 3.33590310e+02 4.21184381e+00 1.64961415e-01\n",
      " 3.50272238e+00 4.97022065e-01][[306.91298413]]\n",
      "[7.47893583e+00 3.33590310e+02 4.48072379e+00 1.64961415e-01\n",
      " 3.50272238e+00 4.97022065e-01][[306.31880124]]\n",
      "[7.47893583e+00 3.33590310e+02 4.54111169e+00 1.64961415e-01\n",
      " 3.50272238e+00 4.97022065e-01][[306.30275805]]\n",
      "[7.47893583e+00 3.33590310e+02 4.53461875e+00 1.64961415e-01\n",
      " 3.50272238e+00 4.97022065e-01][[306.30246755]]\n",
      "[7.47893583e+00 3.33590310e+02 4.53263252e+00 1.64961415e-01\n",
      " 3.50272238e+00 4.97022065e-01][[306.30247531]]\n",
      "[7.47893583e+00 3.33590310e+02 4.53660585e+00 1.64961415e-01\n",
      " 3.50272238e+00 4.97022065e-01][[306.3025051]]\n",
      "[7.47893583e+00 3.33590310e+02 4.53461875e+00 1.64961415e-01\n",
      " 3.50272238e+00 4.97022065e-01][[306.30246755]]\n",
      "[  7.47893583 333.59031018   4.53461875   0.44841162   3.50272238\n",
      "   0.49702207][[inf]]\n",
      "[7.47893583e+00 3.33590310e+02 4.53461875e+00 3.27098939e-02\n",
      " 3.50272238e+00 4.97022065e-01][[402.34373568]]\n",
      "[7.47893583e+00 3.33590310e+02 4.53461875e+00 1.64961415e-01\n",
      " 3.50272238e+00 4.97022065e-01][[306.30246755]]\n",
      "[7.47893583e+00 3.33590310e+02 4.53461875e+00 8.89147125e-02\n",
      " 3.50272238e+00 4.97022065e-01][[342.60129724]]\n",
      "[7.47893583e+00 3.33590310e+02 4.53461875e+00 2.41695241e-01\n",
      " 3.50272238e+00 4.97022065e-01][[340.14996829]]\n",
      "[7.47893583e+00 3.33590310e+02 4.53461875e+00 1.47820079e-01\n",
      " 3.50272238e+00 4.97022065e-01][[307.37261833]]\n",
      "[7.47893583e+00 3.33590310e+02 4.53461875e+00 1.60009079e-01\n",
      " 3.50272238e+00 4.97022065e-01][[306.22818487]]\n",
      "[7.47893583e+00 3.33590310e+02 4.53461875e+00 1.61184775e-01\n",
      " 3.50272238e+00 4.97022065e-01][[306.21831551]]\n",
      "[7.47893583e+00 3.33590310e+02 4.53461875e+00 1.61259581e-01\n",
      " 3.50272238e+00 4.97022065e-01][[306.21827114]]\n",
      "[7.47893583e+00 3.33590310e+02 4.53461875e+00 1.61296185e-01\n",
      " 3.50272238e+00 4.97022065e-01][[306.21827489]]\n",
      "[7.47893583e+00 3.33590310e+02 4.53461875e+00 1.61222985e-01\n",
      " 3.50272238e+00 4.97022065e-01][[306.21828424]]\n",
      "[7.47893583e+00 3.33590310e+02 4.53461875e+00 1.61259581e-01\n",
      " 3.50272238e+00 4.97022065e-01][[306.21827114]]\n",
      "[7.47893583e+00 3.33590310e+02 4.53461875e+00 1.61259581e-01\n",
      " 3.50272238e+00 1.35104605e+00][[365.20184186]]\n",
      "[7.47893583e+00 3.33590310e+02 4.53461875e+00 1.61259581e-01\n",
      " 3.50272238e+00 9.85535861e-02][[1273.88746173]]\n",
      "[7.47893583e+00 3.33590310e+02 4.53461875e+00 1.61259581e-01\n",
      " 3.50272238e+00 4.97022065e-01][[306.21827114]]\n",
      "[7.47893583e+00 3.33590310e+02 4.53461875e+00 1.61259581e-01\n",
      " 3.50272238e+00 2.67896429e-01][[369.46499726]]\n",
      "[7.47893583e+00 3.33590310e+02 4.53461875e+00 1.61259581e-01\n",
      " 3.50272238e+00 7.28217977e-01][[317.55254525]]\n",
      "[7.47893583e+00 3.33590310e+02 4.53461875e+00 1.61259581e-01\n",
      " 3.50272238e+00 5.37659412e-01][[306.64213712]]\n",
      "[7.47893583e+00 3.33590310e+02 4.53461875e+00 1.61259581e-01\n",
      " 3.50272238e+00 4.99813849e-01][[306.2074294]]\n",
      "[7.47893583e+00 3.33590310e+02 4.53461875e+00 1.61259581e-01\n",
      " 3.50272238e+00 5.03243127e-01][[306.20309332]]\n",
      "[7.47893583e+00 3.33590310e+02 4.53461875e+00 1.61259581e-01\n",
      " 3.50272238e+00 5.03047764e-01][[306.20307953]]\n",
      "[7.47893583e+00 3.33590310e+02 4.53461875e+00 1.61259581e-01\n",
      " 3.50272238e+00 5.03108388e-01][[306.20308047]]\n",
      "[7.47893583e+00 3.33590310e+02 4.53461875e+00 1.61259581e-01\n",
      " 3.50272238e+00 5.02987147e-01][[306.20308159]]\n",
      "[7.47893583e+00 3.33590310e+02 4.53461875e+00 1.61259581e-01\n",
      " 3.50272238e+00 5.03047764e-01][[306.20307953]]\n",
      "[6.25819415e+00 2.41972189e+02 4.64300689e+00 1.68013412e-01\n",
      " 4.89905767e+00 4.31456533e-01][[311.69189638]]\n",
      "[9.97839544e+00 5.60847760e+02 4.36457639e+00 1.50901900e-01\n",
      " 2.03538751e+00 6.44892113e-01][[319.70927811]]\n",
      "[7.47893583e+00 3.33590310e+02 4.53461875e+00 1.61259581e-01\n",
      " 3.50272238e+00 5.03047764e-01][[306.20307953]]\n",
      "[8.34968198e+00 4.06815051e+02 4.46890011e+00 1.57221934e-01\n",
      " 2.84678024e+00 5.53114305e-01][[310.16752357]]\n",
      "[6.98681368e+00 2.95086297e+02 4.57571742e+00 1.63806662e-01\n",
      " 3.98162885e+00 4.74397858e-01][[305.77515484]]\n",
      "[7.09367306e+00 3.03268267e+02 4.56652029e+00 1.63235201e-01\n",
      " 3.86945437e+00 4.80642018e-01][[305.67207757]]\n",
      "[7.13737683e+00 3.06643227e+02 4.56280392e+00 1.63004526e-01\n",
      " 3.82496613e+00 4.83192017e-01][[305.66653112]]\n",
      "[7.12713458e+00 3.05850793e+02 4.56367256e+00 1.63058430e-01\n",
      " 3.83532171e+00 4.82594604e-01][[305.66604999]]\n",
      "[7.13056935e+00 3.06116437e+02 4.56338110e+00 1.63040342e-01\n",
      " 3.83184416e+00 4.82794961e-01][[305.66609179]]\n",
      "[7.12370147e+00 3.05585380e+02 4.56396403e+00 1.63076519e-01\n",
      " 3.83880242e+00 4.82394329e-01][[305.666129]]\n",
      "[8.55444794e+00 3.41678143e+02 4.79860560e+00 1.61177398e-01\n",
      " 4.19950284e+00 4.68585939e-01][[304.60749144]]\n",
      "[7.12713458e+00 3.05850793e+02 4.56367256e+00 1.63058430e-01\n",
      " 3.83532171e+00 4.82594604e-01][[305.66604999]]\n",
      "[8.55444794e+00 3.41678143e+02 4.79860560e+00 1.61177398e-01\n",
      " 4.19950284e+00 4.68585939e-01][[304.60749144]]\n",
      "[1.14938338e+01 4.08749195e+02 5.20462132e+00 1.58179674e-01\n",
      " 4.86342338e+00 4.46775559e-01][[303.36093238]]\n",
      "[1.87842893e+01 5.50695618e+02 5.95735151e+00 1.53317139e-01\n",
      " 6.20804182e+00 4.12727712e-01][[303.81121282]]\n",
      "[1.14938338e+01 4.08749195e+02 5.20462132e+00 1.58179674e-01\n",
      " 4.86342338e+00 4.46775559e-01][[303.36093238]]\n",
      "[1.38659511e+01 4.58040846e+02 5.48020525e+00 1.56304409e-01\n",
      " 5.33869696e+00 4.33450921e-01][[303.03151462]]\n",
      "[1.55707672e+01 4.91433004e+02 5.65777324e+00 1.55156564e-01\n",
      " 5.65537541e+00 4.25415302e-01][[303.09798881]]\n",
      "[1.41547955e+01 4.63807444e+02 5.51136391e+00 1.56099706e-01\n",
      " 5.39367602e+00 4.32011197e-01][[303.02604592]]\n",
      "[1.42522518e+01 4.65742635e+02 5.52177282e+00 1.56031640e-01\n",
      " 5.41209843e+00 4.31533115e-01][[303.02578611]]\n",
      "[1.43513637e+01 4.67705373e+02 5.53230576e+00 1.55962924e-01\n",
      " 5.43076894e+00 4.31050790e-01][[303.02633327]]\n",
      "[1.42522518e+01 4.65742635e+02 5.52177282e+00 1.56031640e-01\n",
      " 5.41209843e+00 4.31533115e-01][[303.02578611]]\n",
      "[3.87416371e+01 4.65742635e+02 5.52177282e+00 1.56031640e-01\n",
      " 5.41209843e+00 4.31533115e-01][[304.53092652]]\n",
      "[2.82605265e+00 4.65742635e+02 5.52177282e+00 1.56031640e-01\n",
      " 5.41209843e+00 4.31533115e-01][[312.08360499]]\n",
      "[1.42522518e+01 4.65742635e+02 5.52177282e+00 1.56031640e-01\n",
      " 5.41209843e+00 4.31533115e-01][[303.02578611]]\n",
      "[7.68200777e+00 4.65742635e+02 5.52177282e+00 1.56031640e-01\n",
      " 5.41209843e+00 4.31533115e-01][[304.1237708]]\n",
      "[2.08818616e+01 4.65742635e+02 5.52177282e+00 1.56031640e-01\n",
      " 5.41209843e+00 4.31533115e-01][[303.24719342]]\n",
      "[1.52547930e+01 4.65742635e+02 5.52177282e+00 1.56031640e-01\n",
      " 5.41209843e+00 4.31533115e-01][[303.0236376]]\n",
      "[1.48651838e+01 4.65742635e+02 5.52177282e+00 1.56031640e-01\n",
      " 5.41209843e+00 4.31533115e-01][[303.02213172]]\n",
      "[1.48546556e+01 4.65742635e+02 5.52177282e+00 1.56031640e-01\n",
      " 5.41209843e+00 4.31533115e-01][[303.0221302]]\n",
      "[1.48485073e+01 4.65742635e+02 5.52177282e+00 1.56031640e-01\n",
      " 5.41209843e+00 4.31533115e-01][[303.02213031]]\n",
      "[1.48546556e+01 4.65742635e+02 5.52177282e+00 1.56031640e-01\n",
      " 5.41209843e+00 4.31533115e-01][[303.0221302]]\n",
      "[1.48546556e+01 1.26601974e+03 5.52177282e+00 1.56031640e-01\n",
      " 5.41209843e+00 4.31533115e-01][[314.19915051]]\n",
      "[14.85465562 92.35124567  5.52177282  0.15603164  5.41209843  0.43153312][[313.19748358]]\n",
      "[1.48546556e+01 4.65742635e+02 5.52177282e+00 1.56031640e-01\n",
      " 5.41209843e+00 4.31533115e-01][[303.0221302]]\n",
      "[1.48546556e+01 2.51036719e+02 5.52177282e+00 1.56031640e-01\n",
      " 5.41209843e+00 4.31533115e-01][[305.31306309]]\n",
      "[1.48546556e+01 6.82388535e+02 5.52177282e+00 1.56031640e-01\n",
      " 5.41209843e+00 4.31533115e-01][[305.1887948]]\n",
      "[1.48546556e+01 4.16640557e+02 5.52177282e+00 1.56031640e-01\n",
      " 5.41209843e+00 4.31533115e-01][[303.16491599]]\n",
      "[1.48546556e+01 4.60997771e+02 5.52177282e+00 1.56031640e-01\n",
      " 5.41209843e+00 4.31533115e-01][[303.02478882]]\n",
      "[1.48546556e+01 4.69357048e+02 5.52177282e+00 1.56031640e-01\n",
      " 5.41209843e+00 4.31533115e-01][[303.02171295]]\n",
      "[1.48546556e+01 4.68650226e+02 5.52177282e+00 1.56031640e-01\n",
      " 5.41209843e+00 4.31533115e-01][[303.02168519]]\n",
      "[1.48546556e+01 4.68621061e+02 5.52177282e+00 1.56031640e-01\n",
      " 5.41209843e+00 4.31533115e-01][[303.02168519]]\n",
      "[1.48546556e+01 4.68592189e+02 5.52177282e+00 1.56031640e-01\n",
      " 5.41209843e+00 4.31533115e-01][[303.02168527]]\n",
      "[1.48546556e+01 4.68621061e+02 5.52177282e+00 1.56031640e-01\n",
      " 5.41209843e+00 4.31533115e-01][[303.02168519]]\n",
      "[1.48546556e+01 4.68621061e+02 1.50097347e+01 1.56031640e-01\n",
      " 5.41209843e+00 4.31533115e-01][[494.83423218]]\n",
      "[1.48546556e+01 4.68621061e+02 1.09490212e+00 1.56031640e-01\n",
      " 5.41209843e+00 4.31533115e-01][[447.36515111]]\n",
      "[1.48546556e+01 4.68621061e+02 5.52177282e+00 1.56031640e-01\n",
      " 5.41209843e+00 4.31533115e-01][[303.02168519]]\n",
      "[1.48546556e+01 4.68621061e+02 2.97625261e+00 1.56031640e-01\n",
      " 5.41209843e+00 4.31533115e-01][[341.54641765]]\n",
      "[1.48546556e+01 4.68621061e+02 8.09029319e+00 1.56031640e-01\n",
      " 5.41209843e+00 4.31533115e-01][[313.55449842]]\n",
      "[1.48546556e+01 4.68621061e+02 5.73353357e+00 1.56031640e-01\n",
      " 5.41209843e+00 4.31533115e-01][[302.37158608]]\n",
      "[1.48546556e+01 4.68621061e+02 6.01242528e+00 1.56031640e-01\n",
      " 5.41209843e+00 4.31533115e-01][[301.97693494]]\n",
      "[1.48546556e+01 4.68621061e+02 6.10756479e+00 1.56031640e-01\n",
      " 5.41209843e+00 4.31533115e-01][[301.95821327]]\n",
      "[1.48546556e+01 4.68621061e+02 6.09197761e+00 1.56031640e-01\n",
      " 5.41209843e+00 4.31533115e-01][[301.95732319]]\n",
      "[1.48546556e+01 4.68621061e+02 6.08599374e+00 1.56031640e-01\n",
      " 5.41209843e+00 4.31533115e-01][[301.95739177]]\n",
      "[1.48546556e+01 4.68621061e+02 6.09796737e+00 1.56031640e-01\n",
      " 5.41209843e+00 4.31533115e-01][[301.95748262]]\n",
      "[1.48546556e+01 4.68621061e+02 6.09197761e+00 1.56031640e-01\n",
      " 5.41209843e+00 4.31533115e-01][[301.95732319]]\n",
      "[1.48546556e+01 4.68621061e+02 6.09197761e+00 4.24137973e-01\n",
      " 5.41209843e+00 4.31533115e-01][[inf]]\n",
      "[1.48546556e+01 4.68621061e+02 6.09197761e+00 3.09392254e-02\n",
      " 5.41209843e+00 4.31533115e-01][[482.14515685]]\n",
      "[1.48546556e+01 4.68621061e+02 6.09197761e+00 1.56031640e-01\n",
      " 5.41209843e+00 4.31533115e-01][[301.95732319]]\n",
      "[1.48546556e+01 4.68621061e+02 6.09197761e+00 8.41015363e-02\n",
      " 5.41209843e+00 4.31533115e-01][[383.61917915]]\n",
      "[1.48546556e+01 4.68621061e+02 6.09197761e+00 2.28611672e-01\n",
      " 5.41209843e+00 4.31533115e-01][[356.14863454]]\n",
      "[1.48546556e+01 4.68621061e+02 6.09197761e+00 1.45787836e-01\n",
      " 5.41209843e+00 4.31533115e-01][[302.9627597]]\n",
      "[1.48546556e+01 4.68621061e+02 6.09197761e+00 1.54063040e-01\n",
      " 5.41209843e+00 4.31533115e-01][[301.92763393]]\n",
      "[1.48546556e+01 4.68621061e+02 6.09197761e+00 1.54461580e-01\n",
      " 5.41209843e+00 4.31533115e-01][[301.92536581]]\n",
      "[1.48546556e+01 4.68621061e+02 6.09197761e+00 1.54477202e-01\n",
      " 5.41209843e+00 4.31533115e-01][[301.925363]]\n",
      "[1.48546556e+01 4.68621061e+02 6.09197761e+00 1.54492670e-01\n",
      " 5.41209843e+00 4.31533115e-01][[301.92536667]]\n",
      "[1.48546556e+01 4.68621061e+02 6.09197761e+00 1.54477202e-01\n",
      " 5.41209843e+00 4.31533115e-01][[301.925363]]\n",
      "[1.48546556e+01 4.68621061e+02 6.09197761e+00 1.54477202e-01\n",
      " 5.41209843e+00 1.17302863e+00][[361.5926987]]\n",
      "[1.48546556e+01 4.68621061e+02 6.09197761e+00 1.54477202e-01\n",
      " 5.41209843e+00 8.55679033e-02][[1256.7220282]]\n",
      "[1.48546556e+01 4.68621061e+02 6.09197761e+00 1.54477202e-01\n",
      " 5.41209843e+00 4.31533115e-01][[301.925363]]\n",
      "[1.48546556e+01 4.68621061e+02 6.09197761e+00 1.54477202e-01\n",
      " 5.41209843e+00 2.32597683e-01][[363.46547553]]\n",
      "[1.48546556e+01 4.68621061e+02 6.09197761e+00 1.54477202e-01\n",
      " 5.41209843e+00 6.32266038e-01][[313.72533158]]\n",
      "[1.48546556e+01 4.68621061e+02 6.09197761e+00 1.54477202e-01\n",
      " 5.41209843e+00 4.64023013e-01][[302.39332235]]\n",
      "[1.48546556e+01 4.68621061e+02 6.09197761e+00 1.54477202e-01\n",
      " 5.41209843e+00 4.29596679e-01][[301.93101268]]\n",
      "[1.48546556e+01 4.68621061e+02 6.09197761e+00 1.54477202e-01\n",
      " 5.41209843e+00 4.33278780e-01][[301.92388568]]\n",
      "[1.48546556e+01 4.68621061e+02 6.09197761e+00 1.54477202e-01\n",
      " 5.41209843e+00 4.33164187e-01][[301.92387892]]\n",
      "[1.48546556e+01 4.68621061e+02 6.09197761e+00 1.54477202e-01\n",
      " 5.41209843e+00 4.33180529e-01][[301.923879]]\n",
      "[1.48546556e+01 4.68621061e+02 6.09197761e+00 1.54477202e-01\n",
      " 5.41209843e+00 4.33147846e-01][[301.92387914]]\n",
      "[1.48546556e+01 4.68621061e+02 6.09197761e+00 1.54477202e-01\n",
      " 5.41209843e+00 4.33164187e-01][[301.92387892]]\n",
      "[2.97051066e+01 7.13605497e+02 7.37093119e+00 1.47820209e-01\n",
      " 7.63711929e+00 3.87332742e-01][[304.33692044]]\n",
      "[4.84044487e+00 2.37306658e+02 4.47551729e+00 1.65889282e-01\n",
      " 3.10003238e+00 5.19084137e-01][[308.46277078]]\n",
      "[1.48546556e+01 4.68621061e+02 6.09197761e+00 1.54477202e-01\n",
      " 5.41209843e+00 4.33164187e-01][[301.92387892]]\n",
      "[9.67951980e+00 3.61365188e+02 5.41511020e+00 1.58740500e-01\n",
      " 4.37451714e+00 4.64161829e-01][[304.21366149]]\n",
      "[1.93562994e+01 5.50278686e+02 6.55196177e+00 1.51899786e-01\n",
      " 6.17296773e+00 4.15050643e-01][[301.37553239]]\n",
      "[2.11124426e+01 5.80056022e+02 6.71031658e+00 1.51063588e-01\n",
      " 6.44520512e+00 4.09274518e-01][[301.49440415]]\n",
      "[1.88498632e+01 5.41496416e+02 6.50436729e+00 1.52155985e-01\n",
      " 6.09217195e+00 4.16830190e-01][[301.37456584]]\n",
      "[1.90718015e+01 5.45356394e+02 6.52533759e+00 1.52042820e-01\n",
      " 6.12771227e+00 4.16043577e-01][[301.37311216]]\n",
      "[1.90242010e+01 5.44530015e+02 6.52085492e+00 1.52066972e-01\n",
      " 6.12010732e+00 4.16211388e-01][[301.37317634]]\n",
      "[1.91195211e+01 5.46184028e+02 6.52982334e+00 1.52018671e-01\n",
      " 6.13532667e+00 4.15875834e-01][[301.37318319]]\n",
      "[5.10350419e+01 9.72414012e+02 9.33021160e+00 1.41771382e-01\n",
      " 9.79027589e+00 3.58670107e-01][[312.08279086]]\n",
      "[1.90718015e+01 5.45356394e+02 6.52533759e+00 1.52042820e-01\n",
      " 6.12771227e+00 4.16043577e-01][[301.37311216]]\n",
      "[5.18425314e+01 5.45356394e+02 6.52533759e+00 1.52042820e-01\n",
      " 6.12771227e+00 4.16043577e-01][[302.24096088]]\n",
      "[3.78171225e+00 5.45356394e+02 6.52533759e+00 1.52042820e-01\n",
      " 6.12771227e+00 4.16043577e-01][[312.15311419]]\n",
      "[1.90718015e+01 5.45356394e+02 6.52533759e+00 1.52042820e-01\n",
      " 6.12771227e+00 4.16043577e-01][[301.37311216]]\n",
      "[1.02797599e+01 5.45356394e+02 6.52533759e+00 1.52042820e-01\n",
      " 6.12771227e+00 4.16043577e-01][[303.05490587]]\n",
      "[2.79432839e+01 5.45356394e+02 6.52533759e+00 1.52042820e-01\n",
      " 6.12771227e+00 4.16043577e-01][[301.30819563]]\n",
      "[2.38671220e+01 5.45356394e+02 6.52533759e+00 1.52042820e-01\n",
      " 6.12771227e+00 4.16043577e-01][[301.26211781]]\n",
      "[2.40571356e+01 5.45356394e+02 6.52533759e+00 1.52042820e-01\n",
      " 6.12771227e+00 4.16043577e-01][[301.26213567]]\n",
      "[2.39480122e+01 5.45356394e+02 6.52533759e+00 1.52042820e-01\n",
      " 6.12771227e+00 4.16043577e-01][[301.2620944]]\n",
      "[2.39480122e+01 5.45356394e+02 6.52533759e+00 1.52042820e-01\n",
      " 6.12771227e+00 4.16043577e-01][[301.2620944]]\n",
      "[2.39480122e+01 1.48243238e+03 6.52533759e+00 1.52042820e-01\n",
      " 6.12771227e+00 4.16043577e-01][[314.72303543]]\n",
      "[ 23.94801217 108.13771087   6.52533759   0.15204282   6.12771227\n",
      "   0.41604358][[310.57158548]]\n",
      "[2.39480122e+01 5.45356394e+02 6.52533759e+00 1.52042820e-01\n",
      " 6.12771227e+00 4.16043577e-01][[301.2620944]]\n",
      "[2.39480122e+01 2.93948782e+02 6.52533759e+00 1.52042820e-01\n",
      " 6.12771227e+00 4.16043577e-01][[303.10964792]]\n",
      "[2.39480122e+01 7.99035612e+02 6.52533759e+00 1.52042820e-01\n",
      " 6.12771227e+00 4.16043577e-01][[304.34707691]]\n",
      "[2.39480122e+01 4.58286343e+02 6.52533759e+00 1.52042820e-01\n",
      " 6.12771227e+00 4.16043577e-01][[301.39582048]]\n",
      "[2.39480122e+01 5.39875676e+02 6.52533759e+00 1.52042820e-01\n",
      " 6.12771227e+00 4.16043577e-01][[301.25107875]]\n",
      "[2.39480122e+01 5.17152980e+02 6.52533759e+00 1.52042820e-01\n",
      " 6.12771227e+00 4.16043577e-01][[301.23373624]]\n",
      "[2.39480122e+01 4.93824517e+02 6.52533759e+00 1.52042820e-01\n",
      " 6.12771227e+00 4.16043577e-01][[301.26291653]]\n",
      "[2.39480122e+01 5.20223403e+02 6.52533759e+00 1.52042820e-01\n",
      " 6.12771227e+00 4.16043577e-01][[301.23342228]]\n",
      "[2.39480122e+01 5.19804767e+02 6.52533759e+00 1.52042820e-01\n",
      " 6.12771227e+00 4.16043577e-01][[301.2334164]]\n",
      "[2.39480122e+01 5.19555392e+02 6.52533759e+00 1.52042820e-01\n",
      " 6.12771227e+00 4.16043577e-01][[301.23342021]]\n",
      "[2.39480122e+01 5.19804767e+02 6.52533759e+00 1.52042820e-01\n",
      " 6.12771227e+00 4.16043577e-01][[301.2334164]]\n",
      "[2.39480122e+01 5.19804767e+02 1.77377066e+01 1.52042820e-01\n",
      " 6.12771227e+00 4.16043577e-01][[519.49757781]]\n",
      "[2.39480122e+01 5.19804767e+02 1.29389712e+00 1.52042820e-01\n",
      " 6.12771227e+00 4.16043577e-01][[441.59952098]]\n",
      "[2.39480122e+01 5.19804767e+02 6.52533759e+00 1.52042820e-01\n",
      " 6.12771227e+00 4.16043577e-01][[301.2334164]]\n",
      "[2.39480122e+01 5.19804767e+02 3.51717713e+00 1.52042820e-01\n",
      " 6.12771227e+00 4.16043577e-01][[336.8208172]]\n",
      "[2.39480122e+01 5.19804767e+02 9.56067843e+00 1.52042820e-01\n",
      " 6.12771227e+00 4.16043577e-01][[316.5137351]]\n",
      "[2.39480122e+01 5.19804767e+02 6.43470366e+00 1.52042820e-01\n",
      " 6.12771227e+00 4.16043577e-01][[301.43197607]]\n",
      "[2.39480122e+01 5.19804767e+02 6.82473104e+00 1.52042820e-01\n",
      " 6.12771227e+00 4.16043577e-01][[300.8803259]]\n",
      "[2.39480122e+01 5.19804767e+02 7.76258867e+00 1.52042820e-01\n",
      " 6.12771227e+00 4.16043577e-01][[302.59656097]]\n",
      "[2.39480122e+01 5.19804767e+02 6.92222038e+00 1.52042820e-01\n",
      " 6.12771227e+00 4.16043577e-01][[300.86319333]]\n",
      "[2.39480122e+01 5.19804767e+02 6.91018690e+00 1.52042820e-01\n",
      " 6.12771227e+00 4.16043577e-01][[300.86275732]]\n",
      "[2.39480122e+01 5.19804767e+02 6.90622822e+00 1.52042820e-01\n",
      " 6.12771227e+00 4.16043577e-01][[300.8627703]]\n",
      "[2.39480122e+01 5.19804767e+02 6.91414785e+00 1.52042820e-01\n",
      " 6.12771227e+00 4.16043577e-01][[300.86282187]]\n",
      "[2.39480122e+01 5.19804767e+02 6.91018690e+00 1.52042820e-01\n",
      " 6.12771227e+00 4.16043577e-01][[300.86275732]]\n",
      "[2.39480122e+01 5.19804767e+02 6.91018690e+00 4.13295234e-01\n",
      " 6.12771227e+00 4.16043577e-01][[inf]]\n",
      "[2.39480122e+01 5.19804767e+02 6.91018690e+00 3.01482895e-02\n",
      " 6.12771227e+00 4.16043577e-01][[538.66968663]]\n",
      "[2.39480122e+01 5.19804767e+02 6.91018690e+00 1.52042820e-01\n",
      " 6.12771227e+00 4.16043577e-01][[300.86275732]]\n",
      "[2.39480122e+01 5.19804767e+02 6.91018690e+00 8.19515496e-02\n",
      " 6.12771227e+00 4.16043577e-01][[409.88258436]]\n",
      "[2.39480122e+01 5.19804767e+02 6.91018690e+00 2.22767402e-01\n",
      " 6.12771227e+00 4.16043577e-01][[361.67692075]]\n",
      "[2.39480122e+01 5.19804767e+02 6.91018690e+00 1.45175868e-01\n",
      " 6.12771227e+00 4.16043577e-01][[301.56951461]]\n",
      "[2.39480122e+01 5.19804767e+02 6.91018690e+00 1.51383352e-01\n",
      " 6.12771227e+00 4.16043577e-01][[300.85917534]]\n",
      "[2.39480122e+01 5.19804767e+02 6.91018690e+00 1.51550419e-01\n",
      " 6.12771227e+00 4.16043577e-01][[300.85869086]]\n",
      "[2.39480122e+01 5.19804767e+02 6.91018690e+00 1.51555335e-01\n",
      " 6.12771227e+00 4.16043577e-01][[300.85869101]]\n",
      "[2.39480122e+01 5.19804767e+02 6.91018690e+00 1.51545503e-01\n",
      " 6.12771227e+00 4.16043577e-01][[300.85869164]]\n",
      "[2.39480122e+01 5.19804767e+02 6.91018690e+00 1.51550419e-01\n",
      " 6.12771227e+00 4.16043577e-01][[300.85869086]]\n",
      "[2.39480122e+01 5.19804767e+02 6.91018690e+00 1.51550419e-01\n",
      " 6.12771227e+00 1.13092370e+00][[360.65140203]]\n",
      "[2.39480122e+01 5.19804767e+02 6.91018690e+00 1.51550419e-01\n",
      " 6.12771227e+00 8.24965115e-02][[1238.15052675]]\n",
      "[2.39480122e+01 5.19804767e+02 6.91018690e+00 1.51550419e-01\n",
      " 6.12771227e+00 4.16043577e-01][[300.85869086]]\n",
      "[2.39480122e+01 5.19804767e+02 6.91018690e+00 1.51550419e-01\n",
      " 6.12771227e+00 2.24248774e-01][[361.73862109]]\n",
      "[2.39480122e+01 5.19804767e+02 6.91018690e+00 1.51550419e-01\n",
      " 6.12771227e+00 6.09571351e-01][[312.72027972]]\n",
      "[2.39480122e+01 5.19804767e+02 6.91018690e+00 1.51550419e-01\n",
      " 6.12771227e+00 4.46718485e-01][[301.32393832]]\n",
      "[2.39480122e+01 5.19804767e+02 6.91018690e+00 1.51550419e-01\n",
      " 6.12771227e+00 4.13599046e-01][[300.86540469]]\n",
      "[2.39480122e+01 5.19804767e+02 6.91018690e+00 1.51550419e-01\n",
      " 6.12771227e+00 4.17196636e-01][[300.85803127]]\n",
      "[2.39480122e+01 5.19804767e+02 6.91018690e+00 1.51550419e-01\n",
      " 6.12771227e+00 4.17097190e-01][[300.85802569]]\n",
      "[2.39480122e+01 5.19804767e+02 6.91018690e+00 1.51550419e-01\n",
      " 6.12771227e+00 4.17107739e-01][[300.85802573]]\n",
      "[2.39480122e+01 5.19804767e+02 6.91018690e+00 1.51550419e-01\n",
      " 6.12771227e+00 4.17086640e-01][[300.85802579]]\n",
      "[2.39480122e+01 5.19804767e+02 6.91018690e+00 1.51550419e-01\n",
      " 6.12771227e+00 4.17097190e-01][[300.85802569]]\n",
      "[4.78892458e+01 7.91546882e+02 8.36091584e+00 1.45019552e-01\n",
      " 8.64693616e+00 3.72965732e-01][[306.90713712]]\n",
      "[7.80354898e+00 2.63225754e+02 5.07662091e+00 1.62746281e-01\n",
      " 3.50993366e+00 4.99830182e-01][[307.59949445]]\n",
      "[2.39480122e+01 5.19804767e+02 6.91018690e+00 1.51550419e-01\n",
      " 6.12771227e+00 4.17097190e-01][[300.85802569]]\n",
      "[1.56048894e+01 4.00834198e+02 6.14240989e+00 1.55732943e-01\n",
      " 4.95293696e+00 4.46945062e-01][[303.27094404]]\n",
      "[3.12053613e+01 6.10381198e+02 7.43195121e+00 1.49021836e-01\n",
      " 6.98918739e+00 3.99655516e-01][[300.89273638]]\n",
      "[2.71222894e+01 5.60587654e+02 7.15080646e+00 1.50356118e-01\n",
      " 6.51870749e+00 4.08802853e-01][[300.6402382]]\n",
      "[2.72035953e+01 5.61606833e+02 7.15669490e+00 1.50327513e-01\n",
      " 6.52841116e+00 4.08605435e-01][[300.63955773]]\n",
      "[2.74226518e+01 5.64346784e+02 7.17249643e+00 1.50250897e-01\n",
      " 6.55448265e+00 4.08076939e-01][[300.63891381]]\n",
      "[2.73855236e+01 5.63882993e+02 7.16982467e+00 1.50263837e-01\n",
      " 6.55007116e+00 4.08166168e-01][[300.63890115]]\n",
      "[2.73488163e+01 5.63424216e+02 7.16718060e+00 1.50276648e-01\n",
      " 6.54570670e+00 4.08254525e-01][[300.63893737]]\n",
      "[3.93233384e+01 5.83038970e+02 7.87796571e+00 1.48505669e-01\n",
      " 7.00154157e+00 4.00437911e-01][[300.22821221]]\n",
      "[2.73855236e+01 5.63882993e+02 7.16982467e+00 1.50263837e-01\n",
      " 6.55007116e+00 4.08166168e-01][[300.63890115]]\n",
      "[3.93233384e+01 5.83038970e+02 7.87796571e+00 1.48505669e-01\n",
      " 7.00154157e+00 4.00437911e-01][[300.22821221]]\n",
      "[7.06140273e+01 6.15421934e+02 9.17488559e+00 1.45704360e-01\n",
      " 7.79887499e+00 3.88242044e-01][[300.14759401]]\n",
      "[5.62561183e+01 6.02639391e+02 8.64769806e+00 1.46785773e-01\n",
      " 7.47902055e+00 3.92932934e-01][[300.09820131]]\n",
      "[5.62561183e+01 6.02639391e+02 8.64769806e+00 1.46785773e-01\n",
      " 7.47902055e+00 3.92932934e-01][[300.09820131]]\n",
      "[4.90644174e+01 5.95076102e+02 8.34518708e+00 1.47440351e-01\n",
      " 7.29291241e+00 3.95782833e-01][[300.11730698]]\n",
      "[6.13589489e+01 6.07490246e+02 8.84539226e+00 1.46371766e-01\n",
      " 7.59961570e+00 3.91134521e-01][[300.10515512]]\n",
      "[5.66625675e+01 6.03040112e+02 8.66392007e+00 1.46751402e-01\n",
      " 7.48894626e+00 3.92783508e-01][[300.09821721]]\n",
      "[5.58525846e+01 6.02238936e+02 8.63150641e+00 1.46820152e-01\n",
      " 7.46910801e+00 3.93082416e-01][[300.09828694]]\n",
      "[5.62561183e+01 6.02639391e+02 8.64769806e+00 1.46785773e-01\n",
      " 7.47902055e+00 3.92932934e-01][[300.09820131]]\n",
      "[1.52919984e+02 6.02639391e+02 8.64769806e+00 1.46785773e-01\n",
      " 7.47902055e+00 3.92932934e-01][[302.29422717]]\n",
      "[1.11549217e+01 6.02639391e+02 8.64769806e+00 1.46785773e-01\n",
      " 7.47902055e+00 3.92932934e-01][[304.52294777]]\n",
      "[5.62561183e+01 6.02639391e+02 8.64769806e+00 1.46785773e-01\n",
      " 7.47902055e+00 3.92932934e-01][[300.09820131]]\n",
      "[3.03222216e+01 6.02639391e+02 8.64769806e+00 1.46785773e-01\n",
      " 7.47902055e+00 3.92932934e-01][[300.03398803]]\n",
      "[2.06954697e+01 6.02639391e+02 8.64769806e+00 1.46785773e-01\n",
      " 7.47902055e+00 3.92932934e-01][[300.90232338]]\n",
      "[4.04086880e+01 6.02639391e+02 8.64769806e+00 1.46785773e-01\n",
      " 7.47902055e+00 3.92932934e-01][[299.878458]]\n",
      "[4.02161945e+01 6.02639391e+02 8.64769806e+00 1.46785773e-01\n",
      " 7.47902055e+00 3.92932934e-01][[299.87814866]]\n",
      "[3.97088061e+01 6.02639391e+02 8.64769806e+00 1.46785773e-01\n",
      " 7.47902055e+00 3.92932934e-01][[299.87776591]]\n",
      "[3.95707243e+01 6.02639391e+02 8.64769806e+00 1.46785773e-01\n",
      " 7.47902055e+00 3.92932934e-01][[299.87777334]]\n",
      "[3.98473696e+01 6.02639391e+02 8.64769806e+00 1.46785773e-01\n",
      " 7.47902055e+00 3.92932934e-01][[299.87780703]]\n",
      "[3.97088061e+01 6.02639391e+02 8.64769806e+00 1.46785773e-01\n",
      " 7.47902055e+00 3.92932934e-01][[299.87776591]]\n",
      "[3.97088061e+01 1.63814370e+03 8.64769806e+00 1.46785773e-01\n",
      " 7.47902055e+00 3.92932934e-01][[314.45486644]]\n",
      "[ 39.70880606 119.49625029   8.64769806   0.14678577   7.47902055\n",
      "   0.39293293][[310.07275169]]\n",
      "[3.97088061e+01 6.02639391e+02 8.64769806e+00 1.46785773e-01\n",
      " 7.47902055e+00 3.92932934e-01][[299.87776591]]\n",
      "[3.97088061e+01 3.24824494e+02 8.64769806e+00 1.46785773e-01\n",
      " 7.47902055e+00 3.92932934e-01][[301.86209586]]\n",
      "[3.97088061e+01 8.82964497e+02 8.64769806e+00 1.46785773e-01\n",
      " 7.47902055e+00 3.92932934e-01][[302.67097155]]\n",
      "[3.97088061e+01 5.15353380e+02 8.64769806e+00 1.46785773e-01\n",
      " 7.47902055e+00 3.92932934e-01][[300.08981045]]\n",
      "[3.97088061e+01 6.59607110e+02 8.64769806e+00 1.46785773e-01\n",
      " 7.47902055e+00 3.92932934e-01][[300.02397459]]\n",
      "[3.97088061e+01 5.89525250e+02 8.64769806e+00 1.46785773e-01\n",
      " 7.47902055e+00 3.92932934e-01][[299.87689559]]\n",
      "[3.97088061e+01 5.95208263e+02 8.64769806e+00 1.46785773e-01\n",
      " 7.47902055e+00 3.92932934e-01][[299.87578953]]\n",
      "[3.97088061e+01 5.95102363e+02 8.64769806e+00 1.46785773e-01\n",
      " 7.47902055e+00 3.92932934e-01][[299.87578945]]\n",
      "[3.97088061e+01 5.95027471e+02 8.64769806e+00 1.46785773e-01\n",
      " 7.47902055e+00 3.92932934e-01][[299.87578987]]\n",
      "[3.97088061e+01 5.95102363e+02 8.64769806e+00 1.46785773e-01\n",
      " 7.47902055e+00 3.92932934e-01][[299.87578945]]\n",
      "[7.94063724e+01 9.06208349e+02 1.04632012e+01 1.40460232e-01\n",
      " 1.05537940e+01 3.51358204e-01][[315.35305277]]\n",
      "[1.29392624e+01 3.01355967e+02 6.35309658e+00 1.57629645e-01\n",
      " 4.28395866e+00 4.70872844e-01][[309.87792974]]\n",
      "[3.97088061e+01 5.95102363e+02 8.64769806e+00 1.46785773e-01\n",
      " 7.47902055e+00 3.92932934e-01][[299.87578945]]\n",
      "[2.58748627e+01 4.58898021e+02 7.68686967e+00 1.50836801e-01\n",
      " 6.04517897e+00 4.21051589e-01][[302.636196]]\n",
      "[5.17424005e+01 6.98799465e+02 9.30065583e+00 1.44336687e-01\n",
      " 8.53047171e+00 3.76501732e-01][[301.73621395]]\n",
      "[3.78326859e+01 5.77878241e+02 8.53336401e+00 1.47238046e-01\n",
      " 7.30128294e+00 3.96013914e-01][[299.91266398]]\n",
      "[3.93573977e+01 5.91900954e+02 8.62658532e+00 1.46868733e-01\n",
      " 7.44605612e+00 3.93496982e-01][[299.87525636]]\n",
      "[3.94757633e+01 5.92980542e+02 8.63371197e+00 1.46840702e-01\n",
      " 7.45717607e+00 3.93306341e-01][[299.87505771]]\n",
      "[3.94780869e+01 5.93001722e+02 8.63385172e+00 1.46840152e-01\n",
      " 7.45739420e+00 3.93302606e-01][[299.87505773]]\n",
      "[3.94734398e+01 5.92959362e+02 8.63357223e+00 1.46841251e-01\n",
      " 7.45695795e+00 3.93310077e-01][[299.87505793]]\n",
      "[3.94757633e+01 5.92980542e+02 8.63371197e+00 1.46840702e-01\n",
      " 7.45717607e+00 3.93306341e-01][[299.87505771]]\n",
      "[3.94757633e+01 5.92980542e+02 8.63371197e+00 3.99154411e-01\n",
      " 7.45717607e+00 3.93306341e-01][[inf]]\n",
      "[3.94757633e+01 5.92980542e+02 8.63371197e+00 2.91167711e-02\n",
      " 7.45717607e+00 3.93306341e-01][[688.92058695]]\n",
      "[3.94757633e+01 5.92980542e+02 8.63371197e+00 1.46840702e-01\n",
      " 7.45717607e+00 3.93306341e-01][[299.87505771]]\n",
      "[3.94757633e+01 5.92980542e+02 8.63371197e+00 7.91475919e-02\n",
      " 7.45717607e+00 3.93306341e-01][[465.98078179]]\n",
      "[3.94757633e+01 5.92980542e+02 8.63371197e+00 2.15145455e-01\n",
      " 7.45717607e+00 3.93306341e-01][[377.63286688]]\n",
      "[3.94757633e+01 5.92980542e+02 8.63371197e+00 1.43285108e-01\n",
      " 7.45717607e+00 3.93306341e-01][[299.95599153]]\n",
      "[3.94757633e+01 5.92980542e+02 8.63371197e+00 1.45523293e-01\n",
      " 7.45717607e+00 3.93306341e-01][[299.83090932]]\n",
      "[3.94757633e+01 5.92980542e+02 8.63371197e+00 1.45505331e-01\n",
      " 7.45717607e+00 3.93306341e-01][[299.83090132]]\n",
      "[3.94757633e+01 5.92980542e+02 8.63371197e+00 1.45492039e-01\n",
      " 7.45717607e+00 3.93306341e-01][[299.83090586]]\n",
      "[3.94757633e+01 5.92980542e+02 8.63371197e+00 1.45505331e-01\n",
      " 7.45717607e+00 3.93306341e-01][[299.83090132]]\n",
      "[3.94757633e+01 5.92980542e+02 8.63371197e+00 1.45505331e-01\n",
      " 7.45717607e+00 1.06911748e+00][[359.76442383]]\n",
      "[3.94757633e+01 5.92980542e+02 8.63371197e+00 1.45505331e-01\n",
      " 7.45717607e+00 7.79879871e-02][[1220.93647524]]\n",
      "[3.94757633e+01 5.92980542e+02 8.63371197e+00 1.45505331e-01\n",
      " 7.45717607e+00 3.93306341e-01][[299.83090132]]\n",
      "[3.94757633e+01 5.92980542e+02 8.63371197e+00 1.45505331e-01\n",
      " 7.45717607e+00 2.11993333e-01][[359.91948388]]\n",
      "[3.94757633e+01 5.92980542e+02 8.63371197e+00 1.45505331e-01\n",
      " 7.45717607e+00 5.76257611e-01][[311.78620838]]\n",
      "[3.94757633e+01 5.92980542e+02 8.63371197e+00 1.45505331e-01\n",
      " 7.45717607e+00 4.21494921e-01][[300.29604379]]\n",
      "[3.94757633e+01 5.92980542e+02 8.63371197e+00 1.45505331e-01\n",
      " 7.45717607e+00 3.90117045e-01][[299.83878953]]\n",
      "[3.94757633e+01 5.92980542e+02 8.63371197e+00 1.45505331e-01\n",
      " 7.45717607e+00 3.93622298e-01][[299.83086819]]\n",
      "[3.94757633e+01 5.92980542e+02 8.63371197e+00 1.45505331e-01\n",
      " 7.45717607e+00 3.93542574e-01][[299.830864]]\n",
      "[3.94757633e+01 5.92980542e+02 8.63371197e+00 1.45505331e-01\n",
      " 7.45717607e+00 3.93544937e-01][[299.83086401]]\n",
      "[3.94757633e+01 5.92980542e+02 8.63371197e+00 1.45505331e-01\n",
      " 7.45717607e+00 3.93540211e-01][[299.83086401]]\n",
      "[3.94757633e+01 5.92980542e+02 8.63371197e+00 1.45505331e-01\n",
      " 7.45717607e+00 3.93542574e-01][[299.830864]]\n",
      "[8.10922310e+01 6.33736850e+02 1.04133278e+01 1.42137409e-01\n",
      " 8.51477362e+00 3.78855109e-01][[299.85443349]]\n",
      "[1.23155635e+01 5.32512979e+02 6.37532842e+00 1.51124590e-01\n",
      " 6.01696837e+00 4.18523006e-01][[302.13599951]]\n",
      "[3.94757633e+01 5.92980542e+02 8.63371197e+00 1.45505331e-01\n",
      " 7.45717607e+00 3.93542574e-01][[299.830864]]\n",
      "[2.52989799e+01 5.69113276e+02 7.68943705e+00 1.47626603e-01\n",
      " 6.87031166e+00 4.02903242e-01][[300.33140691]]\n",
      "[5.19698800e+01 6.08229157e+02 9.27441502e+00 1.44209581e-01\n",
      " 7.84467843e+00 3.87866426e-01][[299.71975062]]\n",
      "[5.54193197e+01 6.11849015e+02 9.43087986e+00 1.43908424e-01\n",
      " 7.93810535e+00 3.86551721e-01][[299.71481539]]\n",
      "[5.58459589e+01 6.12282425e+02 9.44972694e+00 1.43872527e-01\n",
      " 7.94932846e+00 3.86395129e-01][[299.71476091]]\n",
      "[5.56525592e+01 6.12086330e+02 9.44119662e+00 1.43888764e-01\n",
      " 7.94424961e+00 3.86465957e-01][[299.71477138]]\n",
      "[5.60400307e+01 6.12478584e+02 9.45826497e+00 1.43856292e-01\n",
      " 7.95441055e+00 3.86324314e-01][[299.71477384]]\n",
      "[1.13883933e+02 6.64836097e+02 1.24546057e+01 1.37753065e-01\n",
      " 9.64750174e+00 3.65785328e-01][[300.10445329]]\n",
      "[5.58459589e+01 6.12282425e+02 9.44972694e+00 1.43872527e-01\n",
      " 7.94932846e+00 3.86395129e-01][[299.71476091]]\n",
      "[1.51805055e+02 6.12282425e+02 9.44972694e+00 1.43872527e-01\n",
      " 7.94932846e+00 3.86395129e-01][[301.56466588]]\n",
      "[1.10735919e+01 6.12282425e+02 9.44972694e+00 1.43872527e-01\n",
      " 7.94932846e+00 3.86395129e-01][[305.82544685]]\n",
      "[5.58459589e+01 6.12282425e+02 9.44972694e+00 1.43872527e-01\n",
      " 7.94932846e+00 3.86395129e-01][[299.71476091]]\n",
      "[3.01011444e+01 6.12282425e+02 9.44972694e+00 1.43872527e-01\n",
      " 7.94932846e+00 3.86395129e-01][[300.04574327]]\n",
      "[8.18233919e+01 6.12282425e+02 9.44972694e+00 1.43872527e-01\n",
      " 7.94932846e+00 3.86395129e-01][[300.19284716]]\n",
      "[4.76273906e+01 6.12282425e+02 9.44972694e+00 1.43872527e-01\n",
      " 7.94932846e+00 3.86395129e-01][[299.64606067]]\n",
      "[4.65545357e+01 6.12282425e+02 9.44972694e+00 1.43872527e-01\n",
      " 7.94932846e+00 3.86395129e-01][[299.64381298]]\n",
      "[4.58352514e+01 6.12282425e+02 9.44972694e+00 1.43872527e-01\n",
      " 7.94932846e+00 3.86395129e-01][[299.64344046]]\n",
      "[4.59258855e+01 6.12282425e+02 9.44972694e+00 1.43872527e-01\n",
      " 7.94932846e+00 3.86395129e-01][[299.64343479]]\n",
      "[4.60157899e+01 6.12282425e+02 9.44972694e+00 1.43872527e-01\n",
      " 7.94932846e+00 3.86395129e-01][[299.64344438]]\n",
      "[4.59258855e+01 6.12282425e+02 9.44972694e+00 1.43872527e-01\n",
      " 7.94932846e+00 3.86395129e-01][[299.64343479]]\n",
      "[4.59258855e+01 1.66435619e+03 9.44972694e+00 1.43872527e-01\n",
      " 7.94932846e+00 3.86395129e-01][[314.59989875]]\n",
      "[ 45.92588554 121.40834981   9.44972694   0.14387253   7.94932846\n",
      "   0.38639513][[309.93326958]]\n",
      "[4.59258855e+01 6.12282425e+02 9.44972694e+00 1.43872527e-01\n",
      " 7.94932846e+00 3.86395129e-01][[299.64343479]]\n",
      "[4.59258855e+01 3.30022119e+02 9.44972694e+00 1.43872527e-01\n",
      " 7.94932846e+00 3.86395129e-01][[301.58784197]]\n",
      "[4.59258855e+01 8.97093108e+02 9.44972694e+00 1.43872527e-01\n",
      " 7.94932846e+00 3.86395129e-01][[302.2167194]]\n",
      "[4.59258855e+01 5.27075474e+02 9.44972694e+00 1.43872527e-01\n",
      " 7.94932846e+00 3.86395129e-01][[299.88174694]]\n",
      "[4.59258855e+01 7.21664985e+02 9.44972694e+00 1.43872527e-01\n",
      " 7.94932846e+00 3.86395129e-01][[300.02476168]]\n",
      "[4.59258855e+01 6.05567170e+02 9.44972694e+00 1.43872527e-01\n",
      " 7.94932846e+00 3.86395129e-01][[299.64611884]]\n",
      "[4.59258855e+01 6.16600557e+02 9.44972694e+00 1.43872527e-01\n",
      " 7.94932846e+00 3.86395129e-01][[299.6432568]]\n",
      "[4.59258855e+01 6.15082312e+02 9.44972694e+00 1.43872527e-01\n",
      " 7.94932846e+00 3.86395129e-01][[299.64318063]]\n",
      "[4.59258855e+01 6.15054250e+02 9.44972694e+00 1.43872527e-01\n",
      " 7.94932846e+00 3.86395129e-01][[299.64318064]]\n",
      "[4.59258855e+01 6.15110376e+02 9.44972694e+00 1.43872527e-01\n",
      " 7.94932846e+00 3.86395129e-01][[299.64318067]]\n",
      "[4.59258855e+01 6.15082312e+02 9.44972694e+00 1.43872527e-01\n",
      " 7.94932846e+00 3.86395129e-01][[299.64318063]]\n",
      "[9.18387716e+01 9.36633362e+02 1.14336085e+01 1.37672529e-01\n",
      " 1.12174548e+01 3.45512139e-01][[316.36792668]]\n",
      "[1.49651209e+01 3.11473684e+02 6.94231315e+00 1.54501182e-01\n",
      " 4.55334949e+00 4.63038238e-01][[313.26059994]]\n",
      "[4.59258855e+01 6.15082312e+02 9.44972694e+00 1.43872527e-01\n",
      " 7.94932846e+00 3.86395129e-01][[299.64318063]]\n",
      "[2.99260064e+01 4.74305049e+02 8.39978673e+00 1.47843155e-01\n",
      " 6.42532172e+00 4.14045933e-01][[303.61643916]]\n",
      "[5.98435410e+01 7.22260938e+02 1.01632431e+01 1.41472048e-01\n",
      " 9.06689866e+00 3.70237318e-01][[301.41409881]]\n",
      "[4.53402997e+01 6.10311128e+02 9.41643873e+00 1.43989930e-01\n",
      " 7.89879620e+00 3.87196125e-01][[299.66342676]]\n",
      "[4.68566476e+01 6.22616961e+02 9.50200935e+00 1.43689159e-01\n",
      " 8.02898473e+00 3.85146085e-01][[299.62852197]]\n",
      "[4.70516956e+01 6.24188418e+02 9.51286991e+00 1.43651224e-01\n",
      " 8.04557612e+00 3.84887990e-01][[299.62813939]]\n",
      "[4.70361549e+01 6.24063305e+02 9.51200578e+00 1.43654240e-01\n",
      " 8.04425545e+00 3.84908508e-01][[299.62813601]]\n",
      "[4.70249204e+01 6.23972849e+02 9.51138097e+00 1.43656421e-01\n",
      " 8.04330059e+00 3.84923346e-01][[299.62813727]]\n",
      "[4.70361549e+01 6.24063305e+02 9.51200578e+00 1.43654240e-01\n",
      " 8.04425545e+00 3.84908508e-01][[299.62813601]]\n",
      "[4.70361549e+01 6.24063305e+02 9.51200578e+00 3.90492710e-01\n",
      " 8.04425545e+00 3.84908508e-01][[inf]]\n",
      "[4.70361549e+01 6.24063305e+02 9.51200578e+00 2.84849336e-02\n",
      " 8.04425545e+00 3.84908508e-01][[779.27113211]]\n",
      "[4.70361549e+01 6.24063305e+02 9.51200578e+00 1.43654240e-01\n",
      " 8.04425545e+00 3.84908508e-01][[299.62813601]]\n",
      "[4.70361549e+01 6.24063305e+02 9.51200578e+00 7.74300793e-02\n",
      " 8.04425545e+00 3.84908508e-01][[500.17488852]]\n",
      "[4.70361549e+01 6.24063305e+02 9.51200578e+00 2.10476772e-01\n",
      " 8.04425545e+00 3.84908508e-01][[382.02631663]]\n",
      "[4.70361549e+01 6.24063305e+02 9.51200578e+00 1.42412683e-01\n",
      " 8.04425545e+00 3.84908508e-01][[299.62490472]]\n",
      "[4.70361549e+01 6.24063305e+02 9.51200578e+00 1.42983829e-01\n",
      " 8.04425545e+00 3.84908508e-01][[299.61526145]]\n",
      "[4.70361549e+01 6.24063305e+02 9.51200578e+00 1.42990518e-01\n",
      " 8.04425545e+00 3.84908508e-01][[299.61526145]]\n",
      "[4.70361549e+01 6.24063305e+02 9.51200578e+00 1.42997140e-01\n",
      " 8.04425545e+00 3.84908508e-01][[299.61526399]]\n",
      "[4.70361549e+01 6.24063305e+02 9.51200578e+00 1.42990518e-01\n",
      " 8.04425545e+00 3.84908508e-01][[299.61526145]]\n",
      "[4.70361549e+01 6.24063305e+02 9.51200578e+00 1.42990518e-01\n",
      " 8.04425545e+00 1.04628980e+00][[359.58185482]]\n",
      "[4.70361549e+01 6.24063305e+02 9.51200578e+00 1.42990518e-01\n",
      " 8.04425545e+00 7.63227962e-02][[1216.54236189]]\n",
      "[4.70361549e+01 6.24063305e+02 9.51200578e+00 1.42990518e-01\n",
      " 8.04425545e+00 3.84908508e-01][[299.61526145]]\n",
      "[4.70361549e+01 6.24063305e+02 9.51200578e+00 1.42990518e-01\n",
      " 8.04425545e+00 2.07466875e-01][[359.49219802]]\n",
      "[4.70361549e+01 6.24063305e+02 9.51200578e+00 1.42990518e-01\n",
      " 8.04425545e+00 5.63953423e-01][[311.59579908]]\n",
      "[4.70361549e+01 6.24063305e+02 9.51200578e+00 1.42990518e-01\n",
      " 8.04425545e+00 4.12280788e-01][[300.08034508]]\n",
      "[4.70361549e+01 6.24063305e+02 9.51200578e+00 1.42990518e-01\n",
      " 8.04425545e+00 3.81550088e-01][[299.62334594]]\n",
      "[4.70361549e+01 6.24063305e+02 9.51200578e+00 1.42990518e-01\n",
      " 8.04425545e+00 3.85009793e-01][[299.6152648]]\n",
      "[4.70361549e+01 6.24063305e+02 9.51200578e+00 1.42990518e-01\n",
      " 8.04425545e+00 3.84935537e-01][[299.61526095]]\n",
      "[4.70361549e+01 6.24063305e+02 9.51200578e+00 1.42990518e-01\n",
      " 8.04425545e+00 3.84935266e-01][[299.61526095]]\n",
      "[4.70361549e+01 6.24063305e+02 9.51200578e+00 1.42990518e-01\n",
      " 8.04425545e+00 3.84935807e-01][[299.61526095]]\n",
      "[4.70361549e+01 6.24063305e+02 9.51200578e+00 1.42990518e-01\n",
      " 8.04425545e+00 3.84935537e-01][[299.61526095]]\n",
      "[9.66230016e+01 6.66955972e+02 1.14726591e+01 1.39680805e-01\n",
      " 9.18511424e+00 3.70569296e-01][[299.93931311]]\n",
      "[1.46742382e+01 5.60426163e+02 7.02388046e+00 1.48512658e-01\n",
      " 6.49066484e+00 4.09369630e-01][[301.58077524]]\n",
      "[4.70361549e+01 6.24063305e+02 9.51200578e+00 1.42990518e-01\n",
      " 8.04425545e+00 3.84935537e-01][[299.61526095]]\n",
      "[3.01442363e+01 5.98944969e+02 8.47167127e+00 1.45075127e-01\n",
      " 7.41118910e+00 3.94091480e-01][[300.00565857]]\n",
      "[6.19231428e+01 6.40111219e+02 1.02178865e+01 1.41717163e-01\n",
      " 8.46226462e+00 3.79383530e-01][[299.58926416]]\n",
      "[5.63663128e+01 6.34578096e+02 9.97082072e+00 1.42151277e-01\n",
      " 8.31694721e+00 3.81272845e-01][[299.57892245]]\n",
      "[5.62644073e+01 6.34472076e+02 9.96612475e+00 1.42159645e-01\n",
      " 8.31417505e+00 3.81309299e-01][[299.57892321]]\n",
      "[5.64684029e+01 6.34684134e+02 9.97551889e+00 1.42142909e-01\n",
      " 8.31972029e+00 3.81236394e-01][[299.57892915]]\n",
      "[5.68915153e+01 6.57685642e+02 1.05206496e+01 1.40450619e-01\n",
      " 8.70156658e+00 3.76218464e-01][[299.51677012]]\n",
      "[5.63663128e+01 6.34578096e+02 9.97082072e+00 1.42151277e-01\n",
      " 8.31694721e+00 3.81272845e-01][[299.57892245]]\n",
      "[5.68915153e+01 6.57685642e+02 1.05206496e+01 1.40450619e-01\n",
      " 8.70156658e+00 3.76218464e-01][[299.51677012]]\n",
      "[5.77516954e+01 6.96869957e+02 1.14752352e+01 1.37741884e-01\n",
      " 9.36192426e+00 3.68181834e-01][[299.60069455]]\n",
      "[5.68915153e+01 6.57685642e+02 1.05206496e+01 1.40450619e-01\n",
      " 8.70156658e+00 3.76218464e-01][[299.51677012]]\n",
      "[5.72185521e+01 6.72385684e+02 1.08755179e+01 1.39409743e-01\n",
      " 8.94811629e+00 3.73128244e-01][[299.51946146]]\n",
      "[5.66903306e+01 6.48761658e+02 1.03071429e+01 1.41097798e-01\n",
      " 8.55259914e+00 3.78141108e-01][[299.53127604]]\n",
      "[5.70275886e+01 6.63772800e+02 1.06671207e+01 1.40015866e-01\n",
      " 8.80348605e+00 3.74927436e-01][[299.51382649]]\n",
      "[5.70342404e+01 6.64071429e+02 1.06743238e+01 1.39994674e-01\n",
      " 8.80849247e+00 3.74864518e-01][[299.51382865]]\n",
      "[5.70209376e+01 6.63474305e+02 1.06599225e+01 1.40037060e-01\n",
      " 8.79848246e+00 3.74990365e-01][[299.51383806]]\n",
      "[5.70275886e+01 6.63772800e+02 1.06671207e+01 1.40015866e-01\n",
      " 8.80348605e+00 3.74927436e-01][[299.51382649]]\n",
      "[1.17147688e+02 7.09394751e+02 1.28658710e+01 1.36775005e-01\n",
      " 1.00520210e+01 3.60934710e-01][[300.40180471]]\n",
      "[1.77913442e+01 5.96086391e+02 7.87684350e+00 1.45423128e-01\n",
      " 7.10326490e+00 3.98726257e-01][[301.19489259]]\n",
      "[5.70275886e+01 6.63772800e+02 1.06671207e+01 1.40015866e-01\n",
      " 8.80348605e+00 3.74927436e-01][[299.51382649]]\n",
      "[3.65474837e+01 6.37056170e+02 9.50045052e+00 1.42057109e-01\n",
      " 8.11066981e+00 3.83845331e-01][[299.76296145]]\n",
      "[7.50768748e+01 6.80841852e+02 1.14587219e+01 1.38769001e-01\n",
      " 9.26094764e+00 3.69519778e-01][[299.63882365]]\n",
      "[5.56867822e+01 6.62316175e+02 1.06012541e+01 1.40124276e-01\n",
      " 8.76498287e+00 3.75399036e-01][[299.5136908]]\n",
      "[5.62463461e+01 6.62927903e+02 1.06288836e+01 1.40078708e-01\n",
      " 8.78114251e+00 3.75200783e-01][[299.51355102]]\n",
      "[5.62385879e+01 6.62919460e+02 1.06285019e+01 1.40079337e-01\n",
      " 8.78091936e+00 3.75203518e-01][[299.51355102]]\n",
      "[5.62307533e+01 6.62910932e+02 1.06281164e+01 1.40079972e-01\n",
      " 8.78069399e+00 3.75206280e-01][[299.51355107]]\n",
      "[5.62385879e+01 6.62919460e+02 1.06285019e+01 1.40079337e-01\n",
      " 8.78091936e+00 3.75203518e-01][[299.51355102]]\n",
      "[5.62385879e+01 1.80200192e+03 1.06285019e+01 1.40079337e-01\n",
      " 8.78091936e+00 3.75203518e-01][[313.59872984]]\n",
      "[ 56.23858794 131.44907368  10.62850192   0.14007934   8.78091936\n",
      "   0.37520352][[310.6534778]]\n",
      "[5.62385879e+01 6.62919460e+02 1.06285019e+01 1.40079337e-01\n",
      " 8.78091936e+00 3.75203518e-01][[299.51355102]]\n",
      "[5.62385879e+01 3.57315637e+02 1.06285019e+01 1.40079337e-01\n",
      " 8.78091936e+00 3.75203518e-01][[301.73069981]]\n",
      "[5.62385879e+01 9.71284580e+02 1.06285019e+01 1.40079337e-01\n",
      " 8.78091936e+00 3.75203518e-01][[302.01791599]]\n",
      "[5.62385879e+01 5.80832533e+02 1.06285019e+01 1.40079337e-01\n",
      " 8.78091936e+00 3.75203518e-01][[299.7506881]]\n",
      "[5.62385879e+01 7.91183411e+02 1.06285019e+01 1.40079337e-01\n",
      " 8.78091936e+00 3.75203518e-01][[299.92640815]]\n",
      "[5.62385879e+01 6.63621863e+02 1.06285019e+01 1.40079337e-01\n",
      " 8.78091936e+00 3.75203518e-01][[299.51314508]]\n",
      "[5.62385879e+01 6.75388983e+02 1.06285019e+01 1.40079337e-01\n",
      " 8.78091936e+00 3.75203518e-01][[299.51063888]]\n",
      "[5.62385879e+01 7.17470250e+02 1.06285019e+01 1.40079337e-01\n",
      " 8.78091936e+00 3.75203518e-01][[299.5689403]]\n",
      "[5.62385879e+01 6.73184502e+02 1.06285019e+01 1.40079337e-01\n",
      " 8.78091936e+00 3.75203518e-01][[299.51048931]]\n",
      "[5.62385879e+01 6.73081069e+02 1.06285019e+01 1.40079337e-01\n",
      " 8.78091936e+00 3.75203518e-01][[299.51048932]]\n",
      "[5.62385879e+01 6.73287951e+02 1.06285019e+01 1.40079337e-01\n",
      " 8.78091936e+00 3.75203518e-01][[299.51048992]]\n",
      "[5.62385879e+01 6.73184502e+02 1.06285019e+01 1.40079337e-01\n",
      " 8.78091936e+00 3.75203518e-01][[299.51048931]]\n",
      "[1.12461257e+02 1.02511005e+03 1.28598562e+01 1.34042801e-01\n",
      " 1.23909292e+01 3.35504669e-01][[321.97782567]]\n",
      "[1.83255534e+01 3.40896255e+02 7.80830907e+00 1.50427767e-01\n",
      " 5.02968206e+00 4.49626723e-01][[317.78141225]]\n",
      "[5.62385879e+01 6.73184502e+02 1.06285019e+01 1.40079337e-01\n",
      " 8.78091936e+00 3.75203518e-01][[299.51048931]]\n",
      "[3.66459203e+01 5.19109072e+02 9.44759039e+00 1.43945279e-01\n",
      " 7.09748404e+00 4.02053439e-01][[304.07445388]]\n",
      "[7.32814666e+01 7.90487484e+02 1.14310233e+01 1.37742146e-01\n",
      " 1.00154002e+01 3.59513704e-01][[302.45689584]]\n",
      "[5.37813734e+01 6.55179199e+02 1.04987238e+01 1.40477693e-01\n",
      " 8.58811919e+00 3.77918327e-01][[299.54383865]]\n",
      "[5.55335397e+01 6.68050452e+02 1.05916924e+01 1.40191714e-01\n",
      " 8.72604038e+00 3.75968167e-01][[299.50636092]]\n",
      "[5.56125931e+01 6.68627377e+02 1.05958364e+01 1.40179038e-01\n",
      " 8.73221105e+00 3.75881871e-01][[299.50628344]]\n",
      "[5.56188184e+01 6.68672795e+02 1.05961626e+01 1.40178041e-01\n",
      " 8.73269680e+00 3.75875082e-01][[299.50628314]]\n",
      "[5.56249822e+01 6.68717762e+02 1.05964855e+01 1.40177053e-01\n",
      " 8.73317771e+00 3.75868360e-01][[299.50628372]]\n",
      "[5.56188184e+01 6.68672795e+02 1.05961626e+01 1.40178041e-01\n",
      " 8.73269680e+00 3.75875082e-01][[299.50628314]]\n",
      "[5.56188184e+01 6.68672795e+02 1.05961626e+01 3.81043421e-01\n",
      " 8.73269680e+00 3.75875082e-01][[inf]]\n",
      "[5.56188184e+01 6.68672795e+02 1.05961626e+01 2.77956445e-02\n",
      " 8.73269680e+00 3.75875082e-01][[904.7885668]]\n",
      "[5.56188184e+01 6.68672795e+02 1.05961626e+01 1.40178041e-01\n",
      " 8.73269680e+00 3.75875082e-01][[299.50628314]]\n",
      "[5.56188184e+01 6.68672795e+02 1.05961626e+01 7.55563971e-02\n",
      " 8.73269680e+00 3.75875082e-01][[544.56479243]]\n",
      "[5.56188184e+01 6.68672795e+02 1.05961626e+01 2.05383576e-01\n",
      " 8.73269680e+00 3.75875082e-01][[387.38197101]]\n",
      "[5.56188184e+01 6.68672795e+02 1.05961626e+01 1.41218680e-01\n",
      " 8.73269680e+00 3.75875082e-01][[299.55264747]]\n",
      "[5.56188184e+01 6.68672795e+02 1.05961626e+01 1.39961234e-01\n",
      " 8.73269680e+00 3.75875082e-01][[299.50586313]]\n",
      "[5.56188184e+01 6.68672795e+02 1.05961626e+01 1.40041256e-01\n",
      " 8.73269680e+00 3.75875082e-01][[299.50564336]]\n",
      "[5.56188184e+01 6.68672795e+02 1.05961626e+01 1.40042623e-01\n",
      " 8.73269680e+00 3.75875082e-01][[299.50564343]]\n",
      "[5.56188184e+01 6.68672795e+02 1.05961626e+01 1.40039889e-01\n",
      " 8.73269680e+00 3.75875082e-01][[299.50564344]]\n",
      "[5.56188184e+01 6.68672795e+02 1.05961626e+01 1.40041256e-01\n",
      " 8.73269680e+00 3.75875082e-01][[299.50564336]]\n",
      "[5.56188184e+01 6.68672795e+02 1.05961626e+01 1.40041256e-01\n",
      " 8.73269680e+00 1.02173440e+00][[359.564106]]\n",
      "[5.56188184e+01 6.68672795e+02 1.05961626e+01 1.40041256e-01\n",
      " 8.73269680e+00 7.45315748e-02][[1215.8382137]]\n",
      "[5.56188184e+01 6.68672795e+02 1.05961626e+01 1.40041256e-01\n",
      " 8.73269680e+00 3.75875082e-01][[299.50564336]]\n",
      "[5.56188184e+01 6.68672795e+02 1.05961626e+01 1.40041256e-01\n",
      " 8.73269680e+00 2.02597830e-01][[359.19513931]]\n",
      "[5.56188184e+01 6.68672795e+02 1.05961626e+01 1.40041256e-01\n",
      " 8.73269680e+00 5.50717987e-01][[311.55098892]]\n",
      "[5.56188184e+01 6.68672795e+02 1.05961626e+01 1.40041256e-01\n",
      " 8.73269680e+00 4.02287144e-01][[299.97539732]]\n",
      "[5.56188184e+01 6.68672795e+02 1.05961626e+01 1.40041256e-01\n",
      " 8.73269680e+00 3.72072178e-01][[299.51411977]]\n",
      "[5.56188184e+01 6.68672795e+02 1.05961626e+01 1.40041256e-01\n",
      " 8.73269680e+00 3.75542155e-01][[299.50552977]]\n",
      "[5.56188184e+01 6.68672795e+02 1.05961626e+01 1.40041256e-01\n",
      " 8.73269680e+00 3.75476224e-01][[299.50552646]]\n",
      "[5.56188184e+01 6.68672795e+02 1.05961626e+01 1.40041256e-01\n",
      " 8.73269680e+00 3.75472238e-01][[299.50552646]]\n",
      "[5.56188184e+01 6.68672795e+02 1.05961626e+01 1.40041256e-01\n",
      " 8.73269680e+00 3.75480211e-01][[299.50552648]]\n",
      "[5.56188184e+01 6.68672795e+02 1.05961626e+01 1.40041256e-01\n",
      " 8.73269680e+00 3.75476224e-01][[299.50552646]]\n",
      "[5.62713248e+01 6.99436076e+02 1.13361326e+01 1.37937542e-01\n",
      " 9.24355686e+00 3.69227287e-01][[299.55605609]]\n",
      "[5.45790283e+01 6.21736512e+02 9.49978634e+00 1.43513306e-01\n",
      " 7.96522287e+00 3.85811998e-01][[299.68081858]]\n",
      "[5.56188184e+01 6.68672795e+02 1.05961626e+01 1.40041256e-01\n",
      " 8.73269680e+00 3.75476224e-01][[299.50552646]]\n",
      "[5.52193361e+01 6.50340420e+02 1.01631923e+01 1.41357434e-01\n",
      " 8.43118596e+00 3.79391046e-01][[299.53855151]]\n",
      "[5.58671558e+01 6.80260292e+02 1.08729263e+01 1.39233948e-01\n",
      " 8.92440772e+00 3.73076956e-01][[299.50854501]]\n",
      "[5.57009823e+01 6.72490275e+02 1.06870787e+01 1.39773238e-01\n",
      " 8.79575950e+00 3.74679523e-01][[299.50444269]]\n",
      "[5.57030152e+01 6.72584928e+02 1.06893363e+01 1.39766618e-01\n",
      " 8.79732432e+00 3.74659848e-01][[299.50444158]]\n",
      "[5.57038578e+01 6.72624164e+02 1.06902721e+01 1.39763875e-01\n",
      " 8.79797301e+00 3.74651694e-01][[299.50444148]]\n",
      "[5.57047088e+01 6.72663796e+02 1.06912174e+01 1.39761104e-01\n",
      " 8.79862823e+00 3.74643457e-01][[299.50444163]]\n",
      "Optimization terminated successfully.\n",
      "         Current function value: 299.504441\n",
      "         Iterations: 10\n",
      "         Function evaluations: 738\n",
      "   direc: array([[ 0.71990027,  0.06647222,  0.18741196, -0.02341846,  0.13262593,\n",
      "        -0.03803542],\n",
      "       [ 0.        ,  1.        ,  0.        ,  0.        ,  0.        ,\n",
      "         0.        ],\n",
      "       [ 0.69300564,  0.42053582,  0.19057129, -0.04404979,  0.34438358,\n",
      "        -0.11183272],\n",
      "       [ 0.        ,  0.        ,  0.        ,  1.        ,  0.        ,\n",
      "         0.        ],\n",
      "       [ 0.        ,  0.        ,  0.        ,  0.        ,  0.        ,\n",
      "         1.        ],\n",
      "       [ 0.01166347,  0.04497956,  0.06750328, -0.01513608,  0.05685252,\n",
      "        -0.01678274]])\n",
      "     fun: array(299.50444148)\n",
      " message: 'Optimization terminated successfully.'\n",
      "    nfev: 738\n",
      "     nit: 10\n",
      "  status: 0\n",
      " success: True\n",
      "       x: array([ 4.0200494 ,  6.51118673,  2.36933418, -1.96780089,  2.17452135,\n",
      "       -0.9817585 ])\n"
     ]
    }
   ],
   "source": [
    "from scipy.optimize import minimize\n",
    "\n",
    "def eval_params(params, gp):\n",
    "    params = np.exp(params)\n",
    "    a = np.array([params[2+3*i] for i in range(I)])\n",
    "    b = np.array([params[3+3*i] for i in range(I)])\n",
    "    c = np.array([params[4+3*i] for i in range(I)])\n",
    "    gpw.set_hyper_params([params[:2], [a,b,c]], params[len(params)-1])\n",
    "    nlml = -gpw.log_marginal_likelihood()\n",
    "    print(str(params)+str(nlml))\n",
    "    return nlml\n",
    "\n",
    "#100, 0.05, 0.1, 0.1, 0.001, 0.3\n",
    "x0 = np.array([np.log(2000), np.log(1000)] + [np.log(2), np.log(0.1), np.log(0.001)]*I + [np.log(0.9)])\n",
    "res = minimize(eval_params, x0, method='powell', args=(gp),\n",
    "               options={'xatol': 1e-10, 'disp': True})\n",
    "print(res)"
   ]
  },
  {
   "cell_type": "code",
   "execution_count": 702,
   "metadata": {},
   "outputs": [
    {
     "name": "stdout",
     "output_type": "stream",
     "text": [
      "Optimal signal variance: 55.70385778723766\n",
      "Optimal lengthscale: 672.6241642301383\n",
      "Optimal noise std: 0.37465169356626676\n",
      "Optimal a1:10.69027213135725\n",
      "Optimal b1:0.13976387473380522\n",
      "Optimal c1:8.797973006865005\n",
      "Log Marginal Likelihood: [[-299.50444148]]\n"
     ]
    }
   ],
   "source": [
    "optimal_params = np.exp(res.x)\n",
    "\n",
    "print(\"Optimal signal variance: \"+str(optimal_params[0]))\n",
    "print(\"Optimal lengthscale: \"+str(optimal_params[1]))\n",
    "print(\"Optimal noise std: \"+str(optimal_params[-1]))\n",
    "for i in range(I):\n",
    "    print(f'Optimal a{i+1}:' +str(optimal_params[2+3*i]))\n",
    "    print(f'Optimal b{i+1}:' +str(optimal_params[3+3*i]))\n",
    "    print(f'Optimal c{i+1}:' +str(optimal_params[4+3*i]))  \n",
    "\n",
    "a = np.array([optimal_params[2+3*i] for i in range(I)])\n",
    "b = np.array([optimal_params[3+3*i] for i in range(I)])\n",
    "c = np.array([optimal_params[4+3*i] for i in range(I)])\n",
    "\n",
    "gpw.set_hyper_params([optimal_params[:2], [a,b,c]], optimal_params[len(optimal_params)-1])\n",
    "\n",
    "#Predict for x_star\n",
    "[fw_mean_2,fw_std_2] = gpw.predict(val_x)\n",
    "lml = gpw.log_marginal_likelihood()\n",
    "print(\"Log Marginal Likelihood: \"+str(lml))\n",
    "\n",
    "\n",
    "fw_norm_train = 0\n",
    "fw_norm_test = 0\n",
    "\n",
    "for i in range(I):\n",
    "    fw_norm_train += optimal_params[3*i+2] * np.tanh(optimal_params[3*i+3] * (train_y + optimal_params[3*i+4])) \n",
    "    fw_norm_test += optimal_params[3*i+2] * np.tanh(optimal_params[3*i+3] * (val_y + optimal_params[3*i+4])) \n",
    "\n"
   ]
  },
  {
   "cell_type": "code",
   "execution_count": 747,
   "metadata": {},
   "outputs": [],
   "source": [
    "[fw_mean_original, fw_std_original] = gpw.predict_original(val_x)"
   ]
  },
  {
   "cell_type": "code",
   "execution_count": 773,
   "metadata": {},
   "outputs": [
    {
     "name": "stdout",
     "output_type": "stream",
     "text": [
      "GP warp MAE: 7.519371024232543\n",
      "GP MAE: 4.193546314837643\n"
     ]
    }
   ],
   "source": [
    "mae = np.mean(np.abs(f_mean - val_y))\n",
    "mae2 = np.mean(np.abs(fw_mean_original - val_y))\n",
    "\n",
    "print(\"GP warp MAE:\",mae2 )\n",
    "print(\"GP MAE:\",mae )"
   ]
  },
  {
   "cell_type": "code",
   "execution_count": 791,
   "metadata": {},
   "outputs": [
    {
     "data": {
      "text/plain": [
       "(array([102.000000, 4.000000, 3.000000, 1.000000, 0.000000, 1.000000,\n",
       "        0.000000, 0.000000, 0.000000, 1.000000]),\n",
       " array([0.000000, 10.550000, 21.100000, 31.650000, 42.200000, 52.750000,\n",
       "        63.300000, 73.850000, 84.400000, 94.950000, 105.500000]),\n",
       " <BarContainer object of 10 artists>)"
      ]
     },
     "execution_count": 791,
     "metadata": {},
     "output_type": "execute_result"
    },
    {
     "data": {
      "image/png": "[encoded data removed]",
      "text/plain": [
       "<Figure size 640x480 with 1 Axes>"
      ]
     },
     "metadata": {},
     "output_type": "display_data"
    }
   ],
   "source": [
    "import matplotlib.pyplot as plt\n",
    "plt.hist(f_mean, bins=10)\n",
    "plt.hist(fw_mean_original, bins=10)\n",
    "plt.hist(val_y, bins=10)"
   ]
  },
  {
   "cell_type": "code",
   "execution_count": 779,
   "metadata": {},
   "outputs": [
    {
     "data": {
      "text/plain": [
       "(2.827188029208113, 13.222190285748855, 105.5)"
      ]
     },
     "execution_count": 779,
     "metadata": {},
     "output_type": "execute_result"
    }
   ],
   "source": [
    "np.max(f_mean), np.max(fw_mean_original), np.max(val_y)"
   ]
  },
  {
   "cell_type": "code",
   "execution_count": 778,
   "metadata": {},
   "outputs": [
    {
     "data": {
      "text/plain": [
       "(0.667671150181275, 5.320475449775332, 4.698083928571429)"
      ]
     },
     "execution_count": 778,
     "metadata": {},
     "output_type": "execute_result"
    }
   ],
   "source": [
    "np.mean(f_mean), np.mean(fw_mean_original), np.mean(val_y)"
   ]
  },
  {
   "cell_type": "code",
   "execution_count": 780,
   "metadata": {},
   "outputs": [
    {
     "name": "stdout",
     "output_type": "stream",
     "text": [
      "[[0.372301 -1.367498 0.000000]\n",
      " [0.035242 -0.978207 0.984000]\n",
      " [0.037350 -0.992599 1.405000]\n",
      " [0.039556 -1.004324 1.895000]\n",
      " [0.041863 -1.013364 1.990000]\n",
      " [0.044274 -1.019698 105.500000]\n",
      " [0.046790 -1.023309 28.300000]\n",
      " [0.049415 -1.024178 6.700000]\n",
      " [0.052149 -1.022286 9.210000]\n",
      " [0.054996 -1.017615 9.710000]\n",
      " [0.057958 -1.010149 6.250000]\n",
      " [0.061035 -0.999870 6.870000]\n",
      " [0.064230 -0.986761 7.550000]\n",
      " [0.126677 -0.440637 9.340000]\n",
      " [0.131778 -0.380362 0.949000]\n",
      " [0.136985 -0.317044 0.950000]\n",
      " [0.142294 -0.250678 1.100000]\n",
      " [0.147700 -0.181254 1.595000]\n",
      " [0.153199 -0.108767 2.460000]\n",
      " [0.158786 -0.033210 1.610000]\n",
      " [0.164456 0.045423 3.860000]\n",
      " [0.170203 0.127136 2.650000]\n",
      " [0.176021 0.211934 3.250000]\n",
      " [0.181903 0.299821 1.890000]\n",
      " [0.187843 0.390801 1.830000]\n",
      " [0.193833 0.484874 1.700000]\n",
      " [0.199866 0.582045 1.440000]\n",
      " [0.205934 0.682314 2.480000]\n",
      " [0.212028 0.785682 1.115000]\n",
      " [0.218141 0.892149 0.630000]\n",
      " [0.224262 1.001715 1.315000]\n",
      " [0.230384 1.114379 2.180000]\n",
      " [0.236496 1.230139 1.795000]\n",
      " [0.242589 1.348992 1.080000]\n",
      " [0.248652 1.470936 0.364000]\n",
      " [0.254677 1.595967 0.233000]\n",
      " [0.260652 1.724081 0.311000]\n",
      " [0.266567 1.855272 0.344000]\n",
      " [0.272412 1.989536 0.350000]\n",
      " [0.278176 2.126866 0.497000]\n",
      " [0.283849 2.267255 0.348000]\n",
      " [0.289419 2.410695 0.520000]\n",
      " [0.353767 4.921402 4.720000]\n",
      " [0.356364 5.112120 0.555000]\n",
      " [0.358706 5.305665 0.432000]\n",
      " [0.360789 5.502017 0.075800]\n",
      " [0.362608 5.701157 0.099800]\n",
      " [0.364158 5.903066 0.164500]\n",
      " [0.365435 6.107722 0.056500]\n",
      " [0.366438 6.315106 0.090000]\n",
      " [0.367162 6.525194 0.125500]\n",
      " [0.367608 6.737967 0.115000]\n",
      " [0.367772 6.953400 0.061300]\n",
      " [0.367656 7.171470 0.163000]\n",
      " [0.367259 7.392155 0.109000]\n",
      " [0.366581 7.615430 0.074200]\n",
      " [0.365625 7.841270 0.046700]\n",
      " [0.364393 8.069651 0.035600]\n",
      " [0.362887 8.300548 0.335000]\n",
      " [0.361110 8.533933 0.097500]\n",
      " [0.359067 8.769782 0.111500]\n",
      " [0.356762 9.008066 0.121000]\n",
      " [0.354200 9.248760 0.102500]\n",
      " [0.351387 9.491835 0.127500]\n",
      " [0.348330 9.737263 0.110500]\n",
      " [0.345034 9.985017 15.700000]\n",
      " [0.341507 10.235067 38.100000]\n",
      " [0.003844 9.950261 2.260000]\n",
      " [0.003696 10.042913 2.080000]\n",
      " [0.003550 10.136748 2.110000]\n",
      " [0.003408 10.231762 1.965000]\n",
      " [0.003268 10.327950 0.880000]\n",
      " [0.003132 10.425306 1.575000]\n",
      " [0.001860 11.571849 0.438000]\n",
      " [0.001765 11.682805 0.434000]\n",
      " [0.001674 11.794854 0.300000]\n",
      " [0.001587 11.907990 0.699000]\n",
      " [0.001503 12.022207 1.140000]\n",
      " [0.001422 12.137497 0.863000]\n",
      " [0.001344 12.253853 0.594000]\n",
      " [0.001270 12.371267 0.603000]\n",
      " [0.001198 12.489734 0.505000]\n",
      " [0.001130 12.609244 0.353000]\n",
      " [0.001065 12.729792 0.389000]\n",
      " [0.001003 12.851368 0.411000]\n",
      " [0.000944 12.973965 0.533000]\n",
      " [0.000887 13.097575 0.544000]\n",
      " [0.000834 13.222190 0.366000]\n",
      " [2.476900 6.386085 2.400000]\n",
      " [2.449228 6.342614 0.334000]\n",
      " [2.423622 6.304029 1.830000]\n",
      " [2.400283 6.270389 3.790000]\n",
      " [2.379406 6.241752 3.880000]\n",
      " [2.361180 6.218172 3.650000]\n",
      " [2.345788 6.199700 4.800000]\n",
      " [2.333404 6.186387 3.680000]\n",
      " [2.324196 6.178280 2.980000]\n",
      " [2.318320 6.175421 2.340000]\n",
      " [2.315926 6.177853 2.450000]\n",
      " [2.317151 6.185614 1.600000]\n",
      " [2.322122 6.198739 7.690000]\n",
      " [2.330956 6.217263 3.680000]\n",
      " [2.343757 6.241214 3.370000]\n",
      " [2.360617 6.270622 14.200000]\n",
      " [2.381616 6.305510 2.860000]\n",
      " [2.508136 6.500273 15.800000]\n",
      " [2.550561 6.562844 22.400000]\n",
      " [2.597322 6.630990 13.500000]\n",
      " [2.648402 6.704718 27.000000]\n",
      " [2.703772 6.784031 2.490000]\n",
      " [2.763387 6.868933 4.340000]\n",
      " [2.827188 6.959421 59.800000]]\n"
     ]
    }
   ],
   "source": [
    "np.set_printoptions(formatter={'float_kind':'{:f}'.format})\n",
    "\n",
    "print(np.vstack((f_mean.reshape(-1), fw_mean_original.reshape(-1), np.array(val_y).reshape(-1))).T)\n"
   ]
  },
  {
   "cell_type": "code",
   "execution_count": 736,
   "metadata": {},
   "outputs": [
    {
     "data": {
      "application/vnd.plotly.v1+json": {
       "config": {
        "plotlyServerURL": "https://plot.ly"
       },
       "data": [
        {
         "hovertemplate": "EAST_mid_tf=%{x}<br>NORTH_mid_tf=%{y}<br>RL_mid_tf=%{z}<br>Cu_pct=%{marker.color}<extra></extra>",
         "legendgroup": "",
         "marker": {
          "color": [
           0,
           0.00984,
           0.01405,
           0.01895,
           0.0199,
           1.055,
           0.283,
           0.067,
           0.0921,
           0.0971,
           0.0625,
           0.0687,
           0.0755,
           0.0934,
           0.00949,
           0.0095,
           0.011,
           0.01595,
           0.0246,
           0.0161,
           0.0386,
           0.0265,
           0.0325,
           0.0189,
           0.0183,
           0.017,
           0.0144,
           0.0248,
           0.01115,
           0.0063,
           0.01315,
           0.0218,
           0.01795,
           0.0108,
           0.00364,
           0.00233,
           0.00311,
           0.00344,
           0.0035,
           0.00497,
           0.00348,
           0.0052,
           0.0472,
           0.00555,
           0.00432,
           0.000758,
           0.000998,
           0.001645,
           0.000565,
           0.0009,
           0.001255,
           0.00115,
           0.000613,
           0.00163,
           0.00109,
           0.000742,
           0.000467,
           0.000356,
           0.00335,
           0.000975,
           0.001115,
           0.00121,
           0.001025,
           0.001275,
           0.001105,
           0.157,
           0.381,
           0.0226,
           0.0208,
           0.0211,
           0.01965,
           0.0088,
           0.01575,
           0.00438,
           0.00434,
           0.003,
           0.00699,
           0.0114,
           0.00863,
           0.00594,
           0.00603,
           0.00505,
           0.00353,
           0.00389,
           0.00411,
           0.00533,
           0.00544,
           0.00366,
           0.024,
           0.00334,
           0.0183,
           0.0379,
           0.0388,
           0.0365,
           0.048,
           0.0368,
           0.0298,
           0.0234,
           0.0245,
           0.016,
           0.0769,
           0.0368,
           0.0337,
           0.142,
           0.0286,
           0.158,
           0.224,
           0.135,
           0.27,
           0.0249,
           0.0434,
           0.598
          ],
          "coloraxis": "coloraxis",
          "size": 4,
          "symbol": "circle"
         },
         "mode": "markers",
         "name": "",
         "scene": "scene",
         "showlegend": false,
         "type": "scatter3d",
         "x": [
          -466.118351251469,
          470.95448774890974,
          470.9373046518304,
          470.9197748296429,
          470.9018952816259,
          470.8836630076403,
          470.865075007081,
          470.8461282795761,
          470.8268198247533,
          470.8071466421243,
          470.7871057313168,
          470.7666940919589,
          470.7459087236784,
          470.3872404398862,
          470.3600673514884,
          470.3324695272604,
          470.3044439665973,
          470.2759876691271,
          470.2470976342447,
          470.2177708619274,
          470.18800435133744,
          470.1577951023355,
          470.1271401145496,
          470.0960363873746,
          470.06448092043865,
          470.0324707133696,
          470.0000027657952,
          469.9670740773436,
          469.93368164729327,
          469.8998224756215,
          469.86549356172327,
          469.83069190522656,
          469.79541450575925,
          469.7596583627165,
          469.7234204758424,
          469.6866978448816,
          469.6494874691125,
          469.6117863481632,
          469.5735914817778,
          469.53489986946806,
          469.49570851097815,
          469.4560144055868,
          468.7982329358347,
          468.75008682650514,
          468.70138696348295,
          468.6521303462796,
          468.60231397440657,
          468.5519348474918,
          468.5009899652796,
          468.4494763272815,
          468.3973909328925,
          468.3447307818569,
          468.2914928739192,
          468.2376742084744,
          468.18327178503387,
          468.1282826033421,
          468.0727036630269,
          468.016531963367,
          467.9597645043396,
          467.902398285456,
          467.8444303059951,
          467.7858575658174,
          467.72667706455104,
          467.666885801591,
          467.6064807765652,
          467.5454589892179,
          467.4838174390607,
          697.6915062208427,
          697.6726773334667,
          697.6535147510003,
          697.6340133957565,
          697.614168189466,
          697.5939740540925,
          697.3473569365451,
          697.3225795673206,
          697.29738725489,
          697.2717749209842,
          697.2457374877995,
          697.2192698772997,
          697.192367011332,
          697.1650238119764,
          697.1372352011967,
          697.1089961009566,
          697.0803014331032,
          697.0511461199494,
          697.0215250831097,
          696.991433244897,
          696.9608655269258,
          66.79607251356356,
          67.36339087563101,
          67.92900734464638,
          68.49291415000334,
          69.05510352109559,
          69.61556768685114,
          70.1742988768965,
          70.73128932027612,
          71.28653124650009,
          71.84001688472927,
          72.39173846424092,
          72.94168821442872,
          73.48985836456995,
          74.03624114394188,
          74.58082878170535,
          75.12361350748688,
          75.66458755021449,
          77.81022147834301,
          78.3420255461242,
          78.87197230686434,
          79.40005398960784,
          79.92626282386482,
          80.45059103891253,
          80.97303086402826
         ],
         "y": [
          142.75837487354875,
          -101.0668583344668,
          -101.0558402435854,
          -101.04528751410544,
          -101.03519524075092,
          -101.02555852103978,
          -101.0163724506274,
          -101.00763212516904,
          -100.99933264218272,
          -100.99146909825504,
          -100.98403658717872,
          -100.977030207403,
          -100.97044505458324,
          -100.91888044308872,
          -100.91836801171304,
          -100.918193442747,
          -100.91835183277726,
          -100.91883828025313,
          -100.91964787896724,
          -100.92077572550625,
          -100.92221691645682,
          -100.92396654933692,
          -100.92601971887052,
          -100.92837152071296,
          -100.93101705238224,
          -100.9339514086023,
          -100.9371696896851,
          -100.94066698662937,
          -100.944438399747,
          -100.94847902283072,
          -100.95278395153582,
          -100.95734828617424,
          -100.96216711960732,
          -100.96723554749042,
          -100.9725486682728,
          -100.97810157760978,
          -100.98388937115668,
          -100.98990714456886,
          -100.99614999629556,
          -101.00261302106082,
          -101.00929131545126,
          -101.0161799751222,
          -101.14141922444104,
          -101.15100682713091,
          -101.16072143241765,
          -101.17055813595653,
          -101.18051203526556,
          -101.19057822413744,
          -101.20075180009007,
          -101.21102785971016,
          -101.22140149958432,
          -101.23186781443655,
          -101.24242190085351,
          -101.25305885728449,
          -101.26377377659082,
          -101.27456175908446,
          -101.28541789762676,
          -101.29633728880437,
          -101.3073150301352,
          -101.31834621727468,
          -101.32942594680937,
          -101.3405493143946,
          -101.35171141661704,
          -101.36290735006332,
          -101.3741322113201,
          -101.38538109511136,
          -101.3966490989551,
          -74.70530571509153,
          -74.69777305237949,
          -74.69004122912884,
          -74.68210813123733,
          -74.67397164739668,
          -74.66562966443598,
          -74.55970075260848,
          -74.54872800782323,
          -74.53752230014652,
          -74.5260815192014,
          -74.5144035499543,
          -74.50248628295958,
          -74.49032760318369,
          -74.47792539931834,
          -74.46527755912393,
          -74.45238196756691,
          -74.43923651706427,
          -74.42583909071982,
          -74.41218757722527,
          -74.39827986434102,
          -74.38411383889616,
          127.9562789304182,
          128.5758225498721,
          129.19354479480535,
          129.80946042016149,
          130.42358418367803,
          131.03593084029853,
          131.64651514403522,
          132.25535185541958,
          132.86245572380722,
          133.46784151066095,
          134.07152396906167,
          134.67351785488427,
          135.27383792586625,
          135.87249893508852,
          136.4695156402886,
          137.06490279734135,
          137.65867516212165,
          140.0179118067026,
          140.60383154451847,
          141.1882250243798,
          141.77110700216144,
          142.35249223466965,
          142.9323954768479,
          143.5108314845711
         ],
         "z": [
          1732.4647405466822,
          1713.105654825202,
          1711.1057693102348,
          1709.105884067733,
          1707.1059992991045,
          1705.1061152057537,
          1703.1062319890875,
          1701.1063498505123,
          1699.106468991434,
          1697.1065896132586,
          1695.1067119173929,
          1693.106836105242,
          1691.1069623782134,
          1661.1092436435863,
          1659.1094306697455,
          1657.109623204931,
          1655.1098214505496,
          1653.1100256080072,
          1651.1102358787105,
          1649.110452464065,
          1647.110675565477,
          1645.1109053843536,
          1643.1111421221,
          1641.1113859801226,
          1639.1116371598273,
          1637.111895862621,
          1635.1121622899095,
          1633.112436643099,
          1631.1127191235955,
          1629.1130099328054,
          1627.1133092721348,
          1625.11361734299,
          1623.1139343467771,
          1621.1142604849022,
          1619.1145959587716,
          1617.1149409697916,
          1615.115295719368,
          1613.1156604089074,
          1611.1160352398158,
          1609.116420413499,
          1607.1168161313642,
          1605.117222594817,
          1575.1247459733145,
          1573.125351757409,
          1571.1259717109956,
          1569.1266060354817,
          1567.1272549322723,
          1565.1279186027743,
          1563.1285972483936,
          1561.129291070537,
          1559.1300002706096,
          1557.130725050018,
          1555.1314656101692,
          1553.1322221524683,
          1551.132994878322,
          1549.1337839891364,
          1547.1345896863177,
          1545.1354121712718,
          1543.1362516454055,
          1541.1371083101244,
          1539.1379823668349,
          1537.1388740169432,
          1535.1397834618556,
          1533.1407109029778,
          1531.1416565417169,
          1529.1426205794785,
          1527.1436032176682,
          1572.0870071057686,
          1570.0871224067514,
          1568.0872403449948,
          1566.087360960851,
          1564.0874842946705,
          1562.0876103868052,
          1540.0891909896432,
          1538.0893533289825,
          1536.089518951207,
          1534.0896878966691,
          1532.089860205719,
          1530.0900359187096,
          1528.0902150759916,
          1526.0903977179166,
          1524.0905838848364,
          1522.0907736171025,
          1520.090966955066,
          1518.0911639390793,
          1516.091364609493,
          1514.0915690066597,
          1512.0917771709296,
          1698.9439821207802,
          1697.129439943379,
          1695.3137612153696,
          1693.4969512953498,
          1691.67901554192,
          1689.8599593136796,
          1688.0397879692275,
          1686.2185068671636,
          1684.3961213660873,
          1682.5726368245982,
          1680.7480586012955,
          1678.9223920547788,
          1677.0956425436475,
          1675.267815426501,
          1673.4389160619394,
          1671.6089498085612,
          1669.7779220249663,
          1662.4433027604086,
          1660.6070477047222,
          1658.7697632704158,
          1656.9314548160887,
          1655.0921277003406,
          1653.2517872817712,
          1651.4104389189793
         ]
        }
       ],
       "layout": {
        "coloraxis": {
         "colorbar": {
          "title": {
           "text": "Cu_pct"
          }
         },
         "colorscale": [
          [
           0,
           "#440154"
          ],
          [
           0.1111111111111111,
           "#482878"
          ],
          [
           0.2222222222222222,
           "#3e4989"
          ],
          [
           0.3333333333333333,
           "#31688e"
          ],
          [
           0.4444444444444444,
           "#26828e"
          ],
          [
           0.5555555555555556,
           "#1f9e89"
          ],
          [
           0.6666666666666666,
           "#35b779"
          ],
          [
           0.7777777777777778,
           "#6ece58"
          ],
          [
           0.8888888888888888,
           "#b5de2b"
          ],
          [
           1,
           "#fde725"
          ]
         ]
        },
        "legend": {
         "tracegroupgap": 0
        },
        "margin": {
         "b": 10,
         "l": 10,
         "r": 20,
         "t": 10
        },
        "scene": {
         "domain": {
          "x": [
           0,
           1
          ],
          "y": [
           0,
           1
          ]
         },
         "xaxis": {
          "nticks": 21,
          "range": [
           0,
           2100
          ],
          "title": {
           "text": "EAST_mid_tf"
          }
         },
         "yaxis": {
          "nticks": 15,
          "range": [
           0,
           1500
          ],
          "title": {
           "text": "NORTH_mid_tf"
          }
         },
         "zaxis": {
          "nticks": 18,
          "range": [
           0,
           1770
          ],
          "title": {
           "text": "RL_mid_tf"
          }
         }
        },
        "template": {
         "data": {
          "bar": [
           {
            "error_x": {
             "color": "#2a3f5f"
            },
            "error_y": {
             "color": "#2a3f5f"
            },
            "marker": {
             "line": {
              "color": "#E5ECF6",
              "width": 0.5
             },
             "pattern": {
              "fillmode": "overlay",
              "size": 10,
              "solidity": 0.2
             }
            },
            "type": "bar"
           }
          ],
          "barpolar": [
           {
            "marker": {
             "line": {
              "color": "#E5ECF6",
              "width": 0.5
             },
             "pattern": {
              "fillmode": "overlay",
              "size": 10,
              "solidity": 0.2
             }
            },
            "type": "barpolar"
           }
          ],
          "carpet": [
           {
            "aaxis": {
             "endlinecolor": "#2a3f5f",
             "gridcolor": "white",
             "linecolor": "white",
             "minorgridcolor": "white",
             "startlinecolor": "#2a3f5f"
            },
            "baxis": {
             "endlinecolor": "#2a3f5f",
             "gridcolor": "white",
             "linecolor": "white",
             "minorgridcolor": "white",
             "startlinecolor": "#2a3f5f"
            },
            "type": "carpet"
           }
          ],
          "choropleth": [
           {
            "colorbar": {
             "outlinewidth": 0,
             "ticks": ""
            },
            "type": "choropleth"
           }
          ],
          "contour": [
           {
            "colorbar": {
             "outlinewidth": 0,
             "ticks": ""
            },
            "colorscale": [
             [
              0,
              "#0d0887"
             ],
             [
              0.1111111111111111,
              "#46039f"
             ],
             [
              0.2222222222222222,
              "#7201a8"
             ],
             [
              0.3333333333333333,
              "#9c179e"
             ],
             [
              0.4444444444444444,
              "#bd3786"
             ],
             [
              0.5555555555555556,
              "#d8576b"
             ],
             [
              0.6666666666666666,
              "#ed7953"
             ],
             [
              0.7777777777777778,
              "#fb9f3a"
             ],
             [
              0.8888888888888888,
              "#fdca26"
             ],
             [
              1,
              "#f0f921"
             ]
            ],
            "type": "contour"
           }
          ],
          "contourcarpet": [
           {
            "colorbar": {
             "outlinewidth": 0,
             "ticks": ""
            },
            "type": "contourcarpet"
           }
          ],
          "heatmap": [
           {
            "colorbar": {
             "outlinewidth": 0,
             "ticks": ""
            },
            "colorscale": [
             [
              0,
              "#0d0887"
             ],
             [
              0.1111111111111111,
              "#46039f"
             ],
             [
              0.2222222222222222,
              "#7201a8"
             ],
             [
              0.3333333333333333,
              "#9c179e"
             ],
             [
              0.4444444444444444,
              "#bd3786"
             ],
             [
              0.5555555555555556,
              "#d8576b"
             ],
             [
              0.6666666666666666,
              "#ed7953"
             ],
             [
              0.7777777777777778,
              "#fb9f3a"
             ],
             [
              0.8888888888888888,
              "#fdca26"
             ],
             [
              1,
              "#f0f921"
             ]
            ],
            "type": "heatmap"
           }
          ],
          "heatmapgl": [
           {
            "colorbar": {
             "outlinewidth": 0,
             "ticks": ""
            },
            "colorscale": [
             [
              0,
              "#0d0887"
             ],
             [
              0.1111111111111111,
              "#46039f"
             ],
             [
              0.2222222222222222,
              "#7201a8"
             ],
             [
              0.3333333333333333,
              "#9c179e"
             ],
             [
              0.4444444444444444,
              "#bd3786"
             ],
             [
              0.5555555555555556,
              "#d8576b"
             ],
             [
              0.6666666666666666,
              "#ed7953"
             ],
             [
              0.7777777777777778,
              "#fb9f3a"
             ],
             [
              0.8888888888888888,
              "#fdca26"
             ],
             [
              1,
              "#f0f921"
             ]
            ],
            "type": "heatmapgl"
           }
          ],
          "histogram": [
           {
            "marker": {
             "pattern": {
              "fillmode": "overlay",
              "size": 10,
              "solidity": 0.2
             }
            },
            "type": "histogram"
           }
          ],
          "histogram2d": [
           {
            "colorbar": {
             "outlinewidth": 0,
             "ticks": ""
            },
            "colorscale": [
             [
              0,
              "#0d0887"
             ],
             [
              0.1111111111111111,
              "#46039f"
             ],
             [
              0.2222222222222222,
              "#7201a8"
             ],
             [
              0.3333333333333333,
              "#9c179e"
             ],
             [
              0.4444444444444444,
              "#bd3786"
             ],
             [
              0.5555555555555556,
              "#d8576b"
             ],
             [
              0.6666666666666666,
              "#ed7953"
             ],
             [
              0.7777777777777778,
              "#fb9f3a"
             ],
             [
              0.8888888888888888,
              "#fdca26"
             ],
             [
              1,
              "#f0f921"
             ]
            ],
            "type": "histogram2d"
           }
          ],
          "histogram2dcontour": [
           {
            "colorbar": {
             "outlinewidth": 0,
             "ticks": ""
            },
            "colorscale": [
             [
              0,
              "#0d0887"
             ],
             [
              0.1111111111111111,
              "#46039f"
             ],
             [
              0.2222222222222222,
              "#7201a8"
             ],
             [
              0.3333333333333333,
              "#9c179e"
             ],
             [
              0.4444444444444444,
              "#bd3786"
             ],
             [
              0.5555555555555556,
              "#d8576b"
             ],
             [
              0.6666666666666666,
              "#ed7953"
             ],
             [
              0.7777777777777778,
              "#fb9f3a"
             ],
             [
              0.8888888888888888,
              "#fdca26"
             ],
             [
              1,
              "#f0f921"
             ]
            ],
            "type": "histogram2dcontour"
           }
          ],
          "mesh3d": [
           {
            "colorbar": {
             "outlinewidth": 0,
             "ticks": ""
            },
            "type": "mesh3d"
           }
          ],
          "parcoords": [
           {
            "line": {
             "colorbar": {
              "outlinewidth": 0,
              "ticks": ""
             }
            },
            "type": "parcoords"
           }
          ],
          "pie": [
           {
            "automargin": true,
            "type": "pie"
           }
          ],
          "scatter": [
           {
            "fillpattern": {
             "fillmode": "overlay",
             "size": 10,
             "solidity": 0.2
            },
            "type": "scatter"
           }
          ],
          "scatter3d": [
           {
            "line": {
             "colorbar": {
              "outlinewidth": 0,
              "ticks": ""
             }
            },
            "marker": {
             "colorbar": {
              "outlinewidth": 0,
              "ticks": ""
             }
            },
            "type": "scatter3d"
           }
          ],
          "scattercarpet": [
           {
            "marker": {
             "colorbar": {
              "outlinewidth": 0,
              "ticks": ""
             }
            },
            "type": "scattercarpet"
           }
          ],
          "scattergeo": [
           {
            "marker": {
             "colorbar": {
              "outlinewidth": 0,
              "ticks": ""
             }
            },
            "type": "scattergeo"
           }
          ],
          "scattergl": [
           {
            "marker": {
             "colorbar": {
              "outlinewidth": 0,
              "ticks": ""
             }
            },
            "type": "scattergl"
           }
          ],
          "scattermapbox": [
           {
            "marker": {
             "colorbar": {
              "outlinewidth": 0,
              "ticks": ""
             }
            },
            "type": "scattermapbox"
           }
          ],
          "scatterpolar": [
           {
            "marker": {
             "colorbar": {
              "outlinewidth": 0,
              "ticks": ""
             }
            },
            "type": "scatterpolar"
           }
          ],
          "scatterpolargl": [
           {
            "marker": {
             "colorbar": {
              "outlinewidth": 0,
              "ticks": ""
             }
            },
            "type": "scatterpolargl"
           }
          ],
          "scatterternary": [
           {
            "marker": {
             "colorbar": {
              "outlinewidth": 0,
              "ticks": ""
             }
            },
            "type": "scatterternary"
           }
          ],
          "surface": [
           {
            "colorbar": {
             "outlinewidth": 0,
             "ticks": ""
            },
            "colorscale": [
             [
              0,
              "#0d0887"
             ],
             [
              0.1111111111111111,
              "#46039f"
             ],
             [
              0.2222222222222222,
              "#7201a8"
             ],
             [
              0.3333333333333333,
              "#9c179e"
             ],
             [
              0.4444444444444444,
              "#bd3786"
             ],
             [
              0.5555555555555556,
              "#d8576b"
             ],
             [
              0.6666666666666666,
              "#ed7953"
             ],
             [
              0.7777777777777778,
              "#fb9f3a"
             ],
             [
              0.8888888888888888,
              "#fdca26"
             ],
             [
              1,
              "#f0f921"
             ]
            ],
            "type": "surface"
           }
          ],
          "table": [
           {
            "cells": {
             "fill": {
              "color": "#EBF0F8"
             },
             "line": {
              "color": "white"
             }
            },
            "header": {
             "fill": {
              "color": "#C8D4E3"
             },
             "line": {
              "color": "white"
             }
            },
            "type": "table"
           }
          ]
         },
         "layout": {
          "annotationdefaults": {
           "arrowcolor": "#2a3f5f",
           "arrowhead": 0,
           "arrowwidth": 1
          },
          "autotypenumbers": "strict",
          "coloraxis": {
           "colorbar": {
            "outlinewidth": 0,
            "ticks": ""
           }
          },
          "colorscale": {
           "diverging": [
            [
             0,
             "#8e0152"
            ],
            [
             0.1,
             "#c51b7d"
            ],
            [
             0.2,
             "#de77ae"
            ],
            [
             0.3,
             "#f1b6da"
            ],
            [
             0.4,
             "#fde0ef"
            ],
            [
             0.5,
             "#f7f7f7"
            ],
            [
             0.6,
             "#e6f5d0"
            ],
            [
             0.7,
             "#b8e186"
            ],
            [
             0.8,
             "#7fbc41"
            ],
            [
             0.9,
             "#4d9221"
            ],
            [
             1,
             "#276419"
            ]
           ],
           "sequential": [
            [
             0,
             "#0d0887"
            ],
            [
             0.1111111111111111,
             "#46039f"
            ],
            [
             0.2222222222222222,
             "#7201a8"
            ],
            [
             0.3333333333333333,
             "#9c179e"
            ],
            [
             0.4444444444444444,
             "#bd3786"
            ],
            [
             0.5555555555555556,
             "#d8576b"
            ],
            [
             0.6666666666666666,
             "#ed7953"
            ],
            [
             0.7777777777777778,
             "#fb9f3a"
            ],
            [
             0.8888888888888888,
             "#fdca26"
            ],
            [
             1,
             "#f0f921"
            ]
           ],
           "sequentialminus": [
            [
             0,
             "#0d0887"
            ],
            [
             0.1111111111111111,
             "#46039f"
            ],
            [
             0.2222222222222222,
             "#7201a8"
            ],
            [
             0.3333333333333333,
             "#9c179e"
            ],
            [
             0.4444444444444444,
             "#bd3786"
            ],
            [
             0.5555555555555556,
             "#d8576b"
            ],
            [
             0.6666666666666666,
             "#ed7953"
            ],
            [
             0.7777777777777778,
             "#fb9f3a"
            ],
            [
             0.8888888888888888,
             "#fdca26"
            ],
            [
             1,
             "#f0f921"
            ]
           ]
          },
          "colorway": [
           "#636efa",
           "#EF553B",
           "#00cc96",
           "#ab63fa",
           "#FFA15A",
           "#19d3f3",
           "#FF6692",
           "#B6E880",
           "#FF97FF",
           "#FECB52"
          ],
          "font": {
           "color": "#2a3f5f"
          },
          "geo": {
           "bgcolor": "white",
           "lakecolor": "white",
           "landcolor": "#E5ECF6",
           "showlakes": true,
           "showland": true,
           "subunitcolor": "white"
          },
          "hoverlabel": {
           "align": "left"
          },
          "hovermode": "closest",
          "mapbox": {
           "style": "light"
          },
          "paper_bgcolor": "white",
          "plot_bgcolor": "#E5ECF6",
          "polar": {
           "angularaxis": {
            "gridcolor": "white",
            "linecolor": "white",
            "ticks": ""
           },
           "bgcolor": "#E5ECF6",
           "radialaxis": {
            "gridcolor": "white",
            "linecolor": "white",
            "ticks": ""
           }
          },
          "scene": {
           "xaxis": {
            "backgroundcolor": "#E5ECF6",
            "gridcolor": "white",
            "gridwidth": 2,
            "linecolor": "white",
            "showbackground": true,
            "ticks": "",
            "zerolinecolor": "white"
           },
           "yaxis": {
            "backgroundcolor": "#E5ECF6",
            "gridcolor": "white",
            "gridwidth": 2,
            "linecolor": "white",
            "showbackground": true,
            "ticks": "",
            "zerolinecolor": "white"
           },
           "zaxis": {
            "backgroundcolor": "#E5ECF6",
            "gridcolor": "white",
            "gridwidth": 2,
            "linecolor": "white",
            "showbackground": true,
            "ticks": "",
            "zerolinecolor": "white"
           }
          },
          "shapedefaults": {
           "line": {
            "color": "#2a3f5f"
           }
          },
          "ternary": {
           "aaxis": {
            "gridcolor": "white",
            "linecolor": "white",
            "ticks": ""
           },
           "baxis": {
            "gridcolor": "white",
            "linecolor": "white",
            "ticks": ""
           },
           "bgcolor": "#E5ECF6",
           "caxis": {
            "gridcolor": "white",
            "linecolor": "white",
            "ticks": ""
           }
          },
          "title": {
           "x": 0.05
          },
          "xaxis": {
           "automargin": true,
           "gridcolor": "white",
           "linecolor": "white",
           "ticks": "",
           "title": {
            "standoff": 15
           },
           "zerolinecolor": "white",
           "zerolinewidth": 2
          },
          "yaxis": {
           "automargin": true,
           "gridcolor": "white",
           "linecolor": "white",
           "ticks": "",
           "title": {
            "standoff": 15
           },
           "zerolinecolor": "white",
           "zerolinewidth": 2
          }
         }
        },
        "width": 700
       }
      }
     },
     "metadata": {},
     "output_type": "display_data"
    }
   ],
   "source": [
    "\n",
    "\n",
    "fig = px.scatter_3d(val_subset, x=val_subset['EAST_mid_tf'], y=val_subset['NORTH_mid_tf'], z=val_subset['RL_mid_tf'],\n",
    "              color=val_subset['Cu_pct'], color_continuous_scale='viridis')\n",
    "\n",
    "\n",
    "\n",
    "\n",
    "fig.update_layout(\n",
    "    scene = dict(\n",
    "        xaxis = dict(nticks=21, range=[0,2100],),\n",
    "                     yaxis = dict(nticks=15, range=[0,1500],),\n",
    "                     zaxis = dict(nticks=18, range=[0,1770],),),\n",
    "    width=700,\n",
    "    margin=dict(r=20, l=10, b=10, t=10))\n",
    "\n",
    "fig.update_traces(marker_size = 4)\n",
    "\n",
    "fig.show()"
   ]
  },
  {
   "cell_type": "code",
   "execution_count": 735,
   "metadata": {},
   "outputs": [
    {
     "data": {
      "application/vnd.plotly.v1+json": {
       "config": {
        "plotlyServerURL": "https://plot.ly"
       },
       "data": [
        {
         "hovertemplate": "EAST_mid_tf=%{x}<br>NORTH_mid_tf=%{y}<br>RL_mid_tf=%{z}<br>color=%{marker.color}<extra></extra>",
         "legendgroup": "",
         "marker": {
          "color": [
           -1.3674984611224228,
           -0.9782074032513384,
           -0.9925986249750276,
           -1.0043238884729644,
           -1.0133635487226762,
           -1.0196983101255301,
           -1.0233092349480357,
           -1.0241777515648596,
           -1.0222856627812322,
           -1.0176151543485166,
           -1.0101488029320422,
           -0.9998695848325504,
           -0.9867608840857716,
           -0.44063728244669,
           -0.38036169105884776,
           -0.3170444540814211,
           -0.2506776767569212,
           -0.18125402101292343,
           -0.10876671213113243,
           -0.033209545589660716,
           0.04542310659858739,
           0.1271362895372793,
           0.2119344595172432,
           0.2998214779918458,
           0.39080060599636,
           0.48487449888988055,
           0.5820452010329993,
           0.6823141410573067,
           0.785682127153472,
           0.8921493429917398,
           1.0017153434096717,
           1.114379051024728,
           1.230138752611604,
           1.3489920962785327,
           1.4709360886295646,
           1.5959670925729044,
           1.7240808252533875,
           1.8552723564877,
           1.9895361076368174,
           2.1268658506899705,
           2.2672547079396934,
           2.4106951518966033,
           4.92140155490105,
           5.112119961917906,
           5.305664612261532,
           5.502016761403112,
           5.701157094389938,
           5.903065733673482,
           6.107722247792601,
           6.3151056598364335,
           6.525194456543385,
           6.737966597566199,
           6.953399525222769,
           7.171470174141689,
           7.39215498122215,
           7.61542989643506,
           7.841270392502372,
           8.069651476470757,
           8.300547699971888,
           8.533933170452727,
           8.769781562434707,
           9.008066128582392,
           9.248759711360792,
           9.491834754434489,
           9.737263314206109,
           9.98501707144498,
           10.235067343260166,
           9.95026065219384,
           10.04291305171224,
           10.136748416798133,
           10.231762178379325,
           10.327949630570611,
           10.425305931068797,
           11.571848970169885,
           11.682804671121627,
           11.794854062833046,
           11.907990445915495,
           12.022206993487456,
           12.137496751933641,
           12.253852642091172,
           12.371267459936105,
           12.489733877600019,
           12.609244444567258,
           12.729791588370105,
           12.851367616080864,
           12.973964715091983,
           13.09757495438449,
           13.222190285748855,
           6.386084768489942,
           6.342614177469676,
           6.304029136563301,
           6.270389317034076,
           6.241751898313911,
           6.218171509710093,
           6.199700180039184,
           6.186387294789775,
           6.178279562080208,
           6.175420985136623,
           6.17785284314561,
           6.1856136783925795,
           6.198739290555353,
           6.217262736991179,
           6.241214339202908,
           6.27062169456584,
           6.3055096936885455,
           6.500272534224437,
           6.562844126180738,
           6.630990364475238,
           6.704718020136933,
           6.7840314335675584,
           6.8689325616703565,
           6.9594210259720715
          ],
          "coloraxis": "coloraxis",
          "size": 4,
          "symbol": "circle"
         },
         "mode": "markers",
         "name": "",
         "scene": "scene",
         "showlegend": false,
         "type": "scatter3d",
         "x": [
          -466.118351251469,
          470.95448774890974,
          470.9373046518304,
          470.9197748296429,
          470.9018952816259,
          470.8836630076403,
          470.865075007081,
          470.8461282795761,
          470.8268198247533,
          470.8071466421243,
          470.7871057313168,
          470.7666940919589,
          470.7459087236784,
          470.3872404398862,
          470.3600673514884,
          470.3324695272604,
          470.3044439665973,
          470.2759876691271,
          470.2470976342447,
          470.2177708619274,
          470.18800435133744,
          470.1577951023355,
          470.1271401145496,
          470.0960363873746,
          470.06448092043865,
          470.0324707133696,
          470.0000027657952,
          469.9670740773436,
          469.93368164729327,
          469.8998224756215,
          469.86549356172327,
          469.83069190522656,
          469.79541450575925,
          469.7596583627165,
          469.7234204758424,
          469.6866978448816,
          469.6494874691125,
          469.6117863481632,
          469.5735914817778,
          469.53489986946806,
          469.49570851097815,
          469.4560144055868,
          468.7982329358347,
          468.75008682650514,
          468.70138696348295,
          468.6521303462796,
          468.60231397440657,
          468.5519348474918,
          468.5009899652796,
          468.4494763272815,
          468.3973909328925,
          468.3447307818569,
          468.2914928739192,
          468.2376742084744,
          468.18327178503387,
          468.1282826033421,
          468.0727036630269,
          468.016531963367,
          467.9597645043396,
          467.902398285456,
          467.8444303059951,
          467.7858575658174,
          467.72667706455104,
          467.666885801591,
          467.6064807765652,
          467.5454589892179,
          467.4838174390607,
          697.6915062208427,
          697.6726773334667,
          697.6535147510003,
          697.6340133957565,
          697.614168189466,
          697.5939740540925,
          697.3473569365451,
          697.3225795673206,
          697.29738725489,
          697.2717749209842,
          697.2457374877995,
          697.2192698772997,
          697.192367011332,
          697.1650238119764,
          697.1372352011967,
          697.1089961009566,
          697.0803014331032,
          697.0511461199494,
          697.0215250831097,
          696.991433244897,
          696.9608655269258,
          66.79607251356356,
          67.36339087563101,
          67.92900734464638,
          68.49291415000334,
          69.05510352109559,
          69.61556768685114,
          70.1742988768965,
          70.73128932027612,
          71.28653124650009,
          71.84001688472927,
          72.39173846424092,
          72.94168821442872,
          73.48985836456995,
          74.03624114394188,
          74.58082878170535,
          75.12361350748688,
          75.66458755021449,
          77.81022147834301,
          78.3420255461242,
          78.87197230686434,
          79.40005398960784,
          79.92626282386482,
          80.45059103891253,
          80.97303086402826
         ],
         "y": [
          142.75837487354875,
          -101.0668583344668,
          -101.0558402435854,
          -101.04528751410544,
          -101.03519524075092,
          -101.02555852103978,
          -101.0163724506274,
          -101.00763212516904,
          -100.99933264218272,
          -100.99146909825504,
          -100.98403658717872,
          -100.977030207403,
          -100.97044505458324,
          -100.91888044308872,
          -100.91836801171304,
          -100.918193442747,
          -100.91835183277726,
          -100.91883828025313,
          -100.91964787896724,
          -100.92077572550625,
          -100.92221691645682,
          -100.92396654933692,
          -100.92601971887052,
          -100.92837152071296,
          -100.93101705238224,
          -100.9339514086023,
          -100.9371696896851,
          -100.94066698662937,
          -100.944438399747,
          -100.94847902283072,
          -100.95278395153582,
          -100.95734828617424,
          -100.96216711960732,
          -100.96723554749042,
          -100.9725486682728,
          -100.97810157760978,
          -100.98388937115668,
          -100.98990714456886,
          -100.99614999629556,
          -101.00261302106082,
          -101.00929131545126,
          -101.0161799751222,
          -101.14141922444104,
          -101.15100682713091,
          -101.16072143241765,
          -101.17055813595653,
          -101.18051203526556,
          -101.19057822413744,
          -101.20075180009007,
          -101.21102785971016,
          -101.22140149958432,
          -101.23186781443655,
          -101.24242190085351,
          -101.25305885728449,
          -101.26377377659082,
          -101.27456175908446,
          -101.28541789762676,
          -101.29633728880437,
          -101.3073150301352,
          -101.31834621727468,
          -101.32942594680937,
          -101.3405493143946,
          -101.35171141661704,
          -101.36290735006332,
          -101.3741322113201,
          -101.38538109511136,
          -101.3966490989551,
          -74.70530571509153,
          -74.69777305237949,
          -74.69004122912884,
          -74.68210813123733,
          -74.67397164739668,
          -74.66562966443598,
          -74.55970075260848,
          -74.54872800782323,
          -74.53752230014652,
          -74.5260815192014,
          -74.5144035499543,
          -74.50248628295958,
          -74.49032760318369,
          -74.47792539931834,
          -74.46527755912393,
          -74.45238196756691,
          -74.43923651706427,
          -74.42583909071982,
          -74.41218757722527,
          -74.39827986434102,
          -74.38411383889616,
          127.9562789304182,
          128.5758225498721,
          129.19354479480535,
          129.80946042016149,
          130.42358418367803,
          131.03593084029853,
          131.64651514403522,
          132.25535185541958,
          132.86245572380722,
          133.46784151066095,
          134.07152396906167,
          134.67351785488427,
          135.27383792586625,
          135.87249893508852,
          136.4695156402886,
          137.06490279734135,
          137.65867516212165,
          140.0179118067026,
          140.60383154451847,
          141.1882250243798,
          141.77110700216144,
          142.35249223466965,
          142.9323954768479,
          143.5108314845711
         ],
         "z": [
          1732.4647405466822,
          1713.105654825202,
          1711.1057693102348,
          1709.105884067733,
          1707.1059992991045,
          1705.1061152057537,
          1703.1062319890875,
          1701.1063498505123,
          1699.106468991434,
          1697.1065896132586,
          1695.1067119173929,
          1693.106836105242,
          1691.1069623782134,
          1661.1092436435863,
          1659.1094306697455,
          1657.109623204931,
          1655.1098214505496,
          1653.1100256080072,
          1651.1102358787105,
          1649.110452464065,
          1647.110675565477,
          1645.1109053843536,
          1643.1111421221,
          1641.1113859801226,
          1639.1116371598273,
          1637.111895862621,
          1635.1121622899095,
          1633.112436643099,
          1631.1127191235955,
          1629.1130099328054,
          1627.1133092721348,
          1625.11361734299,
          1623.1139343467771,
          1621.1142604849022,
          1619.1145959587716,
          1617.1149409697916,
          1615.115295719368,
          1613.1156604089074,
          1611.1160352398158,
          1609.116420413499,
          1607.1168161313642,
          1605.117222594817,
          1575.1247459733145,
          1573.125351757409,
          1571.1259717109956,
          1569.1266060354817,
          1567.1272549322723,
          1565.1279186027743,
          1563.1285972483936,
          1561.129291070537,
          1559.1300002706096,
          1557.130725050018,
          1555.1314656101692,
          1553.1322221524683,
          1551.132994878322,
          1549.1337839891364,
          1547.1345896863177,
          1545.1354121712718,
          1543.1362516454055,
          1541.1371083101244,
          1539.1379823668349,
          1537.1388740169432,
          1535.1397834618556,
          1533.1407109029778,
          1531.1416565417169,
          1529.1426205794785,
          1527.1436032176682,
          1572.0870071057686,
          1570.0871224067514,
          1568.0872403449948,
          1566.087360960851,
          1564.0874842946705,
          1562.0876103868052,
          1540.0891909896432,
          1538.0893533289825,
          1536.089518951207,
          1534.0896878966691,
          1532.089860205719,
          1530.0900359187096,
          1528.0902150759916,
          1526.0903977179166,
          1524.0905838848364,
          1522.0907736171025,
          1520.090966955066,
          1518.0911639390793,
          1516.091364609493,
          1514.0915690066597,
          1512.0917771709296,
          1698.9439821207802,
          1697.129439943379,
          1695.3137612153696,
          1693.4969512953498,
          1691.67901554192,
          1689.8599593136796,
          1688.0397879692275,
          1686.2185068671636,
          1684.3961213660873,
          1682.5726368245982,
          1680.7480586012955,
          1678.9223920547788,
          1677.0956425436475,
          1675.267815426501,
          1673.4389160619394,
          1671.6089498085612,
          1669.7779220249663,
          1662.4433027604086,
          1660.6070477047222,
          1658.7697632704158,
          1656.9314548160887,
          1655.0921277003406,
          1653.2517872817712,
          1651.4104389189793
         ]
        }
       ],
       "layout": {
        "coloraxis": {
         "colorbar": {
          "title": {
           "text": "color"
          }
         },
         "colorscale": [
          [
           0,
           "#440154"
          ],
          [
           0.1111111111111111,
           "#482878"
          ],
          [
           0.2222222222222222,
           "#3e4989"
          ],
          [
           0.3333333333333333,
           "#31688e"
          ],
          [
           0.4444444444444444,
           "#26828e"
          ],
          [
           0.5555555555555556,
           "#1f9e89"
          ],
          [
           0.6666666666666666,
           "#35b779"
          ],
          [
           0.7777777777777778,
           "#6ece58"
          ],
          [
           0.8888888888888888,
           "#b5de2b"
          ],
          [
           1,
           "#fde725"
          ]
         ]
        },
        "legend": {
         "tracegroupgap": 0
        },
        "margin": {
         "b": 10,
         "l": 10,
         "r": 20,
         "t": 10
        },
        "scene": {
         "domain": {
          "x": [
           0,
           1
          ],
          "y": [
           0,
           1
          ]
         },
         "xaxis": {
          "nticks": 21,
          "range": [
           0,
           2100
          ],
          "title": {
           "text": "EAST_mid_tf"
          }
         },
         "yaxis": {
          "nticks": 15,
          "range": [
           0,
           1500
          ],
          "title": {
           "text": "NORTH_mid_tf"
          }
         },
         "zaxis": {
          "nticks": 18,
          "range": [
           0,
           1770
          ],
          "title": {
           "text": "RL_mid_tf"
          }
         }
        },
        "template": {
         "data": {
          "bar": [
           {
            "error_x": {
             "color": "#2a3f5f"
            },
            "error_y": {
             "color": "#2a3f5f"
            },
            "marker": {
             "line": {
              "color": "#E5ECF6",
              "width": 0.5
             },
             "pattern": {
              "fillmode": "overlay",
              "size": 10,
              "solidity": 0.2
             }
            },
            "type": "bar"
           }
          ],
          "barpolar": [
           {
            "marker": {
             "line": {
              "color": "#E5ECF6",
              "width": 0.5
             },
             "pattern": {
              "fillmode": "overlay",
              "size": 10,
              "solidity": 0.2
             }
            },
            "type": "barpolar"
           }
          ],
          "carpet": [
           {
            "aaxis": {
             "endlinecolor": "#2a3f5f",
             "gridcolor": "white",
             "linecolor": "white",
             "minorgridcolor": "white",
             "startlinecolor": "#2a3f5f"
            },
            "baxis": {
             "endlinecolor": "#2a3f5f",
             "gridcolor": "white",
             "linecolor": "white",
             "minorgridcolor": "white",
             "startlinecolor": "#2a3f5f"
            },
            "type": "carpet"
           }
          ],
          "choropleth": [
           {
            "colorbar": {
             "outlinewidth": 0,
             "ticks": ""
            },
            "type": "choropleth"
           }
          ],
          "contour": [
           {
            "colorbar": {
             "outlinewidth": 0,
             "ticks": ""
            },
            "colorscale": [
             [
              0,
              "#0d0887"
             ],
             [
              0.1111111111111111,
              "#46039f"
             ],
             [
              0.2222222222222222,
              "#7201a8"
             ],
             [
              0.3333333333333333,
              "#9c179e"
             ],
             [
              0.4444444444444444,
              "#bd3786"
             ],
             [
              0.5555555555555556,
              "#d8576b"
             ],
             [
              0.6666666666666666,
              "#ed7953"
             ],
             [
              0.7777777777777778,
              "#fb9f3a"
             ],
             [
              0.8888888888888888,
              "#fdca26"
             ],
             [
              1,
              "#f0f921"
             ]
            ],
            "type": "contour"
           }
          ],
          "contourcarpet": [
           {
            "colorbar": {
             "outlinewidth": 0,
             "ticks": ""
            },
            "type": "contourcarpet"
           }
          ],
          "heatmap": [
           {
            "colorbar": {
             "outlinewidth": 0,
             "ticks": ""
            },
            "colorscale": [
             [
              0,
              "#0d0887"
             ],
             [
              0.1111111111111111,
              "#46039f"
             ],
             [
              0.2222222222222222,
              "#7201a8"
             ],
             [
              0.3333333333333333,
              "#9c179e"
             ],
             [
              0.4444444444444444,
              "#bd3786"
             ],
             [
              0.5555555555555556,
              "#d8576b"
             ],
             [
              0.6666666666666666,
              "#ed7953"
             ],
             [
              0.7777777777777778,
              "#fb9f3a"
             ],
             [
              0.8888888888888888,
              "#fdca26"
             ],
             [
              1,
              "#f0f921"
             ]
            ],
            "type": "heatmap"
           }
          ],
          "heatmapgl": [
           {
            "colorbar": {
             "outlinewidth": 0,
             "ticks": ""
            },
            "colorscale": [
             [
              0,
              "#0d0887"
             ],
             [
              0.1111111111111111,
              "#46039f"
             ],
             [
              0.2222222222222222,
              "#7201a8"
             ],
             [
              0.3333333333333333,
              "#9c179e"
             ],
             [
              0.4444444444444444,
              "#bd3786"
             ],
             [
              0.5555555555555556,
              "#d8576b"
             ],
             [
              0.6666666666666666,
              "#ed7953"
             ],
             [
              0.7777777777777778,
              "#fb9f3a"
             ],
             [
              0.8888888888888888,
              "#fdca26"
             ],
             [
              1,
              "#f0f921"
             ]
            ],
            "type": "heatmapgl"
           }
          ],
          "histogram": [
           {
            "marker": {
             "pattern": {
              "fillmode": "overlay",
              "size": 10,
              "solidity": 0.2
             }
            },
            "type": "histogram"
           }
          ],
          "histogram2d": [
           {
            "colorbar": {
             "outlinewidth": 0,
             "ticks": ""
            },
            "colorscale": [
             [
              0,
              "#0d0887"
             ],
             [
              0.1111111111111111,
              "#46039f"
             ],
             [
              0.2222222222222222,
              "#7201a8"
             ],
             [
              0.3333333333333333,
              "#9c179e"
             ],
             [
              0.4444444444444444,
              "#bd3786"
             ],
             [
              0.5555555555555556,
              "#d8576b"
             ],
             [
              0.6666666666666666,
              "#ed7953"
             ],
             [
              0.7777777777777778,
              "#fb9f3a"
             ],
             [
              0.8888888888888888,
              "#fdca26"
             ],
             [
              1,
              "#f0f921"
             ]
            ],
            "type": "histogram2d"
           }
          ],
          "histogram2dcontour": [
           {
            "colorbar": {
             "outlinewidth": 0,
             "ticks": ""
            },
            "colorscale": [
             [
              0,
              "#0d0887"
             ],
             [
              0.1111111111111111,
              "#46039f"
             ],
             [
              0.2222222222222222,
              "#7201a8"
             ],
             [
              0.3333333333333333,
              "#9c179e"
             ],
             [
              0.4444444444444444,
              "#bd3786"
             ],
             [
              0.5555555555555556,
              "#d8576b"
             ],
             [
              0.6666666666666666,
              "#ed7953"
             ],
             [
              0.7777777777777778,
              "#fb9f3a"
             ],
             [
              0.8888888888888888,
              "#fdca26"
             ],
             [
              1,
              "#f0f921"
             ]
            ],
            "type": "histogram2dcontour"
           }
          ],
          "mesh3d": [
           {
            "colorbar": {
             "outlinewidth": 0,
             "ticks": ""
            },
            "type": "mesh3d"
           }
          ],
          "parcoords": [
           {
            "line": {
             "colorbar": {
              "outlinewidth": 0,
              "ticks": ""
             }
            },
            "type": "parcoords"
           }
          ],
          "pie": [
           {
            "automargin": true,
            "type": "pie"
           }
          ],
          "scatter": [
           {
            "fillpattern": {
             "fillmode": "overlay",
             "size": 10,
             "solidity": 0.2
            },
            "type": "scatter"
           }
          ],
          "scatter3d": [
           {
            "line": {
             "colorbar": {
              "outlinewidth": 0,
              "ticks": ""
             }
            },
            "marker": {
             "colorbar": {
              "outlinewidth": 0,
              "ticks": ""
             }
            },
            "type": "scatter3d"
           }
          ],
          "scattercarpet": [
           {
            "marker": {
             "colorbar": {
              "outlinewidth": 0,
              "ticks": ""
             }
            },
            "type": "scattercarpet"
           }
          ],
          "scattergeo": [
           {
            "marker": {
             "colorbar": {
              "outlinewidth": 0,
              "ticks": ""
             }
            },
            "type": "scattergeo"
           }
          ],
          "scattergl": [
           {
            "marker": {
             "colorbar": {
              "outlinewidth": 0,
              "ticks": ""
             }
            },
            "type": "scattergl"
           }
          ],
          "scattermapbox": [
           {
            "marker": {
             "colorbar": {
              "outlinewidth": 0,
              "ticks": ""
             }
            },
            "type": "scattermapbox"
           }
          ],
          "scatterpolar": [
           {
            "marker": {
             "colorbar": {
              "outlinewidth": 0,
              "ticks": ""
             }
            },
            "type": "scatterpolar"
           }
          ],
          "scatterpolargl": [
           {
            "marker": {
             "colorbar": {
              "outlinewidth": 0,
              "ticks": ""
             }
            },
            "type": "scatterpolargl"
           }
          ],
          "scatterternary": [
           {
            "marker": {
             "colorbar": {
              "outlinewidth": 0,
              "ticks": ""
             }
            },
            "type": "scatterternary"
           }
          ],
          "surface": [
           {
            "colorbar": {
             "outlinewidth": 0,
             "ticks": ""
            },
            "colorscale": [
             [
              0,
              "#0d0887"
             ],
             [
              0.1111111111111111,
              "#46039f"
             ],
             [
              0.2222222222222222,
              "#7201a8"
             ],
             [
              0.3333333333333333,
              "#9c179e"
             ],
             [
              0.4444444444444444,
              "#bd3786"
             ],
             [
              0.5555555555555556,
              "#d8576b"
             ],
             [
              0.6666666666666666,
              "#ed7953"
             ],
             [
              0.7777777777777778,
              "#fb9f3a"
             ],
             [
              0.8888888888888888,
              "#fdca26"
             ],
             [
              1,
              "#f0f921"
             ]
            ],
            "type": "surface"
           }
          ],
          "table": [
           {
            "cells": {
             "fill": {
              "color": "#EBF0F8"
             },
             "line": {
              "color": "white"
             }
            },
            "header": {
             "fill": {
              "color": "#C8D4E3"
             },
             "line": {
              "color": "white"
             }
            },
            "type": "table"
           }
          ]
         },
         "layout": {
          "annotationdefaults": {
           "arrowcolor": "#2a3f5f",
           "arrowhead": 0,
           "arrowwidth": 1
          },
          "autotypenumbers": "strict",
          "coloraxis": {
           "colorbar": {
            "outlinewidth": 0,
            "ticks": ""
           }
          },
          "colorscale": {
           "diverging": [
            [
             0,
             "#8e0152"
            ],
            [
             0.1,
             "#c51b7d"
            ],
            [
             0.2,
             "#de77ae"
            ],
            [
             0.3,
             "#f1b6da"
            ],
            [
             0.4,
             "#fde0ef"
            ],
            [
             0.5,
             "#f7f7f7"
            ],
            [
             0.6,
             "#e6f5d0"
            ],
            [
             0.7,
             "#b8e186"
            ],
            [
             0.8,
             "#7fbc41"
            ],
            [
             0.9,
             "#4d9221"
            ],
            [
             1,
             "#276419"
            ]
           ],
           "sequential": [
            [
             0,
             "#0d0887"
            ],
            [
             0.1111111111111111,
             "#46039f"
            ],
            [
             0.2222222222222222,
             "#7201a8"
            ],
            [
             0.3333333333333333,
             "#9c179e"
            ],
            [
             0.4444444444444444,
             "#bd3786"
            ],
            [
             0.5555555555555556,
             "#d8576b"
            ],
            [
             0.6666666666666666,
             "#ed7953"
            ],
            [
             0.7777777777777778,
             "#fb9f3a"
            ],
            [
             0.8888888888888888,
             "#fdca26"
            ],
            [
             1,
             "#f0f921"
            ]
           ],
           "sequentialminus": [
            [
             0,
             "#0d0887"
            ],
            [
             0.1111111111111111,
             "#46039f"
            ],
            [
             0.2222222222222222,
             "#7201a8"
            ],
            [
             0.3333333333333333,
             "#9c179e"
            ],
            [
             0.4444444444444444,
             "#bd3786"
            ],
            [
             0.5555555555555556,
             "#d8576b"
            ],
            [
             0.6666666666666666,
             "#ed7953"
            ],
            [
             0.7777777777777778,
             "#fb9f3a"
            ],
            [
             0.8888888888888888,
             "#fdca26"
            ],
            [
             1,
             "#f0f921"
            ]
           ]
          },
          "colorway": [
           "#636efa",
           "#EF553B",
           "#00cc96",
           "#ab63fa",
           "#FFA15A",
           "#19d3f3",
           "#FF6692",
           "#B6E880",
           "#FF97FF",
           "#FECB52"
          ],
          "font": {
           "color": "#2a3f5f"
          },
          "geo": {
           "bgcolor": "white",
           "lakecolor": "white",
           "landcolor": "#E5ECF6",
           "showlakes": true,
           "showland": true,
           "subunitcolor": "white"
          },
          "hoverlabel": {
           "align": "left"
          },
          "hovermode": "closest",
          "mapbox": {
           "style": "light"
          },
          "paper_bgcolor": "white",
          "plot_bgcolor": "#E5ECF6",
          "polar": {
           "angularaxis": {
            "gridcolor": "white",
            "linecolor": "white",
            "ticks": ""
           },
           "bgcolor": "#E5ECF6",
           "radialaxis": {
            "gridcolor": "white",
            "linecolor": "white",
            "ticks": ""
           }
          },
          "scene": {
           "xaxis": {
            "backgroundcolor": "#E5ECF6",
            "gridcolor": "white",
            "gridwidth": 2,
            "linecolor": "white",
            "showbackground": true,
            "ticks": "",
            "zerolinecolor": "white"
           },
           "yaxis": {
            "backgroundcolor": "#E5ECF6",
            "gridcolor": "white",
            "gridwidth": 2,
            "linecolor": "white",
            "showbackground": true,
            "ticks": "",
            "zerolinecolor": "white"
           },
           "zaxis": {
            "backgroundcolor": "#E5ECF6",
            "gridcolor": "white",
            "gridwidth": 2,
            "linecolor": "white",
            "showbackground": true,
            "ticks": "",
            "zerolinecolor": "white"
           }
          },
          "shapedefaults": {
           "line": {
            "color": "#2a3f5f"
           }
          },
          "ternary": {
           "aaxis": {
            "gridcolor": "white",
            "linecolor": "white",
            "ticks": ""
           },
           "baxis": {
            "gridcolor": "white",
            "linecolor": "white",
            "ticks": ""
           },
           "bgcolor": "#E5ECF6",
           "caxis": {
            "gridcolor": "white",
            "linecolor": "white",
            "ticks": ""
           }
          },
          "title": {
           "x": 0.05
          },
          "xaxis": {
           "automargin": true,
           "gridcolor": "white",
           "linecolor": "white",
           "ticks": "",
           "title": {
            "standoff": 15
           },
           "zerolinecolor": "white",
           "zerolinewidth": 2
          },
          "yaxis": {
           "automargin": true,
           "gridcolor": "white",
           "linecolor": "white",
           "ticks": "",
           "title": {
            "standoff": 15
           },
           "zerolinecolor": "white",
           "zerolinewidth": 2
          }
         }
        },
        "width": 700
       }
      }
     },
     "metadata": {},
     "output_type": "display_data"
    }
   ],
   "source": [
    "\n",
    "\n",
    "fig = px.scatter_3d(val_subset, x=val_subset['EAST_mid_tf'], y=val_subset['NORTH_mid_tf'], z=val_subset['RL_mid_tf'],\n",
    "              color=fw_mean_original, color_continuous_scale='viridis')\n",
    "\n",
    "\n",
    "\n",
    "\n",
    "fig.update_layout(\n",
    "    scene = dict(\n",
    "        xaxis = dict(nticks=21, range=[0,2100],),\n",
    "                     yaxis = dict(nticks=15, range=[0,1500],),\n",
    "                     zaxis = dict(nticks=18, range=[0,1770],),),\n",
    "    width=700,\n",
    "    margin=dict(r=20, l=10, b=10, t=10))\n",
    "\n",
    "fig.update_traces(marker_size = 4)\n",
    "\n",
    "fig.show()"
   ]
  },
  {
   "cell_type": "code",
   "execution_count": 734,
   "metadata": {},
   "outputs": [
    {
     "data": {
      "text/plain": [
       "(112,)"
      ]
     },
     "execution_count": 734,
     "metadata": {},
     "output_type": "execute_result"
    }
   ],
   "source": [
    "fw_mean_original =fw_mean_original.reshape(-1)\n",
    "np.shape(fw_mean_original)"
   ]
  }
 ],
 "metadata": {
  "kernelspec": {
   "display_name": "geostatistics",
   "language": "python",
   "name": "python3"
  },
  "language_info": {
   "codemirror_mode": {
    "name": "ipython",
    "version": 3
   },
   "file_extension": ".py",
   "mimetype": "text/x-python",
   "name": "python",
   "nbconvert_exporter": "python",
   "pygments_lexer": "ipython3",
   "version": "3.9.15"
  },
  "orig_nbformat": 4,
  "vscode": {
   "interpreter": {
    "hash": "2ccb270d9ab1df16f9dfe73e5aebe176e69ffa3d7c989d8cd2953f15d00abc82"
   }
  }
 },
 "nbformat": 4,
 "nbformat_minor": 2
}
